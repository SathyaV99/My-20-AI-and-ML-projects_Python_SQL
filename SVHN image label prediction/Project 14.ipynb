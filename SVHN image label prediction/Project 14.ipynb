{
 "cells": [
  {
   "cell_type": "markdown",
   "metadata": {
    "id": "33koOwFksgs_"
   },
   "source": [
    "<font size=\"4\"> <b> • DOMAIN: </b>Autonomous Vehicles</font>\n",
    "\n",
    "<font size=\"4\"> <b> • CONTEXT: </b>A Recognising multi-digit numbers in photographs captured at street level is an important component of modern-day map making. A classic\n",
    "example of a corpus of such street-level photographs is Google’s Street View imagery composed of hundreds of millions of geo-located 360-degree panoramic\n",
    "images.\n",
    "\n",
    "The ability to automatically transcribe an address number from a geo-located patch of pixels and associate the transcribed number with a known street address\n",
    "helps pinpoint, with a high degree of accuracy, the location of the building it represents. More broadly, recognising numbers in photographs is a problem of interest to the optical character recognition community.\n",
    "While OCR on constrained domains like document processing is well studied, arbitrary multi-character text recognition in photographs is still highly challenging. \n",
    "\n",
    "This difficulty arises due to the wide variability in the visual appearance of text in the wild on account of a large range of fonts, colours, styles, orientations, and character arrangements.\n",
    "\n",
    "The recognition problem is further complicated by environmental factors such as lighting, shadows, specularity, and occlusions as well as by image acquisition\n",
    "factors such as resolution, motion, and focus blurs. In this project, we will use the dataset with images centred around a single digit (many of the images do contain some distractors at the sides). Although we are taking a sample of the data which is simpler, it is more complex than MNIST because of the distractors.\n",
    "\n",
    "<font size=\"4\"> <b> • DATA DESCRIPTION: </b>The SVHN is a real-world image dataset for developing machine learning and object recognition algorithms with the minimal requirement on data formatting but comes from a significantly harder, unsolved, real-world problem (recognising digits and numbers in natural scene images). SVHN is obtained from house numbers in Google Street View images.\n",
    "\n",
    "![image.png](data:image/png;base64,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)\n",
    "\n",
    "Where the labels for each of this image are the prominent number in that image i.e. 2,6,7 and 4 respectively.The dataset has been provided in the form of h5py files.\n",
    "    "
   ]
  },
  {
   "cell_type": "markdown",
   "metadata": {
    "id": "fPAZNVQ8sgtH"
   },
   "source": [
    "<font size=\"4\"> <b> • PROJECT OBJECTIVE: </b> We will build a digit classifier on the SVHN (Street View Housing Number) dataset.\n",
    "\n",
    "<b>Steps and tasks:</b>\n",
    "    \n",
    "1. Import data. \n",
    "2. Data pre-processing and visualisation.\n",
    "3. Design, train, tune and test a neural network regressor.\n",
    "*  Hint: Use best approach to refine and tune the data or the model. Be highly experimental here.\n",
    "4. Plot the training loss, validation loss vs number of epochs and training accuracy, validation accuracy vs number of epochs plot and write your\n",
    "observations on the same. </font>\n"
   ]
  },
  {
   "cell_type": "markdown",
   "metadata": {
    "id": "9ffh1tTQgcu9"
   },
   "source": [
    "<font size=\"5\"><p style=\"color:black\"> <b> 1. Import data:</p></font>"
   ]
  },
  {
   "cell_type": "code",
   "execution_count": 47,
   "metadata": {
    "colab": {
     "base_uri": "https://localhost:8080/"
    },
    "id": "XRAjzIoXju0D",
    "outputId": "9fb66ba9-fddc-4a55-cce3-0143e7af1cb1"
   },
   "outputs": [
    {
     "name": "stdout",
     "output_type": "stream",
     "text": [
      "Mounted at /gdrive\n",
      "/gdrive\n"
     ]
    }
   ],
   "source": [
    "from google.colab import drive\n",
    "drive.mount('/gdrive')\n",
    "%cd /gdrive"
   ]
  },
  {
   "cell_type": "code",
   "execution_count": 48,
   "metadata": {
    "colab": {
     "base_uri": "https://localhost:8080/"
    },
    "id": "jwcwytsuYV6-",
    "outputId": "6978fc42-b0b3-441b-815b-227893b520f2"
   },
   "outputs": [
    {
     "data": {
      "text/plain": [
       "<KeysViewHDF5 ['X_test', 'X_train', 'X_val', 'y_test', 'y_train', 'y_val']>"
      ]
     },
     "execution_count": 48,
     "metadata": {},
     "output_type": "execute_result"
    }
   ],
   "source": [
    "import warnings\n",
    "warnings.filterwarnings('ignore')\n",
    "import h5py\n",
    "# Open the file as readonly\n",
    "data = h5py.File('/gdrive/MyDrive/Colab Notebooks/Part - 4 - Autonomous_Vehicles_SVHN_single_grey1.h5', 'r')\n",
    "data.keys()"
   ]
  },
  {
   "cell_type": "markdown",
   "metadata": {
    "id": "fjGW7t7VB9YD"
   },
   "source": [
    "<font size=\"5\"><p style=\"color:black\"> <b> 2. Data pre-processing and visualisation:</p></font>"
   ]
  },
  {
   "cell_type": "code",
   "execution_count": 49,
   "metadata": {
    "id": "RF7AjRuArVgG"
   },
   "outputs": [],
   "source": [
    "X_train = data['X_train'][:]\n",
    "y_train = data['y_train'][:]\n",
    "X_test = data['X_test'][:]\n",
    "y_test = data['y_test'][:]"
   ]
  },
  {
   "cell_type": "code",
   "execution_count": 50,
   "metadata": {
    "colab": {
     "base_uri": "https://localhost:8080/"
    },
    "id": "SvDG7JZ_YVz2",
    "outputId": "a7dbc9dc-57d7-432b-ffb4-1bf4cf12537d"
   },
   "outputs": [
    {
     "data": {
      "text/plain": [
       "array([[86.9591, 87.0685, 88.3735, ..., 91.8014, 89.7477, 92.5302],\n",
       "       [86.688 , 86.9114, 87.4337, ..., 90.7306, 87.204 , 88.5629],\n",
       "       [85.9654, 85.8145, 85.9239, ..., 63.8626, 59.8199, 54.8805],\n",
       "       ...,\n",
       "       [90.2236, 91.0448, 93.4637, ..., 55.3535, 48.5822, 44.0557],\n",
       "       [90.6427, 90.4039, 90.937 , ..., 78.2696, 77.4977, 74.27  ],\n",
       "       [88.0236, 88.1977, 86.6709, ..., 75.2206, 76.6396, 79.2865]],\n",
       "      dtype=float32)"
      ]
     },
     "execution_count": 50,
     "metadata": {},
     "output_type": "execute_result"
    }
   ],
   "source": [
    "X_train[1]"
   ]
  },
  {
   "cell_type": "code",
   "execution_count": 51,
   "metadata": {
    "colab": {
     "base_uri": "https://localhost:8080/"
    },
    "id": "O0KvM5XHYVpO",
    "outputId": "8c5acb9c-a734-48c9-ad78-c7c0d75ecbe1"
   },
   "outputs": [
    {
     "data": {
      "text/plain": [
       "array([2, 6, 7, ..., 7, 0, 4], dtype=uint8)"
      ]
     },
     "execution_count": 51,
     "metadata": {},
     "output_type": "execute_result"
    }
   ],
   "source": [
    "y_train"
   ]
  },
  {
   "cell_type": "code",
   "execution_count": 52,
   "metadata": {
    "colab": {
     "base_uri": "https://localhost:8080/"
    },
    "id": "8j6OXE31BGiJ",
    "outputId": "0b04acab-ae89-426f-c7bb-480dbc1cc737"
   },
   "outputs": [
    {
     "data": {
      "text/plain": [
       "array([[115.1609, 114.161 , 113.1611, ..., 112.0302, 112.6711, 112.7851],\n",
       "       [110.5743, 110.2754, 108.9766, ..., 106.1448, 106.7857, 107.0137],\n",
       "       [102.8031, 102.5042, 101.7924, ...,  95.776 ,  95.531 ,  95.645 ],\n",
       "       ...,\n",
       "       [169.8457, 170.6176, 167.8028, ...,  45.1708,  55.6967,  62.81  ],\n",
       "       [157.7329, 157.6189, 153.8042, ...,  42.9538,  50.1811,  56.1805],\n",
       "       [150.3207, 149.2068, 144.8051, ...,  42.1388,  48.2522,  53.2517]],\n",
       "      dtype=float32)"
      ]
     },
     "execution_count": 52,
     "metadata": {},
     "output_type": "execute_result"
    }
   ],
   "source": [
    "X_test[1]"
   ]
  },
  {
   "cell_type": "code",
   "execution_count": 53,
   "metadata": {
    "colab": {
     "base_uri": "https://localhost:8080/"
    },
    "id": "ztx6T6R4BHgV",
    "outputId": "80b51a93-474c-40c6-b142-315754de334b"
   },
   "outputs": [
    {
     "data": {
      "text/plain": [
       "array([1, 7, 2, ..., 7, 9, 2], dtype=uint8)"
      ]
     },
     "execution_count": 53,
     "metadata": {},
     "output_type": "execute_result"
    }
   ],
   "source": [
    "y_test"
   ]
  },
  {
   "cell_type": "code",
   "execution_count": 54,
   "metadata": {
    "colab": {
     "base_uri": "https://localhost:8080/",
     "height": 303
    },
    "id": "Uj2lyWiPSHGw",
    "outputId": "118bf607-4960-401e-8efa-8282ffd257da"
   },
   "outputs": [
    {
     "name": "stdout",
     "output_type": "stream",
     "text": [
      "Label: 2\n"
     ]
    },
    {
     "data": {
      "text/plain": [
       "<matplotlib.image.AxesImage at 0x7f0b659f0d90>"
      ]
     },
     "execution_count": 54,
     "metadata": {},
     "output_type": "execute_result"
    },
    {
     "data": {
      "image/png": "[encoded data removed]",
      "text/plain": [
       "<Figure size 432x288 with 1 Axes>"
      ]
     },
     "metadata": {
      "needs_background": "light"
     },
     "output_type": "display_data"
    }
   ],
   "source": [
    "import matplotlib.pyplot as plt\n",
    "%matplotlib inline\n",
    "print(\"Label: {}\".format(y_train[0]))\n",
    "plt.imshow(X_train[0], cmap='gray')"
   ]
  },
  {
   "cell_type": "code",
   "execution_count": 55,
   "metadata": {
    "colab": {
     "base_uri": "https://localhost:8080/",
     "height": 303
    },
    "id": "Vs4LnHRkSNjS",
    "outputId": "c83b1944-680f-4311-82af-c2f1747900ec"
   },
   "outputs": [
    {
     "name": "stdout",
     "output_type": "stream",
     "text": [
      "Label: 1\n"
     ]
    },
    {
     "data": {
      "text/plain": [
       "<matplotlib.image.AxesImage at 0x7f0b68ab8c90>"
      ]
     },
     "execution_count": 55,
     "metadata": {},
     "output_type": "execute_result"
    },
    {
     "data": {
      "image/png": "[encoded data removed]",
      "text/plain": [
       "<Figure size 432x288 with 1 Axes>"
      ]
     },
     "metadata": {
      "needs_background": "light"
     },
     "output_type": "display_data"
    }
   ],
   "source": [
    "import matplotlib.pyplot as plt\n",
    "%matplotlib inline\n",
    "print(\"Label: {}\".format(y_test[0]))\n",
    "plt.imshow(X_test[0], cmap='gray')"
   ]
  },
  {
   "cell_type": "code",
   "execution_count": 56,
   "metadata": {
    "colab": {
     "base_uri": "https://localhost:8080/"
    },
    "id": "vj76MQsXS5LK",
    "outputId": "ae552548-19de-4165-eb9f-6c5cffd607bc"
   },
   "outputs": [
    {
     "data": {
      "text/plain": [
       "(18000, 32, 32)"
      ]
     },
     "execution_count": 56,
     "metadata": {},
     "output_type": "execute_result"
    }
   ],
   "source": [
    "X_test.shape"
   ]
  },
  {
   "cell_type": "code",
   "execution_count": 57,
   "metadata": {
    "colab": {
     "base_uri": "https://localhost:8080/"
    },
    "id": "iXIdawjzR9w2",
    "outputId": "90d044eb-b5a4-4616-b45e-c6e18a284f71"
   },
   "outputs": [
    {
     "name": "stdout",
     "output_type": "stream",
     "text": [
      "(42000, 32, 32)\n",
      "(42000,)\n",
      "(18000, 32, 32)\n",
      "(18000,)\n"
     ]
    }
   ],
   "source": [
    "print(X_train.shape)\n",
    "print(y_train.shape)\n",
    "print(X_test.shape)\n",
    "print(y_test.shape)"
   ]
  },
  {
   "cell_type": "markdown",
   "metadata": {
    "id": "Zma5zGMYQOSL"
   },
   "source": [
    "Reshaping the dataset from 3D tensor to 2D"
   ]
  },
  {
   "cell_type": "code",
   "execution_count": 58,
   "metadata": {
    "colab": {
     "base_uri": "https://localhost:8080/"
    },
    "id": "XVjwF10jS64z",
    "outputId": "3e6552d8-6c13-4344-9c7a-b577ae3ecf46"
   },
   "outputs": [
    {
     "name": "stdout",
     "output_type": "stream",
     "text": [
      "(42000, 1024)\n",
      "(18000, 1024)\n"
     ]
    }
   ],
   "source": [
    "X_train = X_train.reshape(42000, 1024)\n",
    "print(X_train.shape)\n",
    "X_test = X_test.reshape(18000, 1024)\n",
    "print(X_test.shape)"
   ]
  },
  {
   "cell_type": "markdown",
   "metadata": {
    "id": "7Or_tyvAQZ68"
   },
   "source": [
    "Normalizing the dataset by dividing by the 255 as grayscale images take values upto 255"
   ]
  },
  {
   "cell_type": "code",
   "execution_count": 59,
   "metadata": {
    "colab": {
     "base_uri": "https://localhost:8080/"
    },
    "id": "xRcbUUvEbWxW",
    "outputId": "e9e5027b-5bfc-420c-f368-c41bc143dde4"
   },
   "outputs": [
    {
     "name": "stdout",
     "output_type": "stream",
     "text": [
      "254.9745\n",
      "0.0\n",
      "0.9999\n",
      "0.0\n"
     ]
    }
   ],
   "source": [
    "print(X_train.max())\n",
    "print(X_train.min())\n",
    "\n",
    "X_train = X_train / 255.0\n",
    "X_test = X_test / 255.0\n",
    "\n",
    "print(X_train.max())\n",
    "print(X_train.min())"
   ]
  },
  {
   "cell_type": "markdown",
   "metadata": {
    "id": "Jtz8RfcDQ8Ud"
   },
   "source": [
    "One hot encoding to convert class vector to binary class matrix"
   ]
  },
  {
   "cell_type": "code",
   "execution_count": 60,
   "metadata": {
    "colab": {
     "base_uri": "https://localhost:8080/"
    },
    "id": "jFD4QCEqbYoG",
    "outputId": "c78629a6-6a73-4c54-ca75-44703b285dfa"
   },
   "outputs": [
    {
     "name": "stdout",
     "output_type": "stream",
     "text": [
      "1\n",
      "[0. 1. 0. 0. 0. 0. 0. 0. 0. 0.]\n"
     ]
    }
   ],
   "source": [
    "print(y_train[10])\n",
    "y_train = tf.keras.utils.to_categorical(y_train, num_classes=10)\n",
    "y_test = tf.keras.utils.to_categorical(y_test, num_classes=10)\n",
    "print(y_train[10])"
   ]
  },
  {
   "cell_type": "markdown",
   "metadata": {
    "id": "nARjb1_QRYzF"
   },
   "source": [
    "First 10 images and their labels"
   ]
  },
  {
   "cell_type": "code",
   "execution_count": 61,
   "metadata": {
    "colab": {
     "base_uri": "https://localhost:8080/",
     "height": 261
    },
    "id": "ETCIdz_lkrZK",
    "outputId": "bcbc1e49-49b5-47d6-d2ab-61f8d42df651"
   },
   "outputs": [
    {
     "name": "stdout",
     "output_type": "stream",
     "text": [
      "label for each of the below image: 2\n",
      "label for each of the below image: 6\n",
      "label for each of the below image: 7\n",
      "label for each of the below image: 4\n",
      "label for each of the below image: 4\n",
      "label for each of the below image: 0\n",
      "label for each of the below image: 3\n",
      "label for each of the below image: 0\n",
      "label for each of the below image: 7\n",
      "label for each of the below image: 3\n"
     ]
    },
    {
     "data": {
      "image/png": "[encoded data removed]",
      "text/plain": [
       "<Figure size 720x72 with 10 Axes>"
      ]
     },
     "metadata": {
      "needs_background": "light"
     },
     "output_type": "display_data"
    }
   ],
   "source": [
    "import numpy as np\n",
    "\n",
    "# visualizing the first 10 images in the dataset and their labels\n",
    "%matplotlib inline\n",
    "import matplotlib.pyplot as plt\n",
    "plt.figure(figsize=(10, 1))\n",
    "for i in range(10):\n",
    "    plt.subplot(1, 10, i+1)\n",
    "    plt.imshow(X_train[i].reshape(32, 32), cmap=\"gray\")\n",
    "    plt.axis('off')\n",
    "    print('label for each of the below image: %s' % (np.argmax(y_train[0:10][i])))\n",
    "plt.show()\n"
   ]
  },
  {
   "cell_type": "markdown",
   "metadata": {
    "id": "i1v7LeoZaAm0"
   },
   "source": [
    "<font size=\"5\"><p style=\"color:black\"> <b>3. Designing, training, tuning and testing a neural network image classifier:</p></font>"
   ]
  },
  {
   "cell_type": "markdown",
   "metadata": {
    "id": "8T-CxTUi6mSl"
   },
   "source": [
    "Creating a neural network image classifier model "
   ]
  },
  {
   "cell_type": "code",
   "execution_count": 62,
   "metadata": {
    "id": "aW9XNkG4TxSn"
   },
   "outputs": [],
   "source": [
    "from tensorflow.keras.models import Sequential\n",
    "from tensorflow.keras.layers import Dense\n",
    "from tensorflow.keras import regularizers, optimizers\n",
    "\n",
    "def train_and_test_loop(iterations, lr, Lambda, verb=True):\n",
    "\n",
    "    ## hyperparameters\n",
    "    iterations = iterations\n",
    "    learning_rate = lr\n",
    "    hidden_nodes = 256\n",
    "    output_nodes = 10\n",
    "        \n",
    "    model = Sequential()\n",
    "    model.add(Dense(hidden_nodes, input_shape=((1024,)), activation='relu'))\n",
    "    model.add(Dense(hidden_nodes, activation='relu'))\n",
    "    model.add(Dense(output_nodes, activation='softmax', kernel_regularizer=regularizers.l2(Lambda)))\n",
    "    \n",
    "    sgd = optimizers.SGD(lr=learning_rate, decay=1e-6, momentum=0.9)\n",
    "    # Compile model\n",
    "    model.compile(loss='categorical_crossentropy', optimizer=sgd, metrics=['accuracy'])\n",
    "    \n",
    "    # Fit the model\n",
    "    model.fit(X_train, y_train, epochs=iterations, batch_size=1000, verbose= 1)"
   ]
  },
  {
   "cell_type": "markdown",
   "metadata": {
    "id": "5MfGJZfT6zIb"
   },
   "source": [
    "Creating the neural network classifier model same as above but we have a consolidated accuracy instead of after every time frame or epoch"
   ]
  },
  {
   "cell_type": "code",
   "execution_count": 63,
   "metadata": {
    "id": "6NRNXfvHv5hq"
   },
   "outputs": [],
   "source": [
    "def train_and_test_loop1(iterations, lr, Lambda, verb=True):\n",
    "\n",
    "    ## hyperparameters\n",
    "    iterations = iterations\n",
    "    learning_rate = lr\n",
    "    hidden_nodes = 256\n",
    "    output_nodes = 10\n",
    "\n",
    "    model = Sequential()\n",
    "    model.add(Dense(hidden_nodes, input_shape=(1024,), activation='relu'))\n",
    "    model.add(Dense(hidden_nodes, activation='relu'))\n",
    "    model.add(Dense(output_nodes, activation='softmax', kernel_regularizer=regularizers.l2(Lambda)))\n",
    "    \n",
    "    sgd = optimizers.SGD(lr=learning_rate, decay=1e-6, momentum=0.9)\n",
    "    # Compile model\n",
    "    model.compile(loss='categorical_crossentropy', optimizer=sgd, metrics=['accuracy'])\n",
    "    \n",
    "    # Fit the model\n",
    "    model.fit(X_train, y_train, epochs=iterations, batch_size=1000, verbose= 1)\n",
    "    score = model.evaluate(X_train, y_train, verbose=0)\n",
    "    \n",
    "    return score"
   ]
  },
  {
   "cell_type": "markdown",
   "metadata": {
    "id": "8UvnRj-iPVYW"
   },
   "source": [
    "Checking for loss when Lambda (regularization ) = 0 "
   ]
  },
  {
   "cell_type": "code",
   "execution_count": 64,
   "metadata": {
    "colab": {
     "base_uri": "https://localhost:8080/"
    },
    "id": "ABFcWLR7DHQw",
    "outputId": "4e9a3a4b-8e3c-4ea3-9cda-8ebb208a541a"
   },
   "outputs": [
    {
     "name": "stdout",
     "output_type": "stream",
     "text": [
      "Epoch 1/15\n",
      "42/42 [==============================] - 2s 38ms/step - loss: 2.3869 - accuracy: 0.0951\n",
      "Epoch 2/15\n",
      "42/42 [==============================] - 2s 38ms/step - loss: 2.3786 - accuracy: 0.0949\n",
      "Epoch 3/15\n",
      "42/42 [==============================] - 2s 38ms/step - loss: 2.3711 - accuracy: 0.0942\n",
      "Epoch 4/15\n",
      "42/42 [==============================] - 2s 36ms/step - loss: 2.3644 - accuracy: 0.0941\n",
      "Epoch 5/15\n",
      "42/42 [==============================] - 2s 37ms/step - loss: 2.3585 - accuracy: 0.0938\n",
      "Epoch 6/15\n",
      "42/42 [==============================] - 2s 37ms/step - loss: 2.3533 - accuracy: 0.0944\n",
      "Epoch 7/15\n",
      "42/42 [==============================] - 2s 37ms/step - loss: 2.3487 - accuracy: 0.0946\n",
      "Epoch 8/15\n",
      "42/42 [==============================] - 2s 36ms/step - loss: 2.3446 - accuracy: 0.0945\n",
      "Epoch 9/15\n",
      "42/42 [==============================] - 2s 37ms/step - loss: 2.3410 - accuracy: 0.0943\n",
      "Epoch 10/15\n",
      "42/42 [==============================] - 2s 36ms/step - loss: 2.3378 - accuracy: 0.0946\n",
      "Epoch 11/15\n",
      "42/42 [==============================] - 2s 36ms/step - loss: 2.3348 - accuracy: 0.0945\n",
      "Epoch 12/15\n",
      "42/42 [==============================] - 2s 36ms/step - loss: 2.3322 - accuracy: 0.0949\n",
      "Epoch 13/15\n",
      "42/42 [==============================] - 2s 36ms/step - loss: 2.3299 - accuracy: 0.0951\n",
      "Epoch 14/15\n",
      "42/42 [==============================] - 2s 36ms/step - loss: 2.3278 - accuracy: 0.0957\n",
      "Epoch 15/15\n",
      "42/42 [==============================] - 2s 36ms/step - loss: 2.3258 - accuracy: 0.0957\n"
     ]
    }
   ],
   "source": [
    "lr = 0.00001\n",
    "Lambda = 0\n",
    "train_and_test_loop(15, lr, Lambda)"
   ]
  },
  {
   "cell_type": "markdown",
   "metadata": {
    "id": "NWRDlvilPnLI"
   },
   "source": [
    "Checking for loss when Lambda (regularization) = 1e^3"
   ]
  },
  {
   "cell_type": "code",
   "execution_count": 65,
   "metadata": {
    "colab": {
     "base_uri": "https://localhost:8080/"
    },
    "id": "xYLb2wReDLXs",
    "outputId": "9283068c-a27e-45c1-8d9c-35dae41924a2"
   },
   "outputs": [
    {
     "name": "stdout",
     "output_type": "stream",
     "text": [
      "Epoch 1/15\n",
      "42/42 [==============================] - 2s 36ms/step - loss: 3354.6477 - accuracy: 0.0949\n",
      "Epoch 2/15\n",
      "42/42 [==============================] - 2s 36ms/step - loss: 40.9002 - accuracy: 0.0965\n",
      "Epoch 3/15\n",
      "42/42 [==============================] - 2s 36ms/step - loss: 2.6203 - accuracy: 0.0934\n",
      "Epoch 4/15\n",
      "42/42 [==============================] - 2s 37ms/step - loss: 2.3053 - accuracy: 0.1013\n",
      "Epoch 5/15\n",
      "42/42 [==============================] - 2s 36ms/step - loss: 2.3026 - accuracy: 0.1001\n",
      "Epoch 6/15\n",
      "42/42 [==============================] - 2s 37ms/step - loss: 2.3026 - accuracy: 0.1009\n",
      "Epoch 7/15\n",
      "42/42 [==============================] - 2s 36ms/step - loss: 2.3026 - accuracy: 0.1019\n",
      "Epoch 8/15\n",
      "42/42 [==============================] - 2s 44ms/step - loss: 2.3026 - accuracy: 0.1031\n",
      "Epoch 9/15\n",
      "42/42 [==============================] - 3s 67ms/step - loss: 2.3026 - accuracy: 0.1009\n",
      "Epoch 10/15\n",
      "42/42 [==============================] - 2s 38ms/step - loss: 2.3026 - accuracy: 0.1019\n",
      "Epoch 11/15\n",
      "42/42 [==============================] - 2s 38ms/step - loss: 2.3026 - accuracy: 0.1017\n",
      "Epoch 12/15\n",
      "42/42 [==============================] - 2s 40ms/step - loss: 2.3026 - accuracy: 0.1019\n",
      "Epoch 13/15\n",
      "42/42 [==============================] - 2s 38ms/step - loss: 2.3026 - accuracy: 0.1019\n",
      "Epoch 14/15\n",
      "42/42 [==============================] - 2s 39ms/step - loss: 2.3026 - accuracy: 0.1013\n",
      "Epoch 15/15\n",
      "42/42 [==============================] - 2s 39ms/step - loss: 2.3026 - accuracy: 0.1020\n"
     ]
    }
   ],
   "source": [
    "lr = 0.00001\n",
    "Lambda = 1e3\n",
    "train_and_test_loop(15, lr, Lambda)"
   ]
  },
  {
   "cell_type": "markdown",
   "metadata": {
    "id": "XtlxtaUDRAb2"
   },
   "source": [
    "Checking for loss when Lambda (regularization) = 1e^7"
   ]
  },
  {
   "cell_type": "code",
   "execution_count": 66,
   "metadata": {
    "colab": {
     "base_uri": "https://localhost:8080/"
    },
    "id": "R4bg2NKeP-p8",
    "outputId": "50e1bc8b-cc97-4e36-e40c-194718c6d036"
   },
   "outputs": [
    {
     "name": "stdout",
     "output_type": "stream",
     "text": [
      "Epoch 1/15\n",
      "42/42 [==============================] - 2s 39ms/step - loss: 2.3832 - accuracy: 0.1013\n",
      "Epoch 2/15\n",
      "42/42 [==============================] - 2s 39ms/step - loss: 2.3740 - accuracy: 0.1006\n",
      "Epoch 3/15\n",
      "42/42 [==============================] - 2s 40ms/step - loss: 2.3658 - accuracy: 0.0999\n",
      "Epoch 4/15\n",
      "42/42 [==============================] - 2s 40ms/step - loss: 2.3589 - accuracy: 0.0993\n",
      "Epoch 5/15\n",
      "42/42 [==============================] - 2s 39ms/step - loss: 2.3531 - accuracy: 0.0990\n",
      "Epoch 6/15\n",
      "42/42 [==============================] - 2s 39ms/step - loss: 2.3480 - accuracy: 0.0983\n",
      "Epoch 7/15\n",
      "42/42 [==============================] - 2s 39ms/step - loss: 2.3437 - accuracy: 0.0975\n",
      "Epoch 8/15\n",
      "42/42 [==============================] - 2s 39ms/step - loss: 2.3399 - accuracy: 0.0976\n",
      "Epoch 9/15\n",
      "42/42 [==============================] - 2s 40ms/step - loss: 2.3366 - accuracy: 0.0971\n",
      "Epoch 10/15\n",
      "42/42 [==============================] - 2s 38ms/step - loss: 2.3337 - accuracy: 0.0968\n",
      "Epoch 11/15\n",
      "42/42 [==============================] - 1s 35ms/step - loss: 2.3311 - accuracy: 0.0965\n",
      "Epoch 12/15\n",
      "42/42 [==============================] - 2s 36ms/step - loss: 2.3289 - accuracy: 0.0960\n",
      "Epoch 13/15\n",
      "42/42 [==============================] - 2s 37ms/step - loss: 2.3268 - accuracy: 0.0955\n",
      "Epoch 14/15\n",
      "42/42 [==============================] - 2s 37ms/step - loss: 2.3250 - accuracy: 0.0954\n",
      "Epoch 15/15\n",
      "42/42 [==============================] - 2s 36ms/step - loss: 2.3234 - accuracy: 0.0954\n"
     ]
    }
   ],
   "source": [
    "lr = 0.00001\n",
    "Lambda = 1e-7\n",
    "train_and_test_loop(15, lr, Lambda)"
   ]
  },
  {
   "cell_type": "markdown",
   "metadata": {
    "id": "sqqNyckwUs4e"
   },
   "source": [
    "Finding the best accuracy and loss using for loop in 10 iterations "
   ]
  },
  {
   "cell_type": "code",
   "execution_count": 67,
   "metadata": {
    "colab": {
     "base_uri": "https://localhost:8080/"
    },
    "id": "6QFBt2p9Kf8y",
    "outputId": "897e969c-358c-4b85-d7a1-7fcf7d94d7c0"
   },
   "outputs": [
    {
     "name": "stdout",
     "output_type": "stream",
     "text": [
      "Epoch 1/100\n",
      "42/42 [==============================] - 2s 36ms/step - loss: 2.2878 - accuracy: 0.1465\n",
      "Epoch 2/100\n",
      "42/42 [==============================] - 2s 37ms/step - loss: 2.0869 - accuracy: 0.3200\n",
      "Epoch 3/100\n",
      "42/42 [==============================] - 2s 36ms/step - loss: 1.7488 - accuracy: 0.4203\n",
      "Epoch 4/100\n",
      "42/42 [==============================] - 2s 37ms/step - loss: 1.4190 - accuracy: 0.5404\n",
      "Epoch 5/100\n",
      "42/42 [==============================] - 2s 37ms/step - loss: 1.2621 - accuracy: 0.5986\n",
      "Epoch 6/100\n",
      "42/42 [==============================] - 2s 37ms/step - loss: 1.1783 - accuracy: 0.6281\n",
      "Epoch 7/100\n",
      "42/42 [==============================] - 2s 36ms/step - loss: 1.1342 - accuracy: 0.6398\n",
      "Epoch 8/100\n",
      "42/42 [==============================] - 2s 36ms/step - loss: 1.0935 - accuracy: 0.6533\n",
      "Epoch 9/100\n",
      "42/42 [==============================] - 2s 36ms/step - loss: 0.9804 - accuracy: 0.6952\n",
      "Epoch 10/100\n",
      "42/42 [==============================] - 2s 36ms/step - loss: 0.9822 - accuracy: 0.6938\n",
      "Epoch 11/100\n",
      "42/42 [==============================] - 2s 36ms/step - loss: 0.9264 - accuracy: 0.7123\n",
      "Epoch 12/100\n",
      "42/42 [==============================] - 2s 36ms/step - loss: 0.8952 - accuracy: 0.7216\n",
      "Epoch 13/100\n",
      "42/42 [==============================] - 2s 36ms/step - loss: 0.8828 - accuracy: 0.7283\n",
      "Epoch 14/100\n",
      "42/42 [==============================] - 2s 36ms/step - loss: 0.8169 - accuracy: 0.7468\n",
      "Epoch 15/100\n",
      "42/42 [==============================] - 1s 36ms/step - loss: 0.7895 - accuracy: 0.7568\n",
      "Epoch 16/100\n",
      "42/42 [==============================] - 2s 36ms/step - loss: 0.7520 - accuracy: 0.7701\n",
      "Epoch 17/100\n",
      "42/42 [==============================] - 2s 36ms/step - loss: 0.7459 - accuracy: 0.7704\n",
      "Epoch 18/100\n",
      "42/42 [==============================] - 2s 36ms/step - loss: 0.7238 - accuracy: 0.7765\n",
      "Epoch 19/100\n",
      "42/42 [==============================] - 2s 36ms/step - loss: 0.7297 - accuracy: 0.7745\n",
      "Epoch 20/100\n",
      "42/42 [==============================] - 2s 36ms/step - loss: 0.7081 - accuracy: 0.7839\n",
      "Epoch 21/100\n",
      "42/42 [==============================] - 2s 36ms/step - loss: 0.6727 - accuracy: 0.7940\n",
      "Epoch 22/100\n",
      "42/42 [==============================] - 1s 35ms/step - loss: 0.6674 - accuracy: 0.7974\n",
      "Epoch 23/100\n",
      "42/42 [==============================] - 2s 36ms/step - loss: 0.6429 - accuracy: 0.8048\n",
      "Epoch 24/100\n",
      "42/42 [==============================] - 2s 36ms/step - loss: 0.6452 - accuracy: 0.8018\n",
      "Epoch 25/100\n",
      "42/42 [==============================] - 2s 36ms/step - loss: 0.6272 - accuracy: 0.8071\n",
      "Epoch 26/100\n",
      "42/42 [==============================] - 2s 36ms/step - loss: 0.6189 - accuracy: 0.8088\n",
      "Epoch 27/100\n",
      "42/42 [==============================] - 2s 36ms/step - loss: 0.5969 - accuracy: 0.8181\n",
      "Epoch 28/100\n",
      "42/42 [==============================] - 2s 36ms/step - loss: 0.6112 - accuracy: 0.8123\n",
      "Epoch 29/100\n",
      "42/42 [==============================] - 2s 36ms/step - loss: 0.5800 - accuracy: 0.8253\n",
      "Epoch 30/100\n",
      "42/42 [==============================] - 2s 36ms/step - loss: 0.5947 - accuracy: 0.8183\n",
      "Epoch 31/100\n",
      "42/42 [==============================] - 2s 36ms/step - loss: 0.5694 - accuracy: 0.8258\n",
      "Epoch 32/100\n",
      "42/42 [==============================] - 2s 36ms/step - loss: 0.5362 - accuracy: 0.8370\n",
      "Epoch 33/100\n",
      "42/42 [==============================] - 2s 36ms/step - loss: 0.5379 - accuracy: 0.8368\n",
      "Epoch 34/100\n",
      "42/42 [==============================] - 2s 37ms/step - loss: 0.5433 - accuracy: 0.8338\n",
      "Epoch 35/100\n",
      "42/42 [==============================] - 2s 37ms/step - loss: 0.5390 - accuracy: 0.8346\n",
      "Epoch 36/100\n",
      "42/42 [==============================] - 2s 37ms/step - loss: 0.5279 - accuracy: 0.8388\n",
      "Epoch 37/100\n",
      "42/42 [==============================] - 2s 37ms/step - loss: 0.5380 - accuracy: 0.8331\n",
      "Epoch 38/100\n",
      "42/42 [==============================] - 1s 35ms/step - loss: 0.4993 - accuracy: 0.8477\n",
      "Epoch 39/100\n",
      "42/42 [==============================] - 1s 36ms/step - loss: 0.5064 - accuracy: 0.8446\n",
      "Epoch 40/100\n",
      "42/42 [==============================] - 2s 36ms/step - loss: 0.4931 - accuracy: 0.8496\n",
      "Epoch 41/100\n",
      "42/42 [==============================] - 2s 36ms/step - loss: 0.4864 - accuracy: 0.8501\n",
      "Epoch 42/100\n",
      "42/42 [==============================] - 2s 36ms/step - loss: 0.4947 - accuracy: 0.8469\n",
      "Epoch 43/100\n",
      "42/42 [==============================] - 2s 36ms/step - loss: 0.4751 - accuracy: 0.8531\n",
      "Epoch 44/100\n",
      "42/42 [==============================] - 2s 36ms/step - loss: 0.4666 - accuracy: 0.8573\n",
      "Epoch 45/100\n",
      "42/42 [==============================] - 2s 36ms/step - loss: 0.4594 - accuracy: 0.8584\n",
      "Epoch 46/100\n",
      "42/42 [==============================] - 2s 52ms/step - loss: 0.4565 - accuracy: 0.8587\n",
      "Epoch 47/100\n",
      "42/42 [==============================] - 2s 48ms/step - loss: 0.4566 - accuracy: 0.8578\n",
      "Epoch 48/100\n",
      "42/42 [==============================] - 2s 36ms/step - loss: 0.4371 - accuracy: 0.8671\n",
      "Epoch 49/100\n",
      "42/42 [==============================] - 2s 36ms/step - loss: 0.4328 - accuracy: 0.8656\n",
      "Epoch 50/100\n",
      "42/42 [==============================] - 1s 36ms/step - loss: 0.4245 - accuracy: 0.8693\n",
      "Epoch 51/100\n",
      "42/42 [==============================] - 2s 36ms/step - loss: 0.4279 - accuracy: 0.8675\n",
      "Epoch 52/100\n",
      "42/42 [==============================] - 2s 36ms/step - loss: 0.4345 - accuracy: 0.8640\n",
      "Epoch 53/100\n",
      "42/42 [==============================] - 2s 36ms/step - loss: 0.4345 - accuracy: 0.8659\n",
      "Epoch 54/100\n",
      "42/42 [==============================] - 2s 36ms/step - loss: 0.4200 - accuracy: 0.8720\n",
      "Epoch 55/100\n",
      "42/42 [==============================] - 2s 36ms/step - loss: 0.4156 - accuracy: 0.8705\n",
      "Epoch 56/100\n",
      "42/42 [==============================] - 2s 36ms/step - loss: 0.4135 - accuracy: 0.8722\n",
      "Epoch 57/100\n",
      "42/42 [==============================] - 2s 37ms/step - loss: 0.4025 - accuracy: 0.8762\n",
      "Epoch 58/100\n",
      "42/42 [==============================] - 2s 36ms/step - loss: 0.3924 - accuracy: 0.8797\n",
      "Epoch 59/100\n",
      "42/42 [==============================] - 2s 36ms/step - loss: 0.3835 - accuracy: 0.8818\n",
      "Epoch 60/100\n",
      "42/42 [==============================] - 2s 36ms/step - loss: 0.3841 - accuracy: 0.8804\n",
      "Epoch 61/100\n",
      "42/42 [==============================] - 2s 36ms/step - loss: 0.3834 - accuracy: 0.8811\n",
      "Epoch 62/100\n",
      "42/42 [==============================] - 2s 36ms/step - loss: 0.3743 - accuracy: 0.8842\n",
      "Epoch 63/100\n",
      "42/42 [==============================] - 2s 36ms/step - loss: 0.3583 - accuracy: 0.8904\n",
      "Epoch 64/100\n",
      "42/42 [==============================] - 2s 36ms/step - loss: 0.3668 - accuracy: 0.8851\n",
      "Epoch 65/100\n",
      "42/42 [==============================] - 2s 36ms/step - loss: 0.3747 - accuracy: 0.8842\n",
      "Epoch 66/100\n",
      "42/42 [==============================] - 2s 36ms/step - loss: 0.3600 - accuracy: 0.8893\n",
      "Epoch 67/100\n",
      "42/42 [==============================] - 2s 36ms/step - loss: 0.3560 - accuracy: 0.8890\n",
      "Epoch 68/100\n",
      "42/42 [==============================] - 2s 36ms/step - loss: 0.3610 - accuracy: 0.8867\n",
      "Epoch 69/100\n",
      "42/42 [==============================] - 2s 36ms/step - loss: 0.3430 - accuracy: 0.8927\n",
      "Epoch 70/100\n",
      "42/42 [==============================] - 2s 36ms/step - loss: 0.3480 - accuracy: 0.8920\n",
      "Epoch 71/100\n",
      "42/42 [==============================] - 2s 36ms/step - loss: 0.3592 - accuracy: 0.8867\n",
      "Epoch 72/100\n",
      "42/42 [==============================] - 2s 36ms/step - loss: 0.3535 - accuracy: 0.8896\n",
      "Epoch 73/100\n",
      "42/42 [==============================] - 2s 36ms/step - loss: 0.3455 - accuracy: 0.8928\n",
      "Epoch 74/100\n",
      "42/42 [==============================] - 2s 36ms/step - loss: 0.3328 - accuracy: 0.8965\n",
      "Epoch 75/100\n",
      "42/42 [==============================] - 2s 36ms/step - loss: 0.3382 - accuracy: 0.8931\n",
      "Epoch 76/100\n",
      "42/42 [==============================] - 2s 36ms/step - loss: 0.3281 - accuracy: 0.8979\n",
      "Epoch 77/100\n",
      "42/42 [==============================] - 2s 36ms/step - loss: 0.3233 - accuracy: 0.8985\n",
      "Epoch 78/100\n",
      "42/42 [==============================] - 2s 36ms/step - loss: 0.3162 - accuracy: 0.9020\n",
      "Epoch 79/100\n",
      "42/42 [==============================] - 2s 36ms/step - loss: 0.3188 - accuracy: 0.9008\n",
      "Epoch 80/100\n",
      "42/42 [==============================] - 2s 37ms/step - loss: 0.3019 - accuracy: 0.9060\n",
      "Epoch 81/100\n",
      "42/42 [==============================] - 2s 36ms/step - loss: 0.3128 - accuracy: 0.9014\n",
      "Epoch 82/100\n",
      "42/42 [==============================] - 2s 36ms/step - loss: 0.3040 - accuracy: 0.9052\n",
      "Epoch 83/100\n",
      "42/42 [==============================] - 2s 36ms/step - loss: 0.3192 - accuracy: 0.8990\n",
      "Epoch 84/100\n",
      "42/42 [==============================] - 2s 36ms/step - loss: 0.2932 - accuracy: 0.9098\n",
      "Epoch 85/100\n",
      "42/42 [==============================] - 2s 36ms/step - loss: 0.2835 - accuracy: 0.9115\n",
      "Epoch 86/100\n",
      "42/42 [==============================] - 2s 36ms/step - loss: 0.2913 - accuracy: 0.9093\n",
      "Epoch 87/100\n",
      "42/42 [==============================] - 2s 36ms/step - loss: 0.2887 - accuracy: 0.9106\n",
      "Epoch 88/100\n",
      "42/42 [==============================] - 2s 36ms/step - loss: 0.2920 - accuracy: 0.9085\n",
      "Epoch 89/100\n",
      "42/42 [==============================] - 2s 36ms/step - loss: 0.2898 - accuracy: 0.9096\n",
      "Epoch 90/100\n",
      "42/42 [==============================] - 2s 36ms/step - loss: 0.2709 - accuracy: 0.9152\n",
      "Epoch 91/100\n",
      "42/42 [==============================] - 2s 37ms/step - loss: 0.2703 - accuracy: 0.9155\n",
      "Epoch 92/100\n",
      "42/42 [==============================] - 2s 37ms/step - loss: 0.3094 - accuracy: 0.9005\n",
      "Epoch 93/100\n",
      "42/42 [==============================] - 2s 37ms/step - loss: 0.2998 - accuracy: 0.9046\n",
      "Epoch 94/100\n",
      "42/42 [==============================] - 2s 36ms/step - loss: 0.2798 - accuracy: 0.9118\n",
      "Epoch 95/100\n",
      "42/42 [==============================] - 2s 36ms/step - loss: 0.2755 - accuracy: 0.9131\n",
      "Epoch 96/100\n",
      "42/42 [==============================] - 2s 36ms/step - loss: 0.2699 - accuracy: 0.9147\n",
      "Epoch 97/100\n",
      "42/42 [==============================] - 2s 37ms/step - loss: 0.2674 - accuracy: 0.9155\n",
      "Epoch 98/100\n",
      "42/42 [==============================] - 2s 36ms/step - loss: 0.2549 - accuracy: 0.9200\n",
      "Epoch 99/100\n",
      "42/42 [==============================] - 2s 37ms/step - loss: 0.2414 - accuracy: 0.9267\n",
      "Epoch 100/100\n",
      "42/42 [==============================] - 2s 36ms/step - loss: 0.2448 - accuracy: 0.9251\n",
      "Try 1/100: Best_val_acc: [0.2797783315181732, 0.9109285473823547], lr: 0.0574635592068484, Lambda: 3.915066293100568e-07\n",
      "\n",
      "Epoch 1/100\n",
      "42/42 [==============================] - 2s 36ms/step - loss: nan - accuracy: 0.1004\n",
      "Epoch 2/100\n",
      "42/42 [==============================] - 2s 36ms/step - loss: nan - accuracy: 0.0997\n",
      "Epoch 3/100\n",
      "42/42 [==============================] - 2s 36ms/step - loss: nan - accuracy: 0.0997\n",
      "Epoch 4/100\n",
      "42/42 [==============================] - 2s 37ms/step - loss: nan - accuracy: 0.0997\n",
      "Epoch 5/100\n",
      "42/42 [==============================] - 2s 36ms/step - loss: nan - accuracy: 0.0997\n",
      "Epoch 6/100\n",
      "42/42 [==============================] - 2s 36ms/step - loss: nan - accuracy: 0.0997\n",
      "Epoch 7/100\n",
      "42/42 [==============================] - 2s 36ms/step - loss: nan - accuracy: 0.0997\n",
      "Epoch 8/100\n",
      "42/42 [==============================] - 2s 36ms/step - loss: nan - accuracy: 0.0997\n",
      "Epoch 9/100\n",
      "42/42 [==============================] - 2s 37ms/step - loss: nan - accuracy: 0.0997\n",
      "Epoch 10/100\n",
      "42/42 [==============================] - 2s 37ms/step - loss: nan - accuracy: 0.0997\n",
      "Epoch 11/100\n",
      "42/42 [==============================] - 2s 36ms/step - loss: nan - accuracy: 0.0997\n",
      "Epoch 12/100\n",
      "42/42 [==============================] - 2s 36ms/step - loss: nan - accuracy: 0.0997\n",
      "Epoch 13/100\n",
      "42/42 [==============================] - 2s 36ms/step - loss: nan - accuracy: 0.0997\n",
      "Epoch 14/100\n",
      "42/42 [==============================] - 2s 37ms/step - loss: nan - accuracy: 0.0997\n",
      "Epoch 15/100\n",
      "42/42 [==============================] - 2s 36ms/step - loss: nan - accuracy: 0.0997\n",
      "Epoch 16/100\n",
      "42/42 [==============================] - 2s 37ms/step - loss: nan - accuracy: 0.0997\n",
      "Epoch 17/100\n",
      "42/42 [==============================] - 2s 37ms/step - loss: nan - accuracy: 0.0997\n",
      "Epoch 18/100\n",
      "42/42 [==============================] - 2s 36ms/step - loss: nan - accuracy: 0.0997\n",
      "Epoch 19/100\n",
      "42/42 [==============================] - 2s 36ms/step - loss: nan - accuracy: 0.0997\n",
      "Epoch 20/100\n",
      "42/42 [==============================] - 2s 36ms/step - loss: nan - accuracy: 0.0997\n",
      "Epoch 21/100\n",
      "42/42 [==============================] - 2s 37ms/step - loss: nan - accuracy: 0.0997\n",
      "Epoch 22/100\n",
      "42/42 [==============================] - 2s 36ms/step - loss: nan - accuracy: 0.0997\n",
      "Epoch 23/100\n",
      "42/42 [==============================] - 2s 36ms/step - loss: nan - accuracy: 0.0997\n",
      "Epoch 24/100\n",
      "42/42 [==============================] - 2s 36ms/step - loss: nan - accuracy: 0.0997\n",
      "Epoch 25/100\n",
      "42/42 [==============================] - 2s 36ms/step - loss: nan - accuracy: 0.0997\n",
      "Epoch 26/100\n",
      "42/42 [==============================] - 2s 36ms/step - loss: nan - accuracy: 0.0997\n",
      "Epoch 27/100\n",
      "42/42 [==============================] - 2s 36ms/step - loss: nan - accuracy: 0.0997\n",
      "Epoch 28/100\n",
      "42/42 [==============================] - 2s 36ms/step - loss: nan - accuracy: 0.0997\n",
      "Epoch 29/100\n",
      "42/42 [==============================] - 2s 38ms/step - loss: nan - accuracy: 0.0997\n",
      "Epoch 30/100\n",
      "42/42 [==============================] - 2s 36ms/step - loss: nan - accuracy: 0.0997\n",
      "Epoch 31/100\n",
      "42/42 [==============================] - 2s 36ms/step - loss: nan - accuracy: 0.0997\n",
      "Epoch 32/100\n",
      "42/42 [==============================] - 2s 37ms/step - loss: nan - accuracy: 0.0997\n",
      "Epoch 33/100\n",
      "42/42 [==============================] - 2s 36ms/step - loss: nan - accuracy: 0.0997\n",
      "Epoch 34/100\n",
      "42/42 [==============================] - 2s 36ms/step - loss: nan - accuracy: 0.0997\n",
      "Epoch 35/100\n",
      "42/42 [==============================] - 2s 36ms/step - loss: nan - accuracy: 0.0997\n",
      "Epoch 36/100\n",
      "42/42 [==============================] - 2s 36ms/step - loss: nan - accuracy: 0.0997\n",
      "Epoch 37/100\n",
      "42/42 [==============================] - 2s 36ms/step - loss: nan - accuracy: 0.0997\n",
      "Epoch 38/100\n",
      "42/42 [==============================] - 2s 36ms/step - loss: nan - accuracy: 0.0997\n",
      "Epoch 39/100\n",
      "42/42 [==============================] - 2s 36ms/step - loss: nan - accuracy: 0.0997\n",
      "Epoch 40/100\n",
      "42/42 [==============================] - 2s 37ms/step - loss: nan - accuracy: 0.0997\n",
      "Epoch 41/100\n",
      "42/42 [==============================] - 2s 37ms/step - loss: nan - accuracy: 0.0997\n",
      "Epoch 42/100\n",
      "42/42 [==============================] - 2s 36ms/step - loss: nan - accuracy: 0.0997\n",
      "Epoch 43/100\n",
      "42/42 [==============================] - 2s 37ms/step - loss: nan - accuracy: 0.0997\n",
      "Epoch 44/100\n",
      "42/42 [==============================] - 2s 36ms/step - loss: nan - accuracy: 0.0997\n",
      "Epoch 45/100\n",
      "42/42 [==============================] - 2s 37ms/step - loss: nan - accuracy: 0.0997\n",
      "Epoch 46/100\n",
      "42/42 [==============================] - 2s 36ms/step - loss: nan - accuracy: 0.0997\n",
      "Epoch 47/100\n",
      "42/42 [==============================] - 2s 36ms/step - loss: nan - accuracy: 0.0997\n",
      "Epoch 48/100\n",
      "42/42 [==============================] - 2s 36ms/step - loss: nan - accuracy: 0.0997\n",
      "Epoch 49/100\n",
      "42/42 [==============================] - 2s 36ms/step - loss: nan - accuracy: 0.0997\n",
      "Epoch 50/100\n",
      "42/42 [==============================] - 2s 36ms/step - loss: nan - accuracy: 0.0997\n",
      "Epoch 51/100\n",
      "42/42 [==============================] - 2s 36ms/step - loss: nan - accuracy: 0.0997\n",
      "Epoch 52/100\n",
      "42/42 [==============================] - 2s 36ms/step - loss: nan - accuracy: 0.0997\n",
      "Epoch 53/100\n",
      "42/42 [==============================] - 2s 37ms/step - loss: nan - accuracy: 0.0997\n",
      "Epoch 54/100\n",
      "42/42 [==============================] - 2s 36ms/step - loss: nan - accuracy: 0.0997\n",
      "Epoch 55/100\n",
      "42/42 [==============================] - 2s 37ms/step - loss: nan - accuracy: 0.0997\n",
      "Epoch 56/100\n",
      "42/42 [==============================] - 2s 36ms/step - loss: nan - accuracy: 0.0997\n",
      "Epoch 57/100\n",
      "42/42 [==============================] - 2s 36ms/step - loss: nan - accuracy: 0.0997\n",
      "Epoch 58/100\n",
      "42/42 [==============================] - 2s 36ms/step - loss: nan - accuracy: 0.0997\n",
      "Epoch 59/100\n",
      "42/42 [==============================] - 2s 36ms/step - loss: nan - accuracy: 0.0997\n",
      "Epoch 60/100\n",
      "42/42 [==============================] - 2s 36ms/step - loss: nan - accuracy: 0.0997\n",
      "Epoch 61/100\n",
      "42/42 [==============================] - 2s 39ms/step - loss: nan - accuracy: 0.0997\n",
      "Epoch 62/100\n",
      "42/42 [==============================] - 2s 37ms/step - loss: nan - accuracy: 0.0997\n",
      "Epoch 63/100\n",
      "42/42 [==============================] - 2s 38ms/step - loss: nan - accuracy: 0.0997\n",
      "Epoch 64/100\n",
      "42/42 [==============================] - 2s 36ms/step - loss: nan - accuracy: 0.0997\n",
      "Epoch 65/100\n",
      "42/42 [==============================] - 2s 37ms/step - loss: nan - accuracy: 0.0997\n",
      "Epoch 66/100\n",
      "42/42 [==============================] - 2s 36ms/step - loss: nan - accuracy: 0.0997\n",
      "Epoch 67/100\n",
      "42/42 [==============================] - 2s 38ms/step - loss: nan - accuracy: 0.0997\n",
      "Epoch 68/100\n",
      "42/42 [==============================] - 2s 37ms/step - loss: nan - accuracy: 0.0997\n",
      "Epoch 69/100\n",
      "42/42 [==============================] - 2s 38ms/step - loss: nan - accuracy: 0.0997\n",
      "Epoch 70/100\n",
      "42/42 [==============================] - 2s 39ms/step - loss: nan - accuracy: 0.0997\n",
      "Epoch 71/100\n",
      "42/42 [==============================] - 2s 38ms/step - loss: nan - accuracy: 0.0997\n",
      "Epoch 72/100\n",
      "42/42 [==============================] - 2s 39ms/step - loss: nan - accuracy: 0.0997\n",
      "Epoch 73/100\n",
      "42/42 [==============================] - 2s 39ms/step - loss: nan - accuracy: 0.0997\n",
      "Epoch 74/100\n",
      "42/42 [==============================] - 2s 37ms/step - loss: nan - accuracy: 0.0997\n",
      "Epoch 75/100\n",
      "42/42 [==============================] - 2s 38ms/step - loss: nan - accuracy: 0.0997\n",
      "Epoch 76/100\n",
      "42/42 [==============================] - 2s 37ms/step - loss: nan - accuracy: 0.0997\n",
      "Epoch 77/100\n",
      "42/42 [==============================] - 2s 36ms/step - loss: nan - accuracy: 0.0997\n",
      "Epoch 78/100\n",
      "42/42 [==============================] - 2s 37ms/step - loss: nan - accuracy: 0.0997\n",
      "Epoch 79/100\n",
      "42/42 [==============================] - 2s 37ms/step - loss: nan - accuracy: 0.0997\n",
      "Epoch 80/100\n",
      "42/42 [==============================] - 2s 37ms/step - loss: nan - accuracy: 0.0997\n",
      "Epoch 81/100\n",
      "42/42 [==============================] - 2s 38ms/step - loss: nan - accuracy: 0.0997\n",
      "Epoch 82/100\n",
      "42/42 [==============================] - 2s 38ms/step - loss: nan - accuracy: 0.0997\n",
      "Epoch 83/100\n",
      "42/42 [==============================] - 2s 39ms/step - loss: nan - accuracy: 0.0997\n",
      "Epoch 84/100\n",
      "42/42 [==============================] - 2s 38ms/step - loss: nan - accuracy: 0.0997\n",
      "Epoch 85/100\n",
      "42/42 [==============================] - 2s 39ms/step - loss: nan - accuracy: 0.0997\n",
      "Epoch 86/100\n",
      "42/42 [==============================] - 2s 39ms/step - loss: nan - accuracy: 0.0997\n",
      "Epoch 87/100\n",
      "42/42 [==============================] - 2s 39ms/step - loss: nan - accuracy: 0.0997\n",
      "Epoch 88/100\n",
      "42/42 [==============================] - 2s 39ms/step - loss: nan - accuracy: 0.0997\n",
      "Epoch 89/100\n",
      "42/42 [==============================] - 2s 39ms/step - loss: nan - accuracy: 0.0997\n",
      "Epoch 90/100\n",
      "42/42 [==============================] - 2s 39ms/step - loss: nan - accuracy: 0.0997\n",
      "Epoch 91/100\n",
      "42/42 [==============================] - 2s 40ms/step - loss: nan - accuracy: 0.0997\n",
      "Epoch 92/100\n",
      "42/42 [==============================] - 2s 41ms/step - loss: nan - accuracy: 0.0997\n",
      "Epoch 93/100\n",
      "42/42 [==============================] - 2s 41ms/step - loss: nan - accuracy: 0.0997\n",
      "Epoch 94/100\n",
      "42/42 [==============================] - 2s 39ms/step - loss: nan - accuracy: 0.0997\n",
      "Epoch 95/100\n",
      "42/42 [==============================] - 2s 40ms/step - loss: nan - accuracy: 0.0997\n",
      "Epoch 96/100\n",
      "42/42 [==============================] - 2s 41ms/step - loss: nan - accuracy: 0.0997\n",
      "Epoch 97/100\n",
      "42/42 [==============================] - 2s 41ms/step - loss: nan - accuracy: 0.0997\n",
      "Epoch 98/100\n",
      "42/42 [==============================] - 2s 40ms/step - loss: nan - accuracy: 0.0997\n",
      "Epoch 99/100\n",
      "42/42 [==============================] - 2s 39ms/step - loss: nan - accuracy: 0.0997\n",
      "Epoch 100/100\n",
      "42/42 [==============================] - 2s 39ms/step - loss: nan - accuracy: 0.0997\n",
      "Try 2/100: Best_val_acc: [nan, 0.09966666996479034], lr: 35.9473662888921, Lambda: 0.002281454009034665\n",
      "\n",
      "Epoch 1/100\n",
      "42/42 [==============================] - 2s 40ms/step - loss: 2.3158 - accuracy: 0.1104\n",
      "Epoch 2/100\n",
      "42/42 [==============================] - 2s 40ms/step - loss: 2.2968 - accuracy: 0.1293\n",
      "Epoch 3/100\n",
      "42/42 [==============================] - 2s 42ms/step - loss: 2.2904 - accuracy: 0.1437\n",
      "Epoch 4/100\n",
      "42/42 [==============================] - 2s 40ms/step - loss: 2.2848 - accuracy: 0.1603\n",
      "Epoch 5/100\n",
      "42/42 [==============================] - 2s 38ms/step - loss: 2.2790 - accuracy: 0.1725\n",
      "Epoch 6/100\n",
      "42/42 [==============================] - 2s 39ms/step - loss: 2.2725 - accuracy: 0.1922\n",
      "Epoch 7/100\n",
      "42/42 [==============================] - 2s 38ms/step - loss: 2.2654 - accuracy: 0.2084\n",
      "Epoch 8/100\n",
      "42/42 [==============================] - 2s 38ms/step - loss: 2.2574 - accuracy: 0.2291\n",
      "Epoch 9/100\n",
      "42/42 [==============================] - 2s 37ms/step - loss: 2.2484 - accuracy: 0.2494\n",
      "Epoch 10/100\n",
      "42/42 [==============================] - 2s 37ms/step - loss: 2.2385 - accuracy: 0.2676\n",
      "Epoch 11/100\n",
      "42/42 [==============================] - 2s 38ms/step - loss: 2.2270 - accuracy: 0.2897\n",
      "Epoch 12/100\n",
      "42/42 [==============================] - 2s 38ms/step - loss: 2.2136 - accuracy: 0.3134\n",
      "Epoch 13/100\n",
      "42/42 [==============================] - 2s 39ms/step - loss: 2.1989 - accuracy: 0.3253\n",
      "Epoch 14/100\n",
      "42/42 [==============================] - 2s 39ms/step - loss: 2.1814 - accuracy: 0.3430\n",
      "Epoch 15/100\n",
      "42/42 [==============================] - 2s 38ms/step - loss: 2.1610 - accuracy: 0.3675\n",
      "Epoch 16/100\n",
      "42/42 [==============================] - 2s 38ms/step - loss: 2.1389 - accuracy: 0.3755\n",
      "Epoch 17/100\n",
      "42/42 [==============================] - 2s 39ms/step - loss: 2.1140 - accuracy: 0.3906\n",
      "Epoch 18/100\n",
      "42/42 [==============================] - 2s 38ms/step - loss: 2.0858 - accuracy: 0.4043\n",
      "Epoch 19/100\n",
      "42/42 [==============================] - 2s 37ms/step - loss: 2.0551 - accuracy: 0.4156\n",
      "Epoch 20/100\n",
      "42/42 [==============================] - 2s 42ms/step - loss: 2.0221 - accuracy: 0.4278\n",
      "Epoch 21/100\n",
      "42/42 [==============================] - 2s 41ms/step - loss: 1.9868 - accuracy: 0.4393\n",
      "Epoch 22/100\n",
      "42/42 [==============================] - 2s 40ms/step - loss: 1.9494 - accuracy: 0.4465\n",
      "Epoch 23/100\n",
      "42/42 [==============================] - 2s 41ms/step - loss: 1.9103 - accuracy: 0.4677\n",
      "Epoch 24/100\n",
      "42/42 [==============================] - 2s 40ms/step - loss: 1.8716 - accuracy: 0.4768\n",
      "Epoch 25/100\n",
      "42/42 [==============================] - 2s 40ms/step - loss: 1.8330 - accuracy: 0.4900\n",
      "Epoch 26/100\n",
      "42/42 [==============================] - 2s 39ms/step - loss: 1.7945 - accuracy: 0.5010\n",
      "Epoch 27/100\n",
      "42/42 [==============================] - 2s 38ms/step - loss: 1.7579 - accuracy: 0.5100\n",
      "Epoch 28/100\n",
      "42/42 [==============================] - 2s 39ms/step - loss: 1.7222 - accuracy: 0.5224\n",
      "Epoch 29/100\n",
      "42/42 [==============================] - 2s 40ms/step - loss: 1.6890 - accuracy: 0.5326\n",
      "Epoch 30/100\n",
      "42/42 [==============================] - 2s 41ms/step - loss: 1.6559 - accuracy: 0.5378\n",
      "Epoch 31/100\n",
      "42/42 [==============================] - 2s 40ms/step - loss: 1.6230 - accuracy: 0.5582\n",
      "Epoch 32/100\n",
      "42/42 [==============================] - 2s 40ms/step - loss: 1.5928 - accuracy: 0.5642\n",
      "Epoch 33/100\n",
      "42/42 [==============================] - 2s 39ms/step - loss: 1.5643 - accuracy: 0.5740\n",
      "Epoch 34/100\n",
      "42/42 [==============================] - 2s 39ms/step - loss: 1.5370 - accuracy: 0.5780\n",
      "Epoch 35/100\n",
      "42/42 [==============================] - 2s 37ms/step - loss: 1.5088 - accuracy: 0.5890\n",
      "Epoch 36/100\n",
      "42/42 [==============================] - 2s 40ms/step - loss: 1.4854 - accuracy: 0.5893\n",
      "Epoch 37/100\n",
      "42/42 [==============================] - 2s 39ms/step - loss: 1.4605 - accuracy: 0.5975\n",
      "Epoch 38/100\n",
      "42/42 [==============================] - 2s 39ms/step - loss: 1.4352 - accuracy: 0.6046\n",
      "Epoch 39/100\n",
      "42/42 [==============================] - 2s 39ms/step - loss: 1.4139 - accuracy: 0.6106\n",
      "Epoch 40/100\n",
      "42/42 [==============================] - 2s 38ms/step - loss: 1.3916 - accuracy: 0.6154\n",
      "Epoch 41/100\n",
      "42/42 [==============================] - 2s 38ms/step - loss: 1.3715 - accuracy: 0.6219\n",
      "Epoch 42/100\n",
      "42/42 [==============================] - 2s 38ms/step - loss: 1.3528 - accuracy: 0.6225\n",
      "Epoch 43/100\n",
      "42/42 [==============================] - 2s 37ms/step - loss: 1.3323 - accuracy: 0.6304\n",
      "Epoch 44/100\n",
      "42/42 [==============================] - 2s 37ms/step - loss: 1.3142 - accuracy: 0.6338\n",
      "Epoch 45/100\n",
      "42/42 [==============================] - 2s 38ms/step - loss: 1.3003 - accuracy: 0.6346\n",
      "Epoch 46/100\n",
      "42/42 [==============================] - 2s 37ms/step - loss: 1.2819 - accuracy: 0.6402\n",
      "Epoch 47/100\n",
      "42/42 [==============================] - 2s 37ms/step - loss: 1.2630 - accuracy: 0.6458\n",
      "Epoch 48/100\n",
      "42/42 [==============================] - 2s 37ms/step - loss: 1.2487 - accuracy: 0.6472\n",
      "Epoch 49/100\n",
      "42/42 [==============================] - 2s 40ms/step - loss: 1.2338 - accuracy: 0.6514\n",
      "Epoch 50/100\n",
      "42/42 [==============================] - 2s 37ms/step - loss: 1.2195 - accuracy: 0.6554\n",
      "Epoch 51/100\n",
      "42/42 [==============================] - 2s 40ms/step - loss: 1.2051 - accuracy: 0.6607\n",
      "Epoch 52/100\n",
      "42/42 [==============================] - 2s 41ms/step - loss: 1.1930 - accuracy: 0.6615\n",
      "Epoch 53/100\n",
      "42/42 [==============================] - 2s 37ms/step - loss: 1.1809 - accuracy: 0.6665\n",
      "Epoch 54/100\n",
      "42/42 [==============================] - 2s 38ms/step - loss: 1.1691 - accuracy: 0.6689\n",
      "Epoch 55/100\n",
      "42/42 [==============================] - 2s 38ms/step - loss: 1.1573 - accuracy: 0.6702\n",
      "Epoch 56/100\n",
      "42/42 [==============================] - 2s 38ms/step - loss: 1.1457 - accuracy: 0.6733\n",
      "Epoch 57/100\n",
      "42/42 [==============================] - 2s 38ms/step - loss: 1.1356 - accuracy: 0.6760\n",
      "Epoch 58/100\n",
      "42/42 [==============================] - 2s 37ms/step - loss: 1.1275 - accuracy: 0.6766\n",
      "Epoch 59/100\n",
      "42/42 [==============================] - 2s 37ms/step - loss: 1.1151 - accuracy: 0.6820\n",
      "Epoch 60/100\n",
      "42/42 [==============================] - 2s 36ms/step - loss: 1.1053 - accuracy: 0.6838\n",
      "Epoch 61/100\n",
      "42/42 [==============================] - 2s 37ms/step - loss: 1.0956 - accuracy: 0.6866\n",
      "Epoch 62/100\n",
      "42/42 [==============================] - 2s 38ms/step - loss: 1.0877 - accuracy: 0.6878\n",
      "Epoch 63/100\n",
      "42/42 [==============================] - 2s 37ms/step - loss: 1.0781 - accuracy: 0.6906\n",
      "Epoch 64/100\n",
      "42/42 [==============================] - 2s 36ms/step - loss: 1.0696 - accuracy: 0.6925\n",
      "Epoch 65/100\n",
      "42/42 [==============================] - 2s 37ms/step - loss: 1.0626 - accuracy: 0.6953\n",
      "Epoch 66/100\n",
      "42/42 [==============================] - 2s 37ms/step - loss: 1.0508 - accuracy: 0.6975\n",
      "Epoch 67/100\n",
      "42/42 [==============================] - 2s 37ms/step - loss: 1.0441 - accuracy: 0.6996\n",
      "Epoch 68/100\n",
      "42/42 [==============================] - 2s 37ms/step - loss: 1.0414 - accuracy: 0.7006\n",
      "Epoch 69/100\n",
      "42/42 [==============================] - 2s 37ms/step - loss: 1.0289 - accuracy: 0.7054\n",
      "Epoch 70/100\n",
      "42/42 [==============================] - 2s 37ms/step - loss: 1.0218 - accuracy: 0.7054\n",
      "Epoch 71/100\n",
      "42/42 [==============================] - 2s 37ms/step - loss: 1.0162 - accuracy: 0.7078\n",
      "Epoch 72/100\n",
      "42/42 [==============================] - 2s 37ms/step - loss: 1.0093 - accuracy: 0.7086\n",
      "Epoch 73/100\n",
      "42/42 [==============================] - 2s 37ms/step - loss: 0.9987 - accuracy: 0.7119\n",
      "Epoch 74/100\n",
      "42/42 [==============================] - 2s 37ms/step - loss: 0.9914 - accuracy: 0.7163\n",
      "Epoch 75/100\n",
      "42/42 [==============================] - 2s 37ms/step - loss: 0.9855 - accuracy: 0.7163\n",
      "Epoch 76/100\n",
      "42/42 [==============================] - 2s 36ms/step - loss: 0.9803 - accuracy: 0.7167\n",
      "Epoch 77/100\n",
      "42/42 [==============================] - 2s 37ms/step - loss: 0.9740 - accuracy: 0.7185\n",
      "Epoch 78/100\n",
      "42/42 [==============================] - 2s 37ms/step - loss: 0.9639 - accuracy: 0.7216\n",
      "Epoch 79/100\n",
      "42/42 [==============================] - 2s 37ms/step - loss: 0.9575 - accuracy: 0.7245\n",
      "Epoch 80/100\n",
      "42/42 [==============================] - 2s 37ms/step - loss: 0.9516 - accuracy: 0.7256\n",
      "Epoch 81/100\n",
      "42/42 [==============================] - 2s 37ms/step - loss: 0.9473 - accuracy: 0.7254\n",
      "Epoch 82/100\n",
      "42/42 [==============================] - 2s 37ms/step - loss: 0.9404 - accuracy: 0.7295\n",
      "Epoch 83/100\n",
      "42/42 [==============================] - 2s 37ms/step - loss: 0.9348 - accuracy: 0.7307\n",
      "Epoch 84/100\n",
      "42/42 [==============================] - 2s 38ms/step - loss: 0.9268 - accuracy: 0.7319\n",
      "Epoch 85/100\n",
      "42/42 [==============================] - 2s 37ms/step - loss: 0.9205 - accuracy: 0.7361\n",
      "Epoch 86/100\n",
      "42/42 [==============================] - 2s 37ms/step - loss: 0.9192 - accuracy: 0.7335\n",
      "Epoch 87/100\n",
      "42/42 [==============================] - 2s 37ms/step - loss: 0.9128 - accuracy: 0.7371\n",
      "Epoch 88/100\n",
      "42/42 [==============================] - 2s 37ms/step - loss: 0.9039 - accuracy: 0.7398\n",
      "Epoch 89/100\n",
      "42/42 [==============================] - 2s 37ms/step - loss: 0.8995 - accuracy: 0.7399\n",
      "Epoch 90/100\n",
      "42/42 [==============================] - 2s 37ms/step - loss: 0.8934 - accuracy: 0.7416\n",
      "Epoch 91/100\n",
      "42/42 [==============================] - 2s 39ms/step - loss: 0.8891 - accuracy: 0.7438\n",
      "Epoch 92/100\n",
      "42/42 [==============================] - 2s 39ms/step - loss: 0.8854 - accuracy: 0.7439\n",
      "Epoch 93/100\n",
      "42/42 [==============================] - 2s 37ms/step - loss: 0.8769 - accuracy: 0.7471\n",
      "Epoch 94/100\n",
      "42/42 [==============================] - 2s 37ms/step - loss: 0.8730 - accuracy: 0.7483\n",
      "Epoch 95/100\n",
      "42/42 [==============================] - 2s 37ms/step - loss: 0.8694 - accuracy: 0.7491\n",
      "Epoch 96/100\n",
      "42/42 [==============================] - 2s 37ms/step - loss: 0.8626 - accuracy: 0.7518\n",
      "Epoch 97/100\n",
      "42/42 [==============================] - 2s 38ms/step - loss: 0.8549 - accuracy: 0.7543\n",
      "Epoch 98/100\n",
      "42/42 [==============================] - 2s 39ms/step - loss: 0.8542 - accuracy: 0.7523\n",
      "Epoch 99/100\n",
      "42/42 [==============================] - 2s 39ms/step - loss: 0.8502 - accuracy: 0.7554\n",
      "Epoch 100/100\n",
      "42/42 [==============================] - 2s 37ms/step - loss: 0.8463 - accuracy: 0.7560\n",
      "Try 3/100: Best_val_acc: [0.8377405405044556, 0.7609047889709473], lr: 0.0027488981001369726, Lambda: 4.3816284738127155e-05\n",
      "\n",
      "Epoch 1/100\n",
      "42/42 [==============================] - 2s 38ms/step - loss: 20014681291177844539392.0000 - accuracy: 0.0980\n",
      "Epoch 2/100\n",
      "42/42 [==============================] - 2s 38ms/step - loss: 4928339174777388269568.0000 - accuracy: 0.1019\n",
      "Epoch 3/100\n",
      "42/42 [==============================] - 2s 37ms/step - loss: 74488411936801161216.0000 - accuracy: 0.1003\n",
      "Epoch 4/100\n",
      "42/42 [==============================] - 2s 38ms/step - loss: 124700415479513088.0000 - accuracy: 0.0992\n",
      "Epoch 5/100\n",
      "42/42 [==============================] - 2s 37ms/step - loss: 4105181549559808.0000 - accuracy: 0.0996\n",
      "Epoch 6/100\n",
      "42/42 [==============================] - 2s 37ms/step - loss: 142724598595584.0000 - accuracy: 0.0994\n",
      "Epoch 7/100\n",
      "42/42 [==============================] - 2s 37ms/step - loss: 746550525952.0000 - accuracy: 0.0990\n",
      "Epoch 8/100\n",
      "42/42 [==============================] - 2s 37ms/step - loss: 1566955904.0000 - accuracy: 0.1018\n",
      "Epoch 9/100\n",
      "42/42 [==============================] - 2s 37ms/step - loss: 202989344.0000 - accuracy: 0.1012\n",
      "Epoch 10/100\n",
      "42/42 [==============================] - 2s 37ms/step - loss: 2333306.0000 - accuracy: 0.0977\n",
      "Epoch 11/100\n",
      "42/42 [==============================] - 2s 37ms/step - loss: 2166.4341 - accuracy: 0.1013\n",
      "Epoch 12/100\n",
      "42/42 [==============================] - 2s 38ms/step - loss: 230.2136 - accuracy: 0.0981\n",
      "Epoch 13/100\n",
      "42/42 [==============================] - 2s 37ms/step - loss: 32.8450 - accuracy: 0.1008\n",
      "Epoch 14/100\n",
      "42/42 [==============================] - 2s 37ms/step - loss: 31.5981 - accuracy: 0.0987\n",
      "Epoch 15/100\n",
      "42/42 [==============================] - 2s 37ms/step - loss: 26.5919 - accuracy: 0.1000\n",
      "Epoch 16/100\n",
      "42/42 [==============================] - 2s 37ms/step - loss: 29.0597 - accuracy: 0.1018\n",
      "Epoch 17/100\n",
      "42/42 [==============================] - 2s 37ms/step - loss: 29.7862 - accuracy: 0.0977\n",
      "Epoch 18/100\n",
      "42/42 [==============================] - 2s 37ms/step - loss: 30.7410 - accuracy: 0.1009\n",
      "Epoch 19/100\n",
      "42/42 [==============================] - 2s 37ms/step - loss: 29.1559 - accuracy: 0.0986\n",
      "Epoch 20/100\n",
      "42/42 [==============================] - 2s 37ms/step - loss: 32.1362 - accuracy: 0.0992\n",
      "Epoch 21/100\n",
      "42/42 [==============================] - 2s 37ms/step - loss: 32.5043 - accuracy: 0.0979\n",
      "Epoch 22/100\n",
      "42/42 [==============================] - 2s 37ms/step - loss: 36.5904 - accuracy: 0.1005\n",
      "Epoch 23/100\n",
      "42/42 [==============================] - 2s 38ms/step - loss: 29.3732 - accuracy: 0.0989\n",
      "Epoch 24/100\n",
      "42/42 [==============================] - 2s 37ms/step - loss: 29.5089 - accuracy: 0.0989\n",
      "Epoch 25/100\n",
      "42/42 [==============================] - 2s 37ms/step - loss: 32.1082 - accuracy: 0.0988\n",
      "Epoch 26/100\n",
      "42/42 [==============================] - 2s 36ms/step - loss: 31.0017 - accuracy: 0.1025\n",
      "Epoch 27/100\n",
      "42/42 [==============================] - 2s 37ms/step - loss: 26.5818 - accuracy: 0.1004\n",
      "Epoch 28/100\n",
      "42/42 [==============================] - 2s 37ms/step - loss: 19.9520 - accuracy: 0.0969\n",
      "Epoch 29/100\n",
      "42/42 [==============================] - 2s 37ms/step - loss: 25.2166 - accuracy: 0.1009\n",
      "Epoch 30/100\n",
      "42/42 [==============================] - 2s 37ms/step - loss: 34.4120 - accuracy: 0.1017\n",
      "Epoch 31/100\n",
      "42/42 [==============================] - 2s 37ms/step - loss: 30.1554 - accuracy: 0.1027\n",
      "Epoch 32/100\n",
      "42/42 [==============================] - 2s 37ms/step - loss: 29.0616 - accuracy: 0.0993\n",
      "Epoch 33/100\n",
      "42/42 [==============================] - 2s 37ms/step - loss: 27.5796 - accuracy: 0.1000\n",
      "Epoch 34/100\n",
      "42/42 [==============================] - 2s 38ms/step - loss: 32.5284 - accuracy: 0.0998\n",
      "Epoch 35/100\n",
      "42/42 [==============================] - 2s 40ms/step - loss: 28.0494 - accuracy: 0.1029\n",
      "Epoch 36/100\n",
      "42/42 [==============================] - 2s 39ms/step - loss: 28.3863 - accuracy: 0.0983\n",
      "Epoch 37/100\n",
      "42/42 [==============================] - 2s 37ms/step - loss: 31.2845 - accuracy: 0.1020\n",
      "Epoch 38/100\n",
      "42/42 [==============================] - 2s 37ms/step - loss: 28.1254 - accuracy: 0.0988\n",
      "Epoch 39/100\n",
      "42/42 [==============================] - 2s 37ms/step - loss: 33.5110 - accuracy: 0.1003\n",
      "Epoch 40/100\n",
      "42/42 [==============================] - 2s 37ms/step - loss: 35.6439 - accuracy: 0.1012\n",
      "Epoch 41/100\n",
      "42/42 [==============================] - 2s 37ms/step - loss: 27.4915 - accuracy: 0.1009\n",
      "Epoch 42/100\n",
      "42/42 [==============================] - 2s 37ms/step - loss: 22.1490 - accuracy: 0.1006\n",
      "Epoch 43/100\n",
      "42/42 [==============================] - 2s 37ms/step - loss: 29.4339 - accuracy: 0.1031\n",
      "Epoch 44/100\n",
      "42/42 [==============================] - 2s 37ms/step - loss: 26.6705 - accuracy: 0.1012\n",
      "Epoch 45/100\n",
      "42/42 [==============================] - 2s 37ms/step - loss: 33.6786 - accuracy: 0.0994\n",
      "Epoch 46/100\n",
      "42/42 [==============================] - 2s 38ms/step - loss: 28.6343 - accuracy: 0.0980\n",
      "Epoch 47/100\n",
      "42/42 [==============================] - 2s 37ms/step - loss: 34.7840 - accuracy: 0.1016\n",
      "Epoch 48/100\n",
      "42/42 [==============================] - 2s 37ms/step - loss: 35.0627 - accuracy: 0.0996\n",
      "Epoch 49/100\n",
      "42/42 [==============================] - 2s 37ms/step - loss: 27.5819 - accuracy: 0.0979\n",
      "Epoch 50/100\n",
      "42/42 [==============================] - 2s 37ms/step - loss: 32.4708 - accuracy: 0.1002\n",
      "Epoch 51/100\n",
      "42/42 [==============================] - 2s 38ms/step - loss: 33.2688 - accuracy: 0.0986\n",
      "Epoch 52/100\n",
      "42/42 [==============================] - 2s 37ms/step - loss: 30.1321 - accuracy: 0.1000\n",
      "Epoch 53/100\n",
      "42/42 [==============================] - 2s 37ms/step - loss: 34.4247 - accuracy: 0.1017\n",
      "Epoch 54/100\n",
      "42/42 [==============================] - 2s 37ms/step - loss: 32.1633 - accuracy: 0.1030\n",
      "Epoch 55/100\n",
      "42/42 [==============================] - 2s 37ms/step - loss: 24.3576 - accuracy: 0.1005\n",
      "Epoch 56/100\n",
      "42/42 [==============================] - 2s 38ms/step - loss: 20.7355 - accuracy: 0.1037\n",
      "Epoch 57/100\n",
      "42/42 [==============================] - 2s 37ms/step - loss: 28.9213 - accuracy: 0.1016\n",
      "Epoch 58/100\n",
      "42/42 [==============================] - 2s 37ms/step - loss: 24.5346 - accuracy: 0.1005\n",
      "Epoch 59/100\n",
      "42/42 [==============================] - 2s 37ms/step - loss: 29.2222 - accuracy: 0.0981\n",
      "Epoch 60/100\n",
      "42/42 [==============================] - 2s 37ms/step - loss: 32.3562 - accuracy: 0.0984\n",
      "Epoch 61/100\n",
      "42/42 [==============================] - 2s 38ms/step - loss: 24.1152 - accuracy: 0.0974\n",
      "Epoch 62/100\n",
      "42/42 [==============================] - 2s 37ms/step - loss: 31.1382 - accuracy: 0.0992\n",
      "Epoch 63/100\n",
      "42/42 [==============================] - 2s 37ms/step - loss: 26.7976 - accuracy: 0.0987\n",
      "Epoch 64/100\n",
      "42/42 [==============================] - 2s 37ms/step - loss: 31.5556 - accuracy: 0.1005\n",
      "Epoch 65/100\n",
      "42/42 [==============================] - 2s 37ms/step - loss: 29.8943 - accuracy: 0.1031\n",
      "Epoch 66/100\n",
      "42/42 [==============================] - 2s 37ms/step - loss: 27.3877 - accuracy: 0.1007\n",
      "Epoch 67/100\n",
      "42/42 [==============================] - 2s 38ms/step - loss: 24.0939 - accuracy: 0.1005\n",
      "Epoch 68/100\n",
      "42/42 [==============================] - 2s 38ms/step - loss: 25.0727 - accuracy: 0.1002\n",
      "Epoch 69/100\n",
      "42/42 [==============================] - 2s 39ms/step - loss: 31.2919 - accuracy: 0.1010\n",
      "Epoch 70/100\n",
      "42/42 [==============================] - 2s 38ms/step - loss: 32.0749 - accuracy: 0.1001\n",
      "Epoch 71/100\n",
      "42/42 [==============================] - 2s 38ms/step - loss: 30.1332 - accuracy: 0.0972\n",
      "Epoch 72/100\n",
      "42/42 [==============================] - 2s 38ms/step - loss: 32.5439 - accuracy: 0.0990\n",
      "Epoch 73/100\n",
      "42/42 [==============================] - 2s 38ms/step - loss: 29.4987 - accuracy: 0.0995\n",
      "Epoch 74/100\n",
      "42/42 [==============================] - 2s 38ms/step - loss: 28.4960 - accuracy: 0.0998\n",
      "Epoch 75/100\n",
      "42/42 [==============================] - 2s 39ms/step - loss: 28.9978 - accuracy: 0.0986\n",
      "Epoch 76/100\n",
      "42/42 [==============================] - 2s 42ms/step - loss: 31.6854 - accuracy: 0.0978\n",
      "Epoch 77/100\n",
      "42/42 [==============================] - 2s 42ms/step - loss: 35.7663 - accuracy: 0.1026\n",
      "Epoch 78/100\n",
      "42/42 [==============================] - 2s 42ms/step - loss: 30.9518 - accuracy: 0.1005\n",
      "Epoch 79/100\n",
      "42/42 [==============================] - 2s 43ms/step - loss: 25.9281 - accuracy: 0.1035\n",
      "Epoch 80/100\n",
      "42/42 [==============================] - 2s 41ms/step - loss: 26.7358 - accuracy: 0.0993\n",
      "Epoch 81/100\n",
      "42/42 [==============================] - 2s 41ms/step - loss: 33.6563 - accuracy: 0.0988\n",
      "Epoch 82/100\n",
      "42/42 [==============================] - 2s 41ms/step - loss: 31.9240 - accuracy: 0.1028\n",
      "Epoch 83/100\n",
      "42/42 [==============================] - 2s 41ms/step - loss: 36.0451 - accuracy: 0.1008\n",
      "Epoch 84/100\n",
      "42/42 [==============================] - 2s 41ms/step - loss: 27.8672 - accuracy: 0.0995\n",
      "Epoch 85/100\n",
      "42/42 [==============================] - 2s 42ms/step - loss: 30.9425 - accuracy: 0.1014\n",
      "Epoch 86/100\n",
      "42/42 [==============================] - 2s 48ms/step - loss: 24.3713 - accuracy: 0.1006\n",
      "Epoch 87/100\n",
      "42/42 [==============================] - 2s 46ms/step - loss: 31.8949 - accuracy: 0.1007\n",
      "Epoch 88/100\n",
      "42/42 [==============================] - 2s 41ms/step - loss: 26.6364 - accuracy: 0.1018\n",
      "Epoch 89/100\n",
      "42/42 [==============================] - 2s 39ms/step - loss: 23.2033 - accuracy: 0.0992\n",
      "Epoch 90/100\n",
      "42/42 [==============================] - 2s 39ms/step - loss: 24.0427 - accuracy: 0.1030\n",
      "Epoch 91/100\n",
      "42/42 [==============================] - 2s 39ms/step - loss: 21.9133 - accuracy: 0.0990\n",
      "Epoch 92/100\n",
      "42/42 [==============================] - 2s 40ms/step - loss: 30.5484 - accuracy: 0.1019\n",
      "Epoch 93/100\n",
      "42/42 [==============================] - 2s 40ms/step - loss: 25.3041 - accuracy: 0.0997\n",
      "Epoch 94/100\n",
      "42/42 [==============================] - 2s 40ms/step - loss: 25.3797 - accuracy: 0.0989\n",
      "Epoch 95/100\n",
      "42/42 [==============================] - 2s 40ms/step - loss: 21.9154 - accuracy: 0.1013\n",
      "Epoch 96/100\n",
      "42/42 [==============================] - 2s 40ms/step - loss: 23.6684 - accuracy: 0.0999\n",
      "Epoch 97/100\n",
      "42/42 [==============================] - 2s 39ms/step - loss: 30.4948 - accuracy: 0.1008\n",
      "Epoch 98/100\n",
      "42/42 [==============================] - 2s 38ms/step - loss: 23.7794 - accuracy: 0.0996\n",
      "Epoch 99/100\n",
      "42/42 [==============================] - 2s 38ms/step - loss: 33.2217 - accuracy: 0.1003\n",
      "Epoch 100/100\n",
      "42/42 [==============================] - 2s 39ms/step - loss: 31.8789 - accuracy: 0.0988\n",
      "Try 4/100: Best_val_acc: [20.118698120117188, 0.09971428662538528], lr: 22.271644245663573, Lambda: 6.931166901939606e-05\n",
      "\n",
      "Epoch 1/100\n",
      "42/42 [==============================] - 2s 38ms/step - loss: 41281604.0000 - accuracy: 0.0949\n",
      "Epoch 2/100\n",
      "42/42 [==============================] - 2s 39ms/step - loss: 995978.3750 - accuracy: 0.0966\n",
      "Epoch 3/100\n",
      "42/42 [==============================] - 2s 38ms/step - loss: 13613.4492 - accuracy: 0.0987\n",
      "Epoch 4/100\n",
      "42/42 [==============================] - 2s 38ms/step - loss: 166.5571 - accuracy: 0.1013\n",
      "Epoch 5/100\n",
      "42/42 [==============================] - 2s 39ms/step - loss: 4.0557 - accuracy: 0.0999\n",
      "Epoch 6/100\n",
      "42/42 [==============================] - 2s 40ms/step - loss: 2.3270 - accuracy: 0.1010\n",
      "Epoch 7/100\n",
      "42/42 [==============================] - 2s 41ms/step - loss: 2.3140 - accuracy: 0.0997\n",
      "Epoch 8/100\n",
      "42/42 [==============================] - 2s 41ms/step - loss: 2.3128 - accuracy: 0.0986\n",
      "Epoch 9/100\n",
      "42/42 [==============================] - 2s 43ms/step - loss: 2.3115 - accuracy: 0.1020\n",
      "Epoch 10/100\n",
      "42/42 [==============================] - 2s 43ms/step - loss: 2.3101 - accuracy: 0.1007\n",
      "Epoch 11/100\n",
      "42/42 [==============================] - 2s 43ms/step - loss: 2.3145 - accuracy: 0.0995\n",
      "Epoch 12/100\n",
      "42/42 [==============================] - 2s 44ms/step - loss: 2.3103 - accuracy: 0.0988\n",
      "Epoch 13/100\n",
      "42/42 [==============================] - 2s 44ms/step - loss: 2.3153 - accuracy: 0.0984\n",
      "Epoch 14/100\n",
      "42/42 [==============================] - 2s 43ms/step - loss: 2.3175 - accuracy: 0.1009\n",
      "Epoch 15/100\n",
      "42/42 [==============================] - 2s 44ms/step - loss: 2.3104 - accuracy: 0.0997\n",
      "Epoch 16/100\n",
      "42/42 [==============================] - 2s 44ms/step - loss: 2.3127 - accuracy: 0.0994\n",
      "Epoch 17/100\n",
      "42/42 [==============================] - 2s 43ms/step - loss: 2.3127 - accuracy: 0.0996\n",
      "Epoch 18/100\n",
      "42/42 [==============================] - 2s 45ms/step - loss: 2.3133 - accuracy: 0.0985\n",
      "Epoch 19/100\n",
      "42/42 [==============================] - 2s 48ms/step - loss: 2.3144 - accuracy: 0.1020\n",
      "Epoch 20/100\n",
      "42/42 [==============================] - 2s 46ms/step - loss: 2.3126 - accuracy: 0.1006\n",
      "Epoch 21/100\n",
      "42/42 [==============================] - 2s 44ms/step - loss: 2.3111 - accuracy: 0.1001\n",
      "Epoch 22/100\n",
      "42/42 [==============================] - 2s 43ms/step - loss: 2.3123 - accuracy: 0.1016\n",
      "Epoch 23/100\n",
      "42/42 [==============================] - 2s 43ms/step - loss: 2.3159 - accuracy: 0.0983\n",
      "Epoch 24/100\n",
      "42/42 [==============================] - 2s 44ms/step - loss: 2.3124 - accuracy: 0.1020\n",
      "Epoch 25/100\n",
      "42/42 [==============================] - 2s 44ms/step - loss: 2.3143 - accuracy: 0.1010\n",
      "Epoch 26/100\n",
      "42/42 [==============================] - 2s 44ms/step - loss: 2.3095 - accuracy: 0.0997\n",
      "Epoch 27/100\n",
      "42/42 [==============================] - 2s 42ms/step - loss: 2.3142 - accuracy: 0.0997\n",
      "Epoch 28/100\n",
      "42/42 [==============================] - 2s 42ms/step - loss: 2.3119 - accuracy: 0.0987\n",
      "Epoch 29/100\n",
      "42/42 [==============================] - 2s 44ms/step - loss: 2.3168 - accuracy: 0.1014\n",
      "Epoch 30/100\n",
      "42/42 [==============================] - 2s 44ms/step - loss: 2.3118 - accuracy: 0.0987\n",
      "Epoch 31/100\n",
      "42/42 [==============================] - 2s 45ms/step - loss: 2.3155 - accuracy: 0.0989\n",
      "Epoch 32/100\n",
      "42/42 [==============================] - 2s 43ms/step - loss: 2.3126 - accuracy: 0.1006\n",
      "Epoch 33/100\n",
      "42/42 [==============================] - 2s 42ms/step - loss: 2.3126 - accuracy: 0.0982\n",
      "Epoch 34/100\n",
      "42/42 [==============================] - 2s 43ms/step - loss: 2.3137 - accuracy: 0.1004\n",
      "Epoch 35/100\n",
      "42/42 [==============================] - 2s 44ms/step - loss: 2.3128 - accuracy: 0.1001\n",
      "Epoch 36/100\n",
      "42/42 [==============================] - 2s 41ms/step - loss: 2.3116 - accuracy: 0.0990\n",
      "Epoch 37/100\n",
      "42/42 [==============================] - 2s 43ms/step - loss: 2.3118 - accuracy: 0.1011\n",
      "Epoch 38/100\n",
      "42/42 [==============================] - 2s 42ms/step - loss: 2.3118 - accuracy: 0.0998\n",
      "Epoch 39/100\n",
      "42/42 [==============================] - 2s 44ms/step - loss: 2.3101 - accuracy: 0.1015\n",
      "Epoch 40/100\n",
      "42/42 [==============================] - 2s 44ms/step - loss: 2.3127 - accuracy: 0.1015\n",
      "Epoch 41/100\n",
      "42/42 [==============================] - 2s 44ms/step - loss: 2.3161 - accuracy: 0.0998\n",
      "Epoch 42/100\n",
      "42/42 [==============================] - 2s 44ms/step - loss: 2.3136 - accuracy: 0.1026\n",
      "Epoch 43/100\n",
      "42/42 [==============================] - 2s 44ms/step - loss: 2.3156 - accuracy: 0.1012\n",
      "Epoch 44/100\n",
      "42/42 [==============================] - 2s 43ms/step - loss: 2.3136 - accuracy: 0.0973\n",
      "Epoch 45/100\n",
      "42/42 [==============================] - 2s 43ms/step - loss: 2.3111 - accuracy: 0.1003\n",
      "Epoch 46/100\n",
      "42/42 [==============================] - 2s 42ms/step - loss: 2.3120 - accuracy: 0.1027\n",
      "Epoch 47/100\n",
      "42/42 [==============================] - 2s 43ms/step - loss: 2.3139 - accuracy: 0.1030\n",
      "Epoch 48/100\n",
      "42/42 [==============================] - 2s 43ms/step - loss: 2.3123 - accuracy: 0.0998\n",
      "Epoch 49/100\n",
      "42/42 [==============================] - 2s 43ms/step - loss: 2.3153 - accuracy: 0.0985\n",
      "Epoch 50/100\n",
      "42/42 [==============================] - 2s 42ms/step - loss: 2.3131 - accuracy: 0.1006\n",
      "Epoch 51/100\n",
      "42/42 [==============================] - 2s 43ms/step - loss: 2.3099 - accuracy: 0.1018\n",
      "Epoch 52/100\n",
      "42/42 [==============================] - 2s 45ms/step - loss: 2.3136 - accuracy: 0.0980\n",
      "Epoch 53/100\n",
      "42/42 [==============================] - 2s 44ms/step - loss: 2.3113 - accuracy: 0.0971\n",
      "Epoch 54/100\n",
      "42/42 [==============================] - 2s 46ms/step - loss: 2.3097 - accuracy: 0.1022\n",
      "Epoch 55/100\n",
      "42/42 [==============================] - 2s 46ms/step - loss: 2.3104 - accuracy: 0.0993\n",
      "Epoch 56/100\n",
      "42/42 [==============================] - 2s 44ms/step - loss: 2.3103 - accuracy: 0.1007\n",
      "Epoch 57/100\n",
      "42/42 [==============================] - 2s 45ms/step - loss: 2.3130 - accuracy: 0.1003\n",
      "Epoch 58/100\n",
      "42/42 [==============================] - 2s 43ms/step - loss: 2.3123 - accuracy: 0.0992\n",
      "Epoch 59/100\n",
      "42/42 [==============================] - 2s 43ms/step - loss: 2.3130 - accuracy: 0.0996\n",
      "Epoch 60/100\n",
      "42/42 [==============================] - 2s 45ms/step - loss: 2.3136 - accuracy: 0.1010\n",
      "Epoch 61/100\n",
      "42/42 [==============================] - 2s 43ms/step - loss: 2.3110 - accuracy: 0.0992\n",
      "Epoch 62/100\n",
      "42/42 [==============================] - 2s 42ms/step - loss: 2.3109 - accuracy: 0.1020\n",
      "Epoch 63/100\n",
      "42/42 [==============================] - 2s 44ms/step - loss: 2.3090 - accuracy: 0.1003\n",
      "Epoch 64/100\n",
      "42/42 [==============================] - 2s 45ms/step - loss: 2.3150 - accuracy: 0.0993\n",
      "Epoch 65/100\n",
      "42/42 [==============================] - 2s 44ms/step - loss: 2.3104 - accuracy: 0.1033\n",
      "Epoch 66/100\n",
      "42/42 [==============================] - 2s 44ms/step - loss: 2.3128 - accuracy: 0.1028\n",
      "Epoch 67/100\n",
      "42/42 [==============================] - 2s 42ms/step - loss: 2.3089 - accuracy: 0.1020\n",
      "Epoch 68/100\n",
      "42/42 [==============================] - 2s 42ms/step - loss: 2.3136 - accuracy: 0.1001\n",
      "Epoch 69/100\n",
      "42/42 [==============================] - 2s 42ms/step - loss: 2.3108 - accuracy: 0.0996\n",
      "Epoch 70/100\n",
      "42/42 [==============================] - 2s 40ms/step - loss: 2.3113 - accuracy: 0.1002\n",
      "Epoch 71/100\n",
      "42/42 [==============================] - 2s 42ms/step - loss: 2.3091 - accuracy: 0.0994\n",
      "Epoch 72/100\n",
      "42/42 [==============================] - 2s 42ms/step - loss: 2.3103 - accuracy: 0.1009\n",
      "Epoch 73/100\n",
      "42/42 [==============================] - 2s 43ms/step - loss: 2.3109 - accuracy: 0.0993\n",
      "Epoch 74/100\n",
      "42/42 [==============================] - 2s 42ms/step - loss: 2.3113 - accuracy: 0.0975\n",
      "Epoch 75/100\n",
      "42/42 [==============================] - 2s 44ms/step - loss: 2.3110 - accuracy: 0.1006\n",
      "Epoch 76/100\n",
      "42/42 [==============================] - 2s 43ms/step - loss: 2.3123 - accuracy: 0.1019\n",
      "Epoch 77/100\n",
      "42/42 [==============================] - 2s 43ms/step - loss: 2.3106 - accuracy: 0.1002\n",
      "Epoch 78/100\n",
      "42/42 [==============================] - 2s 41ms/step - loss: 2.3100 - accuracy: 0.1020\n",
      "Epoch 79/100\n",
      "42/42 [==============================] - 2s 42ms/step - loss: 2.3140 - accuracy: 0.0980\n",
      "Epoch 80/100\n",
      "42/42 [==============================] - 2s 43ms/step - loss: 2.3111 - accuracy: 0.0993\n",
      "Epoch 81/100\n",
      "42/42 [==============================] - 2s 41ms/step - loss: 2.3114 - accuracy: 0.1015\n",
      "Epoch 82/100\n",
      "42/42 [==============================] - 2s 43ms/step - loss: 2.3090 - accuracy: 0.1003\n",
      "Epoch 83/100\n",
      "42/42 [==============================] - 2s 44ms/step - loss: 2.3088 - accuracy: 0.1002\n",
      "Epoch 84/100\n",
      "42/42 [==============================] - 2s 45ms/step - loss: 2.3123 - accuracy: 0.0985\n",
      "Epoch 85/100\n",
      "42/42 [==============================] - 2s 44ms/step - loss: 2.3108 - accuracy: 0.1014\n",
      "Epoch 86/100\n",
      "42/42 [==============================] - 2s 44ms/step - loss: 2.3102 - accuracy: 0.0996\n",
      "Epoch 87/100\n",
      "42/42 [==============================] - 2s 43ms/step - loss: 2.3095 - accuracy: 0.1019\n",
      "Epoch 88/100\n",
      "42/42 [==============================] - 2s 45ms/step - loss: 2.3095 - accuracy: 0.1015\n",
      "Epoch 89/100\n",
      "42/42 [==============================] - 2s 45ms/step - loss: 2.3105 - accuracy: 0.1004\n",
      "Epoch 90/100\n",
      "42/42 [==============================] - 2s 45ms/step - loss: 2.3120 - accuracy: 0.1015\n",
      "Epoch 91/100\n",
      "42/42 [==============================] - 2s 40ms/step - loss: 2.3136 - accuracy: 0.0985\n",
      "Epoch 92/100\n",
      "42/42 [==============================] - 2s 39ms/step - loss: 2.3118 - accuracy: 0.0981\n",
      "Epoch 93/100\n",
      "42/42 [==============================] - 2s 38ms/step - loss: 2.3124 - accuracy: 0.1019\n",
      "Epoch 94/100\n",
      "42/42 [==============================] - 2s 38ms/step - loss: 2.3122 - accuracy: 0.1012\n",
      "Epoch 95/100\n",
      "42/42 [==============================] - 2s 38ms/step - loss: 2.3163 - accuracy: 0.0984\n",
      "Epoch 96/100\n",
      "42/42 [==============================] - 2s 38ms/step - loss: 2.3162 - accuracy: 0.1000\n",
      "Epoch 97/100\n",
      "42/42 [==============================] - 2s 38ms/step - loss: 2.3102 - accuracy: 0.1027\n",
      "Epoch 98/100\n",
      "42/42 [==============================] - 2s 38ms/step - loss: 2.3100 - accuracy: 0.1022\n",
      "Epoch 99/100\n",
      "42/42 [==============================] - 2s 39ms/step - loss: 2.3127 - accuracy: 0.0995\n",
      "Epoch 100/100\n",
      "42/42 [==============================] - 2s 38ms/step - loss: 2.3130 - accuracy: 0.0977\n",
      "Try 5/100: Best_val_acc: [2.3164567947387695, 0.09933333098888397], lr: 3.9308068418107283, Lambda: 0.0058629600232666225\n",
      "\n",
      "Epoch 1/100\n",
      "42/42 [==============================] - 2s 38ms/step - loss: inf - accuracy: 0.0986\n",
      "Epoch 2/100\n",
      "42/42 [==============================] - 2s 39ms/step - loss: inf - accuracy: 0.1002\n",
      "Epoch 3/100\n",
      "42/42 [==============================] - 2s 38ms/step - loss: inf - accuracy: 0.1001\n",
      "Epoch 4/100\n",
      "42/42 [==============================] - 2s 39ms/step - loss: inf - accuracy: 0.1023\n",
      "Epoch 5/100\n",
      "42/42 [==============================] - 2s 38ms/step - loss: inf - accuracy: 0.1015\n",
      "Epoch 6/100\n",
      "42/42 [==============================] - 2s 38ms/step - loss: inf - accuracy: 0.0986\n",
      "Epoch 7/100\n",
      "42/42 [==============================] - 2s 39ms/step - loss: inf - accuracy: 0.0993\n",
      "Epoch 8/100\n",
      "42/42 [==============================] - 2s 38ms/step - loss: inf - accuracy: 0.0983\n",
      "Epoch 9/100\n",
      "42/42 [==============================] - 2s 39ms/step - loss: inf - accuracy: 0.0995\n",
      "Epoch 10/100\n",
      "42/42 [==============================] - 2s 38ms/step - loss: inf - accuracy: 0.0977\n",
      "Epoch 11/100\n",
      "42/42 [==============================] - 2s 39ms/step - loss: inf - accuracy: 0.0990\n",
      "Epoch 12/100\n",
      "42/42 [==============================] - 2s 39ms/step - loss: inf - accuracy: 0.1032\n",
      "Epoch 13/100\n",
      "42/42 [==============================] - 2s 38ms/step - loss: inf - accuracy: 0.1018\n",
      "Epoch 14/100\n",
      "42/42 [==============================] - 2s 39ms/step - loss: inf - accuracy: 0.1001\n",
      "Epoch 15/100\n",
      "42/42 [==============================] - 2s 39ms/step - loss: inf - accuracy: 0.0996\n",
      "Epoch 16/100\n",
      "42/42 [==============================] - 2s 39ms/step - loss: inf - accuracy: 0.0990\n",
      "Epoch 17/100\n",
      "42/42 [==============================] - 2s 38ms/step - loss: inf - accuracy: 0.1011\n",
      "Epoch 18/100\n",
      "42/42 [==============================] - 2s 38ms/step - loss: inf - accuracy: 0.0992\n",
      "Epoch 19/100\n",
      "42/42 [==============================] - 2s 39ms/step - loss: inf - accuracy: 0.1024\n",
      "Epoch 20/100\n",
      "42/42 [==============================] - 2s 39ms/step - loss: inf - accuracy: 0.0998\n",
      "Epoch 21/100\n",
      "42/42 [==============================] - 2s 38ms/step - loss: inf - accuracy: 0.0980\n",
      "Epoch 22/100\n",
      "42/42 [==============================] - 2s 38ms/step - loss: inf - accuracy: 0.0984\n",
      "Epoch 23/100\n",
      "42/42 [==============================] - 2s 39ms/step - loss: inf - accuracy: 0.1012\n",
      "Epoch 24/100\n",
      "42/42 [==============================] - 2s 38ms/step - loss: inf - accuracy: 0.0981\n",
      "Epoch 25/100\n",
      "42/42 [==============================] - 2s 38ms/step - loss: inf - accuracy: 0.0995\n",
      "Epoch 26/100\n",
      "42/42 [==============================] - 2s 39ms/step - loss: inf - accuracy: 0.0992\n",
      "Epoch 27/100\n",
      "42/42 [==============================] - 2s 39ms/step - loss: inf - accuracy: 0.1009\n",
      "Epoch 28/100\n",
      "42/42 [==============================] - 2s 39ms/step - loss: inf - accuracy: 0.0982\n",
      "Epoch 29/100\n",
      "42/42 [==============================] - 2s 39ms/step - loss: inf - accuracy: 0.0984\n",
      "Epoch 30/100\n",
      "42/42 [==============================] - 2s 38ms/step - loss: inf - accuracy: 0.1010\n",
      "Epoch 31/100\n",
      "42/42 [==============================] - 2s 39ms/step - loss: inf - accuracy: 0.0985\n",
      "Epoch 32/100\n",
      "42/42 [==============================] - 2s 39ms/step - loss: inf - accuracy: 0.1021\n",
      "Epoch 33/100\n",
      "42/42 [==============================] - 2s 39ms/step - loss: inf - accuracy: 0.0986\n",
      "Epoch 34/100\n",
      "42/42 [==============================] - 2s 39ms/step - loss: inf - accuracy: 0.1032\n",
      "Epoch 35/100\n",
      "42/42 [==============================] - 2s 39ms/step - loss: inf - accuracy: 0.0962\n",
      "Epoch 36/100\n",
      "42/42 [==============================] - 2s 38ms/step - loss: inf - accuracy: 0.1010\n",
      "Epoch 37/100\n",
      "42/42 [==============================] - 2s 38ms/step - loss: inf - accuracy: 0.1006\n",
      "Epoch 38/100\n",
      "42/42 [==============================] - 2s 39ms/step - loss: inf - accuracy: 0.0994\n",
      "Epoch 39/100\n",
      "42/42 [==============================] - 2s 38ms/step - loss: inf - accuracy: 0.0993\n",
      "Epoch 40/100\n",
      "42/42 [==============================] - 2s 39ms/step - loss: inf - accuracy: 0.0988\n",
      "Epoch 41/100\n",
      "42/42 [==============================] - 2s 39ms/step - loss: inf - accuracy: 0.0998\n",
      "Epoch 42/100\n",
      "42/42 [==============================] - 2s 39ms/step - loss: inf - accuracy: 0.0990\n",
      "Epoch 43/100\n",
      "42/42 [==============================] - 2s 39ms/step - loss: inf - accuracy: 0.0997\n",
      "Epoch 44/100\n",
      "42/42 [==============================] - 2s 39ms/step - loss: inf - accuracy: 0.1008\n",
      "Epoch 45/100\n",
      "42/42 [==============================] - 2s 39ms/step - loss: inf - accuracy: 0.1006\n",
      "Epoch 46/100\n",
      "42/42 [==============================] - 2s 38ms/step - loss: inf - accuracy: 0.1019\n",
      "Epoch 47/100\n",
      "42/42 [==============================] - 2s 39ms/step - loss: inf - accuracy: 0.1003\n",
      "Epoch 48/100\n",
      "42/42 [==============================] - 2s 38ms/step - loss: inf - accuracy: 0.0997\n",
      "Epoch 49/100\n",
      "42/42 [==============================] - 2s 39ms/step - loss: inf - accuracy: 0.0989\n",
      "Epoch 50/100\n",
      "42/42 [==============================] - 2s 39ms/step - loss: inf - accuracy: 0.0990\n",
      "Epoch 51/100\n",
      "42/42 [==============================] - 2s 38ms/step - loss: inf - accuracy: 0.0994\n",
      "Epoch 52/100\n",
      "42/42 [==============================] - 2s 38ms/step - loss: inf - accuracy: 0.1000\n",
      "Epoch 53/100\n",
      "42/42 [==============================] - 2s 40ms/step - loss: inf - accuracy: 0.1005\n",
      "Epoch 54/100\n",
      "42/42 [==============================] - 2s 39ms/step - loss: inf - accuracy: 0.1019\n",
      "Epoch 55/100\n",
      "42/42 [==============================] - 2s 39ms/step - loss: inf - accuracy: 0.0984\n",
      "Epoch 56/100\n",
      "42/42 [==============================] - 2s 39ms/step - loss: inf - accuracy: 0.1007\n",
      "Epoch 57/100\n",
      "42/42 [==============================] - 2s 39ms/step - loss: inf - accuracy: 0.1012\n",
      "Epoch 58/100\n",
      "42/42 [==============================] - 2s 38ms/step - loss: inf - accuracy: 0.1002\n",
      "Epoch 59/100\n",
      "42/42 [==============================] - 2s 39ms/step - loss: inf - accuracy: 0.1021\n",
      "Epoch 60/100\n",
      "42/42 [==============================] - 2s 38ms/step - loss: inf - accuracy: 0.1002\n",
      "Epoch 61/100\n",
      "42/42 [==============================] - 2s 39ms/step - loss: inf - accuracy: 0.1014\n",
      "Epoch 62/100\n",
      "42/42 [==============================] - 2s 39ms/step - loss: inf - accuracy: 0.1004\n",
      "Epoch 63/100\n",
      "42/42 [==============================] - 2s 39ms/step - loss: inf - accuracy: 0.0998\n",
      "Epoch 64/100\n",
      "42/42 [==============================] - 2s 39ms/step - loss: inf - accuracy: 0.1003\n",
      "Epoch 65/100\n",
      "42/42 [==============================] - 2s 39ms/step - loss: inf - accuracy: 0.1013\n",
      "Epoch 66/100\n",
      "42/42 [==============================] - 2s 39ms/step - loss: inf - accuracy: 0.1000\n",
      "Epoch 67/100\n",
      "42/42 [==============================] - 2s 40ms/step - loss: inf - accuracy: 0.1005\n",
      "Epoch 68/100\n",
      "42/42 [==============================] - 2s 39ms/step - loss: inf - accuracy: 0.1000\n",
      "Epoch 69/100\n",
      "42/42 [==============================] - 2s 40ms/step - loss: inf - accuracy: 0.0997\n",
      "Epoch 70/100\n",
      "42/42 [==============================] - 2s 39ms/step - loss: inf - accuracy: 0.1003\n",
      "Epoch 71/100\n",
      "42/42 [==============================] - 2s 39ms/step - loss: inf - accuracy: 0.0992\n",
      "Epoch 72/100\n",
      "42/42 [==============================] - 2s 39ms/step - loss: inf - accuracy: 0.1018\n",
      "Epoch 73/100\n",
      "42/42 [==============================] - 2s 38ms/step - loss: inf - accuracy: 0.1002\n",
      "Epoch 74/100\n",
      "42/42 [==============================] - 2s 39ms/step - loss: inf - accuracy: 0.0975\n",
      "Epoch 75/100\n",
      "42/42 [==============================] - 2s 38ms/step - loss: inf - accuracy: 0.1001\n",
      "Epoch 76/100\n",
      "42/42 [==============================] - 2s 38ms/step - loss: inf - accuracy: 0.1033\n",
      "Epoch 77/100\n",
      "42/42 [==============================] - 2s 39ms/step - loss: inf - accuracy: 0.0965\n",
      "Epoch 78/100\n",
      "42/42 [==============================] - 2s 39ms/step - loss: inf - accuracy: 0.0983\n",
      "Epoch 79/100\n",
      "42/42 [==============================] - 2s 39ms/step - loss: inf - accuracy: 0.1008\n",
      "Epoch 80/100\n",
      "42/42 [==============================] - 2s 39ms/step - loss: inf - accuracy: 0.1001\n",
      "Epoch 81/100\n",
      "42/42 [==============================] - 2s 39ms/step - loss: inf - accuracy: 0.0993\n",
      "Epoch 82/100\n",
      "42/42 [==============================] - 2s 38ms/step - loss: inf - accuracy: 0.0982\n",
      "Epoch 83/100\n",
      "42/42 [==============================] - 2s 39ms/step - loss: inf - accuracy: 0.0997\n",
      "Epoch 84/100\n",
      "42/42 [==============================] - 2s 39ms/step - loss: inf - accuracy: 0.1005\n",
      "Epoch 85/100\n",
      "42/42 [==============================] - 2s 38ms/step - loss: inf - accuracy: 0.1018\n",
      "Epoch 86/100\n",
      "42/42 [==============================] - 2s 39ms/step - loss: inf - accuracy: 0.1014\n",
      "Epoch 87/100\n",
      "42/42 [==============================] - 2s 39ms/step - loss: inf - accuracy: 0.0983\n",
      "Epoch 88/100\n",
      "42/42 [==============================] - 2s 39ms/step - loss: inf - accuracy: 0.0978\n",
      "Epoch 89/100\n",
      "42/42 [==============================] - 2s 39ms/step - loss: inf - accuracy: 0.0995\n",
      "Epoch 90/100\n",
      "42/42 [==============================] - 2s 39ms/step - loss: inf - accuracy: 0.0991\n",
      "Epoch 91/100\n",
      "42/42 [==============================] - 2s 39ms/step - loss: inf - accuracy: 0.0965\n",
      "Epoch 92/100\n",
      "42/42 [==============================] - 2s 39ms/step - loss: inf - accuracy: 0.1008\n",
      "Epoch 93/100\n",
      "42/42 [==============================] - 2s 39ms/step - loss: inf - accuracy: 0.0997\n",
      "Epoch 94/100\n",
      "42/42 [==============================] - 2s 39ms/step - loss: inf - accuracy: 0.1003\n",
      "Epoch 95/100\n",
      "42/42 [==============================] - 2s 39ms/step - loss: inf - accuracy: 0.1027\n",
      "Epoch 96/100\n",
      "42/42 [==============================] - 2s 39ms/step - loss: inf - accuracy: 0.0979\n",
      "Epoch 97/100\n",
      "42/42 [==============================] - 2s 39ms/step - loss: inf - accuracy: 0.0992\n",
      "Epoch 98/100\n",
      "42/42 [==============================] - 2s 40ms/step - loss: inf - accuracy: 0.0982\n",
      "Epoch 99/100\n",
      "42/42 [==============================] - 2s 40ms/step - loss: inf - accuracy: 0.1007\n",
      "Epoch 100/100\n",
      "42/42 [==============================] - 2s 39ms/step - loss: inf - accuracy: 0.1003\n",
      "Try 6/100: Best_val_acc: [inf, 0.09971428662538528], lr: 946.6978987911681, Lambda: 1.036551366224814e-07\n",
      "\n",
      "Epoch 1/100\n",
      "42/42 [==============================] - 2s 40ms/step - loss: 2.5179 - accuracy: 0.0997\n",
      "Epoch 2/100\n",
      "42/42 [==============================] - 2s 40ms/step - loss: 2.5172 - accuracy: 0.0997\n",
      "Epoch 3/100\n",
      "42/42 [==============================] - 2s 39ms/step - loss: 2.5164 - accuracy: 0.0997\n",
      "Epoch 4/100\n",
      "42/42 [==============================] - 2s 39ms/step - loss: 2.5157 - accuracy: 0.0997\n",
      "Epoch 5/100\n",
      "42/42 [==============================] - 2s 38ms/step - loss: 2.5150 - accuracy: 0.0997\n",
      "Epoch 6/100\n",
      "42/42 [==============================] - 2s 39ms/step - loss: 2.5143 - accuracy: 0.0997\n",
      "Epoch 7/100\n",
      "42/42 [==============================] - 2s 39ms/step - loss: 2.5135 - accuracy: 0.0997\n",
      "Epoch 8/100\n",
      "42/42 [==============================] - 2s 39ms/step - loss: 2.5128 - accuracy: 0.0997\n",
      "Epoch 9/100\n",
      "42/42 [==============================] - 2s 39ms/step - loss: 2.5121 - accuracy: 0.0997\n",
      "Epoch 10/100\n",
      "42/42 [==============================] - 2s 39ms/step - loss: 2.5114 - accuracy: 0.0997\n",
      "Epoch 11/100\n",
      "42/42 [==============================] - 2s 40ms/step - loss: 2.5107 - accuracy: 0.0997\n",
      "Epoch 12/100\n",
      "42/42 [==============================] - 2s 39ms/step - loss: 2.5100 - accuracy: 0.0997\n",
      "Epoch 13/100\n",
      "42/42 [==============================] - 2s 38ms/step - loss: 2.5093 - accuracy: 0.0997\n",
      "Epoch 14/100\n",
      "42/42 [==============================] - 2s 39ms/step - loss: 2.5086 - accuracy: 0.0997\n",
      "Epoch 15/100\n",
      "42/42 [==============================] - 2s 39ms/step - loss: 2.5079 - accuracy: 0.0997\n",
      "Epoch 16/100\n",
      "42/42 [==============================] - 2s 39ms/step - loss: 2.5072 - accuracy: 0.0997\n",
      "Epoch 17/100\n",
      "42/42 [==============================] - 2s 40ms/step - loss: 2.5065 - accuracy: 0.0997\n",
      "Epoch 18/100\n",
      "42/42 [==============================] - 2s 39ms/step - loss: 2.5059 - accuracy: 0.0997\n",
      "Epoch 19/100\n",
      "42/42 [==============================] - 2s 40ms/step - loss: 2.5052 - accuracy: 0.0997\n",
      "Epoch 20/100\n",
      "42/42 [==============================] - 2s 39ms/step - loss: 2.5045 - accuracy: 0.0997\n",
      "Epoch 21/100\n",
      "42/42 [==============================] - 2s 39ms/step - loss: 2.5038 - accuracy: 0.0997\n",
      "Epoch 22/100\n",
      "42/42 [==============================] - 2s 39ms/step - loss: 2.5032 - accuracy: 0.0997\n",
      "Epoch 23/100\n",
      "42/42 [==============================] - 2s 38ms/step - loss: 2.5025 - accuracy: 0.0997\n",
      "Epoch 24/100\n",
      "42/42 [==============================] - 2s 39ms/step - loss: 2.5019 - accuracy: 0.0997\n",
      "Epoch 25/100\n",
      "42/42 [==============================] - 2s 39ms/step - loss: 2.5012 - accuracy: 0.0997\n",
      "Epoch 26/100\n",
      "42/42 [==============================] - 2s 39ms/step - loss: 2.5006 - accuracy: 0.0997\n",
      "Epoch 27/100\n",
      "42/42 [==============================] - 2s 40ms/step - loss: 2.4999 - accuracy: 0.0997\n",
      "Epoch 28/100\n",
      "42/42 [==============================] - 2s 38ms/step - loss: 2.4993 - accuracy: 0.0997\n",
      "Epoch 29/100\n",
      "42/42 [==============================] - 2s 39ms/step - loss: 2.4986 - accuracy: 0.0997\n",
      "Epoch 30/100\n",
      "42/42 [==============================] - 2s 39ms/step - loss: 2.4980 - accuracy: 0.0997\n",
      "Epoch 31/100\n",
      "42/42 [==============================] - 2s 39ms/step - loss: 2.4974 - accuracy: 0.0997\n",
      "Epoch 32/100\n",
      "42/42 [==============================] - 2s 40ms/step - loss: 2.4967 - accuracy: 0.0997\n",
      "Epoch 33/100\n",
      "42/42 [==============================] - 2s 39ms/step - loss: 2.4961 - accuracy: 0.0997\n",
      "Epoch 34/100\n",
      "42/42 [==============================] - 2s 39ms/step - loss: 2.4955 - accuracy: 0.0997\n",
      "Epoch 35/100\n",
      "42/42 [==============================] - 2s 39ms/step - loss: 2.4949 - accuracy: 0.0997\n",
      "Epoch 36/100\n",
      "42/42 [==============================] - 2s 39ms/step - loss: 2.4942 - accuracy: 0.0997\n",
      "Epoch 37/100\n",
      "42/42 [==============================] - 2s 40ms/step - loss: 2.4936 - accuracy: 0.0997\n",
      "Epoch 38/100\n",
      "42/42 [==============================] - 2s 39ms/step - loss: 2.4930 - accuracy: 0.0997\n",
      "Epoch 39/100\n",
      "42/42 [==============================] - 2s 39ms/step - loss: 2.4924 - accuracy: 0.0997\n",
      "Epoch 40/100\n",
      "42/42 [==============================] - 2s 39ms/step - loss: 2.4918 - accuracy: 0.0997\n",
      "Epoch 41/100\n",
      "42/42 [==============================] - 2s 39ms/step - loss: 2.4912 - accuracy: 0.0997\n",
      "Epoch 42/100\n",
      "42/42 [==============================] - 2s 39ms/step - loss: 2.4906 - accuracy: 0.0997\n",
      "Epoch 43/100\n",
      "42/42 [==============================] - 2s 39ms/step - loss: 2.4900 - accuracy: 0.0997\n",
      "Epoch 44/100\n",
      "42/42 [==============================] - 2s 40ms/step - loss: 2.4894 - accuracy: 0.0997\n",
      "Epoch 45/100\n",
      "42/42 [==============================] - 2s 40ms/step - loss: 2.4888 - accuracy: 0.0997\n",
      "Epoch 46/100\n",
      "42/42 [==============================] - 2s 39ms/step - loss: 2.4882 - accuracy: 0.0997\n",
      "Epoch 47/100\n",
      "42/42 [==============================] - 2s 40ms/step - loss: 2.4876 - accuracy: 0.0997\n",
      "Epoch 48/100\n",
      "42/42 [==============================] - 2s 39ms/step - loss: 2.4871 - accuracy: 0.0997\n",
      "Epoch 49/100\n",
      "42/42 [==============================] - 2s 39ms/step - loss: 2.4865 - accuracy: 0.0997\n",
      "Epoch 50/100\n",
      "42/42 [==============================] - 2s 39ms/step - loss: 2.4859 - accuracy: 0.0997\n",
      "Epoch 51/100\n",
      "42/42 [==============================] - 2s 39ms/step - loss: 2.4853 - accuracy: 0.0997\n",
      "Epoch 52/100\n",
      "42/42 [==============================] - 2s 39ms/step - loss: 2.4848 - accuracy: 0.0997\n",
      "Epoch 53/100\n",
      "42/42 [==============================] - 2s 39ms/step - loss: 2.4842 - accuracy: 0.0997\n",
      "Epoch 54/100\n",
      "42/42 [==============================] - 2s 39ms/step - loss: 2.4836 - accuracy: 0.0997\n",
      "Epoch 55/100\n",
      "42/42 [==============================] - 2s 40ms/step - loss: 2.4831 - accuracy: 0.0997\n",
      "Epoch 56/100\n",
      "42/42 [==============================] - 2s 39ms/step - loss: 2.4825 - accuracy: 0.0997\n",
      "Epoch 57/100\n",
      "42/42 [==============================] - 2s 40ms/step - loss: 2.4820 - accuracy: 0.0997\n",
      "Epoch 58/100\n",
      "42/42 [==============================] - 2s 40ms/step - loss: 2.4814 - accuracy: 0.0997\n",
      "Epoch 59/100\n",
      "42/42 [==============================] - 2s 39ms/step - loss: 2.4809 - accuracy: 0.0997\n",
      "Epoch 60/100\n",
      "42/42 [==============================] - 2s 39ms/step - loss: 2.4803 - accuracy: 0.0997\n",
      "Epoch 61/100\n",
      "42/42 [==============================] - 2s 39ms/step - loss: 2.4798 - accuracy: 0.0997\n",
      "Epoch 62/100\n",
      "42/42 [==============================] - 2s 40ms/step - loss: 2.4792 - accuracy: 0.0997\n",
      "Epoch 63/100\n",
      "42/42 [==============================] - 2s 39ms/step - loss: 2.4787 - accuracy: 0.0997\n",
      "Epoch 64/100\n",
      "42/42 [==============================] - 2s 39ms/step - loss: 2.4782 - accuracy: 0.0997\n",
      "Epoch 65/100\n",
      "42/42 [==============================] - 2s 39ms/step - loss: 2.4776 - accuracy: 0.0997\n",
      "Epoch 66/100\n",
      "42/42 [==============================] - 2s 40ms/step - loss: 2.4771 - accuracy: 0.0997\n",
      "Epoch 67/100\n",
      "42/42 [==============================] - 2s 39ms/step - loss: 2.4766 - accuracy: 0.0997\n",
      "Epoch 68/100\n",
      "42/42 [==============================] - 2s 40ms/step - loss: 2.4760 - accuracy: 0.0997\n",
      "Epoch 69/100\n",
      "42/42 [==============================] - 2s 39ms/step - loss: 2.4755 - accuracy: 0.0997\n",
      "Epoch 70/100\n",
      "42/42 [==============================] - 2s 39ms/step - loss: 2.4750 - accuracy: 0.0997\n",
      "Epoch 71/100\n",
      "42/42 [==============================] - 2s 40ms/step - loss: 2.4745 - accuracy: 0.0997\n",
      "Epoch 72/100\n",
      "42/42 [==============================] - 2s 39ms/step - loss: 2.4740 - accuracy: 0.0997\n",
      "Epoch 73/100\n",
      "42/42 [==============================] - 2s 41ms/step - loss: 2.4734 - accuracy: 0.0997\n",
      "Epoch 74/100\n",
      "42/42 [==============================] - 2s 39ms/step - loss: 2.4729 - accuracy: 0.0997\n",
      "Epoch 75/100\n",
      "42/42 [==============================] - 2s 39ms/step - loss: 2.4724 - accuracy: 0.0997\n",
      "Epoch 76/100\n",
      "42/42 [==============================] - 2s 39ms/step - loss: 2.4719 - accuracy: 0.0997\n",
      "Epoch 77/100\n",
      "42/42 [==============================] - 2s 39ms/step - loss: 2.4714 - accuracy: 0.0997\n",
      "Epoch 78/100\n",
      "42/42 [==============================] - 2s 39ms/step - loss: 2.4709 - accuracy: 0.0997\n",
      "Epoch 79/100\n",
      "42/42 [==============================] - 2s 40ms/step - loss: 2.4704 - accuracy: 0.0997\n",
      "Epoch 80/100\n",
      "42/42 [==============================] - 2s 39ms/step - loss: 2.4699 - accuracy: 0.0997\n",
      "Epoch 81/100\n",
      "42/42 [==============================] - 2s 40ms/step - loss: 2.4694 - accuracy: 0.0997\n",
      "Epoch 82/100\n",
      "42/42 [==============================] - 2s 39ms/step - loss: 2.4689 - accuracy: 0.0997\n",
      "Epoch 83/100\n",
      "42/42 [==============================] - 2s 40ms/step - loss: 2.4684 - accuracy: 0.0997\n",
      "Epoch 84/100\n",
      "42/42 [==============================] - 2s 39ms/step - loss: 2.4680 - accuracy: 0.0997\n",
      "Epoch 85/100\n",
      "42/42 [==============================] - 2s 39ms/step - loss: 2.4675 - accuracy: 0.0997\n",
      "Epoch 86/100\n",
      "42/42 [==============================] - 2s 40ms/step - loss: 2.4670 - accuracy: 0.0997\n",
      "Epoch 87/100\n",
      "42/42 [==============================] - 2s 40ms/step - loss: 2.4665 - accuracy: 0.0997\n",
      "Epoch 88/100\n",
      "42/42 [==============================] - 2s 40ms/step - loss: 2.4660 - accuracy: 0.0997\n",
      "Epoch 89/100\n",
      "42/42 [==============================] - 2s 39ms/step - loss: 2.4655 - accuracy: 0.0996\n",
      "Epoch 90/100\n",
      "42/42 [==============================] - 2s 39ms/step - loss: 2.4651 - accuracy: 0.0996\n",
      "Epoch 91/100\n",
      "42/42 [==============================] - 2s 39ms/step - loss: 2.4646 - accuracy: 0.0996\n",
      "Epoch 92/100\n",
      "42/42 [==============================] - 2s 40ms/step - loss: 2.4641 - accuracy: 0.0996\n",
      "Epoch 93/100\n",
      "42/42 [==============================] - 2s 39ms/step - loss: 2.4637 - accuracy: 0.0996\n",
      "Epoch 94/100\n",
      "42/42 [==============================] - 2s 39ms/step - loss: 2.4632 - accuracy: 0.0996\n",
      "Epoch 95/100\n",
      "42/42 [==============================] - 2s 40ms/step - loss: 2.4627 - accuracy: 0.0996\n",
      "Epoch 96/100\n",
      "42/42 [==============================] - 2s 40ms/step - loss: 2.4623 - accuracy: 0.0996\n",
      "Epoch 97/100\n",
      "42/42 [==============================] - 2s 39ms/step - loss: 2.4618 - accuracy: 0.0996\n",
      "Epoch 98/100\n",
      "42/42 [==============================] - 2s 39ms/step - loss: 2.4614 - accuracy: 0.0996\n",
      "Epoch 99/100\n",
      "42/42 [==============================] - 2s 39ms/step - loss: 2.4609 - accuracy: 0.0996\n",
      "Epoch 100/100\n",
      "42/42 [==============================] - 2s 39ms/step - loss: 2.4604 - accuracy: 0.0996\n",
      "Try 7/100: Best_val_acc: [2.4602160453796387, 0.09959524124860764], lr: 1.2383081596293446e-07, Lambda: 7.122074235544767e-06\n",
      "\n",
      "Epoch 1/100\n",
      "42/42 [==============================] - 2s 40ms/step - loss: 2.4297 - accuracy: 0.0977\n",
      "Epoch 2/100\n",
      "42/42 [==============================] - 2s 39ms/step - loss: 2.4280 - accuracy: 0.0977\n",
      "Epoch 3/100\n",
      "42/42 [==============================] - 2s 40ms/step - loss: 2.4263 - accuracy: 0.0979\n",
      "Epoch 4/100\n",
      "42/42 [==============================] - 2s 39ms/step - loss: 2.4246 - accuracy: 0.0977\n",
      "Epoch 5/100\n",
      "42/42 [==============================] - 2s 40ms/step - loss: 2.4229 - accuracy: 0.0976\n",
      "Epoch 6/100\n",
      "42/42 [==============================] - 2s 40ms/step - loss: 2.4213 - accuracy: 0.0976\n",
      "Epoch 7/100\n",
      "42/42 [==============================] - 2s 40ms/step - loss: 2.4196 - accuracy: 0.0976\n",
      "Epoch 8/100\n",
      "42/42 [==============================] - 2s 39ms/step - loss: 2.4181 - accuracy: 0.0975\n",
      "Epoch 9/100\n",
      "42/42 [==============================] - 2s 40ms/step - loss: 2.4165 - accuracy: 0.0975\n",
      "Epoch 10/100\n",
      "42/42 [==============================] - 2s 40ms/step - loss: 2.4150 - accuracy: 0.0974\n",
      "Epoch 11/100\n",
      "42/42 [==============================] - 2s 40ms/step - loss: 2.4135 - accuracy: 0.0974\n",
      "Epoch 12/100\n",
      "42/42 [==============================] - 2s 40ms/step - loss: 2.4120 - accuracy: 0.0974\n",
      "Epoch 13/100\n",
      "42/42 [==============================] - 2s 39ms/step - loss: 2.4106 - accuracy: 0.0974\n",
      "Epoch 14/100\n",
      "42/42 [==============================] - 2s 39ms/step - loss: 2.4091 - accuracy: 0.0973\n",
      "Epoch 15/100\n",
      "42/42 [==============================] - 2s 39ms/step - loss: 2.4077 - accuracy: 0.0973\n",
      "Epoch 16/100\n",
      "42/42 [==============================] - 2s 40ms/step - loss: 2.4064 - accuracy: 0.0973\n",
      "Epoch 17/100\n",
      "42/42 [==============================] - 2s 39ms/step - loss: 2.4050 - accuracy: 0.0974\n",
      "Epoch 18/100\n",
      "42/42 [==============================] - 2s 40ms/step - loss: 2.4037 - accuracy: 0.0974\n",
      "Epoch 19/100\n",
      "42/42 [==============================] - 2s 40ms/step - loss: 2.4024 - accuracy: 0.0974\n",
      "Epoch 20/100\n",
      "42/42 [==============================] - 2s 39ms/step - loss: 2.4011 - accuracy: 0.0975\n",
      "Epoch 21/100\n",
      "42/42 [==============================] - 2s 40ms/step - loss: 2.3998 - accuracy: 0.0975\n",
      "Epoch 22/100\n",
      "42/42 [==============================] - 2s 39ms/step - loss: 2.3986 - accuracy: 0.0975\n",
      "Epoch 23/100\n",
      "42/42 [==============================] - 2s 40ms/step - loss: 2.3974 - accuracy: 0.0975\n",
      "Epoch 24/100\n",
      "42/42 [==============================] - 2s 40ms/step - loss: 2.3962 - accuracy: 0.0975\n",
      "Epoch 25/100\n",
      "42/42 [==============================] - 2s 39ms/step - loss: 2.3950 - accuracy: 0.0975\n",
      "Epoch 26/100\n",
      "42/42 [==============================] - 2s 40ms/step - loss: 2.3938 - accuracy: 0.0976\n",
      "Epoch 27/100\n",
      "42/42 [==============================] - 2s 40ms/step - loss: 2.3927 - accuracy: 0.0976\n",
      "Epoch 28/100\n",
      "42/42 [==============================] - 2s 39ms/step - loss: 2.3916 - accuracy: 0.0975\n",
      "Epoch 29/100\n",
      "42/42 [==============================] - 2s 40ms/step - loss: 2.3905 - accuracy: 0.0975\n",
      "Epoch 30/100\n",
      "42/42 [==============================] - 2s 40ms/step - loss: 2.3894 - accuracy: 0.0975\n",
      "Epoch 31/100\n",
      "42/42 [==============================] - 2s 40ms/step - loss: 2.3883 - accuracy: 0.0976\n",
      "Epoch 32/100\n",
      "42/42 [==============================] - 2s 41ms/step - loss: 2.3872 - accuracy: 0.0976\n",
      "Epoch 33/100\n",
      "42/42 [==============================] - 2s 40ms/step - loss: 2.3862 - accuracy: 0.0977\n",
      "Epoch 34/100\n",
      "42/42 [==============================] - 2s 40ms/step - loss: 2.3852 - accuracy: 0.0977\n",
      "Epoch 35/100\n",
      "42/42 [==============================] - 2s 39ms/step - loss: 2.3842 - accuracy: 0.0978\n",
      "Epoch 36/100\n",
      "42/42 [==============================] - 2s 39ms/step - loss: 2.3832 - accuracy: 0.0977\n",
      "Epoch 37/100\n",
      "42/42 [==============================] - 2s 40ms/step - loss: 2.3822 - accuracy: 0.0977\n",
      "Epoch 38/100\n",
      "42/42 [==============================] - 2s 40ms/step - loss: 2.3813 - accuracy: 0.0977\n",
      "Epoch 39/100\n",
      "42/42 [==============================] - 2s 40ms/step - loss: 2.3803 - accuracy: 0.0975\n",
      "Epoch 40/100\n",
      "42/42 [==============================] - 2s 40ms/step - loss: 2.3794 - accuracy: 0.0975\n",
      "Epoch 41/100\n",
      "42/42 [==============================] - 2s 39ms/step - loss: 2.3785 - accuracy: 0.0974\n",
      "Epoch 42/100\n",
      "42/42 [==============================] - 2s 40ms/step - loss: 2.3776 - accuracy: 0.0974\n",
      "Epoch 43/100\n",
      "42/42 [==============================] - 2s 40ms/step - loss: 2.3767 - accuracy: 0.0973\n",
      "Epoch 44/100\n",
      "42/42 [==============================] - 2s 39ms/step - loss: 2.3758 - accuracy: 0.0973\n",
      "Epoch 45/100\n",
      "42/42 [==============================] - 2s 40ms/step - loss: 2.3750 - accuracy: 0.0972\n",
      "Epoch 46/100\n",
      "42/42 [==============================] - 2s 39ms/step - loss: 2.3741 - accuracy: 0.0971\n",
      "Epoch 47/100\n",
      "42/42 [==============================] - 2s 39ms/step - loss: 2.3733 - accuracy: 0.0971\n",
      "Epoch 48/100\n",
      "42/42 [==============================] - 2s 39ms/step - loss: 2.3725 - accuracy: 0.0970\n",
      "Epoch 49/100\n",
      "42/42 [==============================] - 2s 39ms/step - loss: 2.3717 - accuracy: 0.0971\n",
      "Epoch 50/100\n",
      "42/42 [==============================] - 2s 40ms/step - loss: 2.3709 - accuracy: 0.0970\n",
      "Epoch 51/100\n",
      "42/42 [==============================] - 2s 40ms/step - loss: 2.3701 - accuracy: 0.0971\n",
      "Epoch 52/100\n",
      "42/42 [==============================] - 2s 39ms/step - loss: 2.3693 - accuracy: 0.0971\n",
      "Epoch 53/100\n",
      "42/42 [==============================] - 2s 41ms/step - loss: 2.3686 - accuracy: 0.0971\n",
      "Epoch 54/100\n",
      "42/42 [==============================] - 2s 41ms/step - loss: 2.3678 - accuracy: 0.0969\n",
      "Epoch 55/100\n",
      "42/42 [==============================] - 2s 40ms/step - loss: 2.3671 - accuracy: 0.0970\n",
      "Epoch 56/100\n",
      "42/42 [==============================] - 2s 41ms/step - loss: 2.3664 - accuracy: 0.0969\n",
      "Epoch 57/100\n",
      "42/42 [==============================] - 2s 40ms/step - loss: 2.3657 - accuracy: 0.0968\n",
      "Epoch 58/100\n",
      "42/42 [==============================] - 2s 40ms/step - loss: 2.3650 - accuracy: 0.0967\n",
      "Epoch 59/100\n",
      "42/42 [==============================] - 2s 40ms/step - loss: 2.3643 - accuracy: 0.0966\n",
      "Epoch 60/100\n",
      "42/42 [==============================] - 2s 39ms/step - loss: 2.3636 - accuracy: 0.0966\n",
      "Epoch 61/100\n",
      "42/42 [==============================] - 2s 40ms/step - loss: 2.3629 - accuracy: 0.0965\n",
      "Epoch 62/100\n",
      "42/42 [==============================] - 2s 41ms/step - loss: 2.3622 - accuracy: 0.0965\n",
      "Epoch 63/100\n",
      "42/42 [==============================] - 2s 40ms/step - loss: 2.3616 - accuracy: 0.0965\n",
      "Epoch 64/100\n",
      "42/42 [==============================] - 2s 40ms/step - loss: 2.3609 - accuracy: 0.0964\n",
      "Epoch 65/100\n",
      "42/42 [==============================] - 2s 40ms/step - loss: 2.3603 - accuracy: 0.0965\n",
      "Epoch 66/100\n",
      "42/42 [==============================] - 2s 40ms/step - loss: 2.3597 - accuracy: 0.0964\n",
      "Epoch 67/100\n",
      "42/42 [==============================] - 2s 40ms/step - loss: 2.3590 - accuracy: 0.0964\n",
      "Epoch 68/100\n",
      "42/42 [==============================] - 2s 40ms/step - loss: 2.3584 - accuracy: 0.0964\n",
      "Epoch 69/100\n",
      "42/42 [==============================] - 2s 40ms/step - loss: 2.3578 - accuracy: 0.0964\n",
      "Epoch 70/100\n",
      "42/42 [==============================] - 2s 40ms/step - loss: 2.3572 - accuracy: 0.0964\n",
      "Epoch 71/100\n",
      "42/42 [==============================] - 2s 40ms/step - loss: 2.3567 - accuracy: 0.0965\n",
      "Epoch 72/100\n",
      "42/42 [==============================] - 2s 41ms/step - loss: 2.3561 - accuracy: 0.0965\n",
      "Epoch 73/100\n",
      "42/42 [==============================] - 2s 39ms/step - loss: 2.3555 - accuracy: 0.0966\n",
      "Epoch 74/100\n",
      "42/42 [==============================] - 2s 40ms/step - loss: 2.3549 - accuracy: 0.0966\n",
      "Epoch 75/100\n",
      "42/42 [==============================] - 2s 41ms/step - loss: 2.3544 - accuracy: 0.0965\n",
      "Epoch 76/100\n",
      "42/42 [==============================] - 2s 40ms/step - loss: 2.3538 - accuracy: 0.0965\n",
      "Epoch 77/100\n",
      "42/42 [==============================] - 2s 40ms/step - loss: 2.3533 - accuracy: 0.0965\n",
      "Epoch 78/100\n",
      "42/42 [==============================] - 2s 40ms/step - loss: 2.3528 - accuracy: 0.0965\n",
      "Epoch 79/100\n",
      "42/42 [==============================] - 2s 41ms/step - loss: 2.3523 - accuracy: 0.0964\n",
      "Epoch 80/100\n",
      "42/42 [==============================] - 2s 40ms/step - loss: 2.3517 - accuracy: 0.0963\n",
      "Epoch 81/100\n",
      "42/42 [==============================] - 2s 40ms/step - loss: 2.3512 - accuracy: 0.0963\n",
      "Epoch 82/100\n",
      "42/42 [==============================] - 2s 40ms/step - loss: 2.3507 - accuracy: 0.0963\n",
      "Epoch 83/100\n",
      "42/42 [==============================] - 2s 39ms/step - loss: 2.3502 - accuracy: 0.0963\n",
      "Epoch 84/100\n",
      "42/42 [==============================] - 2s 40ms/step - loss: 2.3497 - accuracy: 0.0963\n",
      "Epoch 85/100\n",
      "42/42 [==============================] - 2s 40ms/step - loss: 2.3493 - accuracy: 0.0962\n",
      "Epoch 86/100\n",
      "42/42 [==============================] - 2s 39ms/step - loss: 2.3488 - accuracy: 0.0963\n",
      "Epoch 87/100\n",
      "42/42 [==============================] - 2s 39ms/step - loss: 2.3483 - accuracy: 0.0962\n",
      "Epoch 88/100\n",
      "42/42 [==============================] - 2s 39ms/step - loss: 2.3479 - accuracy: 0.0962\n",
      "Epoch 89/100\n",
      "42/42 [==============================] - 2s 40ms/step - loss: 2.3474 - accuracy: 0.0962\n",
      "Epoch 90/100\n",
      "42/42 [==============================] - 2s 40ms/step - loss: 2.3469 - accuracy: 0.0962\n",
      "Epoch 91/100\n",
      "42/42 [==============================] - 2s 41ms/step - loss: 2.3465 - accuracy: 0.0962\n",
      "Epoch 92/100\n",
      "42/42 [==============================] - 2s 41ms/step - loss: 2.3461 - accuracy: 0.0962\n",
      "Epoch 93/100\n",
      "42/42 [==============================] - 2s 40ms/step - loss: 2.3456 - accuracy: 0.0961\n",
      "Epoch 94/100\n",
      "42/42 [==============================] - 2s 40ms/step - loss: 2.3452 - accuracy: 0.0961\n",
      "Epoch 95/100\n",
      "42/42 [==============================] - 2s 39ms/step - loss: 2.3448 - accuracy: 0.0961\n",
      "Epoch 96/100\n",
      "42/42 [==============================] - 2s 40ms/step - loss: 2.3444 - accuracy: 0.0961\n",
      "Epoch 97/100\n",
      "42/42 [==============================] - 2s 40ms/step - loss: 2.3440 - accuracy: 0.0960\n",
      "Epoch 98/100\n",
      "42/42 [==============================] - 2s 41ms/step - loss: 2.3435 - accuracy: 0.0961\n",
      "Epoch 99/100\n",
      "42/42 [==============================] - 2s 41ms/step - loss: 2.3431 - accuracy: 0.0961\n",
      "Epoch 100/100\n",
      "42/42 [==============================] - 2s 40ms/step - loss: 2.3427 - accuracy: 0.0961\n",
      "Try 8/100: Best_val_acc: [2.3425488471984863, 0.09607142955064774], lr: 9.072118676761137e-07, Lambda: 1.8502445467530912e-07\n",
      "\n",
      "Epoch 1/100\n",
      "42/42 [==============================] - 2s 40ms/step - loss: 2.3049 - accuracy: 0.1241\n",
      "Epoch 2/100\n",
      "42/42 [==============================] - 2s 40ms/step - loss: 2.2120 - accuracy: 0.2592\n",
      "Epoch 3/100\n",
      "42/42 [==============================] - 2s 40ms/step - loss: 1.8954 - accuracy: 0.3939\n",
      "Epoch 4/100\n",
      "42/42 [==============================] - 2s 39ms/step - loss: 1.6785 - accuracy: 0.4496\n",
      "Epoch 5/100\n",
      "42/42 [==============================] - 2s 40ms/step - loss: 1.4885 - accuracy: 0.5134\n",
      "Epoch 6/100\n",
      "42/42 [==============================] - 2s 41ms/step - loss: 1.2446 - accuracy: 0.6100\n",
      "Epoch 7/100\n",
      "42/42 [==============================] - 2s 40ms/step - loss: 1.2404 - accuracy: 0.6031\n",
      "Epoch 8/100\n",
      "42/42 [==============================] - 2s 41ms/step - loss: 1.1716 - accuracy: 0.6318\n",
      "Epoch 9/100\n",
      "42/42 [==============================] - 2s 40ms/step - loss: 1.0594 - accuracy: 0.6739\n",
      "Epoch 10/100\n",
      "42/42 [==============================] - 2s 40ms/step - loss: 1.0379 - accuracy: 0.6803\n",
      "Epoch 11/100\n",
      "42/42 [==============================] - 2s 41ms/step - loss: 0.9827 - accuracy: 0.6981\n",
      "Epoch 12/100\n",
      "42/42 [==============================] - 2s 40ms/step - loss: 0.9689 - accuracy: 0.7032\n",
      "Epoch 13/100\n",
      "42/42 [==============================] - 2s 40ms/step - loss: 0.9209 - accuracy: 0.7185\n",
      "Epoch 14/100\n",
      "42/42 [==============================] - 2s 42ms/step - loss: 0.8935 - accuracy: 0.7273\n",
      "Epoch 15/100\n",
      "42/42 [==============================] - 2s 41ms/step - loss: 0.9023 - accuracy: 0.7226\n",
      "Epoch 16/100\n",
      "42/42 [==============================] - 2s 40ms/step - loss: 0.8553 - accuracy: 0.7378\n",
      "Epoch 17/100\n",
      "42/42 [==============================] - 2s 40ms/step - loss: 0.8397 - accuracy: 0.7446\n",
      "Epoch 18/100\n",
      "42/42 [==============================] - 2s 40ms/step - loss: 0.7927 - accuracy: 0.7595\n",
      "Epoch 19/100\n",
      "42/42 [==============================] - 2s 40ms/step - loss: 0.7651 - accuracy: 0.7674\n",
      "Epoch 20/100\n",
      "42/42 [==============================] - 2s 42ms/step - loss: 0.7537 - accuracy: 0.7731\n",
      "Epoch 21/100\n",
      "42/42 [==============================] - 2s 41ms/step - loss: 0.7438 - accuracy: 0.7746\n",
      "Epoch 22/100\n",
      "42/42 [==============================] - 2s 40ms/step - loss: 0.7245 - accuracy: 0.7798\n",
      "Epoch 23/100\n",
      "42/42 [==============================] - 2s 40ms/step - loss: 0.7276 - accuracy: 0.7808\n",
      "Epoch 24/100\n",
      "42/42 [==============================] - 2s 40ms/step - loss: 0.7203 - accuracy: 0.7817\n",
      "Epoch 25/100\n",
      "42/42 [==============================] - 2s 40ms/step - loss: 0.6893 - accuracy: 0.7937\n",
      "Epoch 26/100\n",
      "42/42 [==============================] - 2s 42ms/step - loss: 0.6886 - accuracy: 0.7921\n",
      "Epoch 27/100\n",
      "42/42 [==============================] - 2s 40ms/step - loss: 0.6716 - accuracy: 0.7995\n",
      "Epoch 28/100\n",
      "42/42 [==============================] - 2s 40ms/step - loss: 0.6589 - accuracy: 0.8011\n",
      "Epoch 29/100\n",
      "42/42 [==============================] - 2s 41ms/step - loss: 0.6382 - accuracy: 0.8089\n",
      "Epoch 30/100\n",
      "42/42 [==============================] - 2s 40ms/step - loss: 0.6401 - accuracy: 0.8082\n",
      "Epoch 31/100\n",
      "42/42 [==============================] - 2s 41ms/step - loss: 0.6189 - accuracy: 0.8165\n",
      "Epoch 32/100\n",
      "42/42 [==============================] - 2s 41ms/step - loss: 0.6081 - accuracy: 0.8178\n",
      "Epoch 33/100\n",
      "42/42 [==============================] - 2s 40ms/step - loss: 0.5937 - accuracy: 0.8230\n",
      "Epoch 34/100\n",
      "42/42 [==============================] - 2s 40ms/step - loss: 0.5885 - accuracy: 0.8243\n",
      "Epoch 35/100\n",
      "42/42 [==============================] - 2s 41ms/step - loss: 0.5990 - accuracy: 0.8211\n",
      "Epoch 36/100\n",
      "42/42 [==============================] - 2s 40ms/step - loss: 0.5780 - accuracy: 0.8260\n",
      "Epoch 37/100\n",
      "42/42 [==============================] - 2s 41ms/step - loss: 0.5663 - accuracy: 0.8318\n",
      "Epoch 38/100\n",
      "42/42 [==============================] - 2s 42ms/step - loss: 0.5533 - accuracy: 0.8352\n",
      "Epoch 39/100\n",
      "42/42 [==============================] - 2s 40ms/step - loss: 0.5468 - accuracy: 0.8390\n",
      "Epoch 40/100\n",
      "42/42 [==============================] - 2s 40ms/step - loss: 0.5533 - accuracy: 0.8343\n",
      "Epoch 41/100\n",
      "42/42 [==============================] - 2s 41ms/step - loss: 0.5641 - accuracy: 0.8317\n",
      "Epoch 42/100\n",
      "42/42 [==============================] - 2s 40ms/step - loss: 0.5382 - accuracy: 0.8383\n",
      "Epoch 43/100\n",
      "42/42 [==============================] - 2s 41ms/step - loss: 0.5278 - accuracy: 0.8432\n",
      "Epoch 44/100\n",
      "42/42 [==============================] - 2s 41ms/step - loss: 0.5136 - accuracy: 0.8490\n",
      "Epoch 45/100\n",
      "42/42 [==============================] - 2s 40ms/step - loss: 0.5212 - accuracy: 0.8450\n",
      "Epoch 46/100\n",
      "42/42 [==============================] - 2s 40ms/step - loss: 0.5150 - accuracy: 0.8466\n",
      "Epoch 47/100\n",
      "42/42 [==============================] - 2s 41ms/step - loss: 0.4971 - accuracy: 0.8525\n",
      "Epoch 48/100\n",
      "42/42 [==============================] - 2s 40ms/step - loss: 0.4966 - accuracy: 0.8526\n",
      "Epoch 49/100\n",
      "42/42 [==============================] - 2s 41ms/step - loss: 0.4842 - accuracy: 0.8572\n",
      "Epoch 50/100\n",
      "42/42 [==============================] - 2s 41ms/step - loss: 0.4980 - accuracy: 0.8514\n",
      "Epoch 51/100\n",
      "42/42 [==============================] - 2s 40ms/step - loss: 0.4779 - accuracy: 0.8588\n",
      "Epoch 52/100\n",
      "42/42 [==============================] - 2s 41ms/step - loss: 0.4930 - accuracy: 0.8545\n",
      "Epoch 53/100\n",
      "42/42 [==============================] - 2s 40ms/step - loss: 0.4924 - accuracy: 0.8519\n",
      "Epoch 54/100\n",
      "42/42 [==============================] - 2s 40ms/step - loss: 0.4597 - accuracy: 0.8630\n",
      "Epoch 55/100\n",
      "42/42 [==============================] - 2s 41ms/step - loss: 0.4642 - accuracy: 0.8624\n",
      "Epoch 56/100\n",
      "42/42 [==============================] - 2s 40ms/step - loss: 0.4583 - accuracy: 0.8643\n",
      "Epoch 57/100\n",
      "42/42 [==============================] - 2s 41ms/step - loss: 0.4655 - accuracy: 0.8608\n",
      "Epoch 58/100\n",
      "42/42 [==============================] - 2s 40ms/step - loss: 0.4549 - accuracy: 0.8652\n",
      "Epoch 59/100\n",
      "42/42 [==============================] - 2s 40ms/step - loss: 0.4406 - accuracy: 0.8710\n",
      "Epoch 60/100\n",
      "42/42 [==============================] - 2s 41ms/step - loss: 0.4463 - accuracy: 0.8675\n",
      "Epoch 61/100\n",
      "42/42 [==============================] - 2s 41ms/step - loss: 0.4402 - accuracy: 0.8694\n",
      "Epoch 62/100\n",
      "42/42 [==============================] - 2s 41ms/step - loss: 0.4273 - accuracy: 0.8723\n",
      "Epoch 63/100\n",
      "42/42 [==============================] - 2s 41ms/step - loss: 0.4220 - accuracy: 0.8761\n",
      "Epoch 64/100\n",
      "42/42 [==============================] - 2s 41ms/step - loss: 0.4322 - accuracy: 0.8704\n",
      "Epoch 65/100\n",
      "42/42 [==============================] - 2s 41ms/step - loss: 0.4298 - accuracy: 0.8712\n",
      "Epoch 66/100\n",
      "42/42 [==============================] - 2s 41ms/step - loss: 0.4403 - accuracy: 0.8681\n",
      "Epoch 67/100\n",
      "42/42 [==============================] - 2s 41ms/step - loss: 0.4183 - accuracy: 0.8748\n",
      "Epoch 68/100\n",
      "42/42 [==============================] - 2s 41ms/step - loss: 0.4117 - accuracy: 0.8781\n",
      "Epoch 69/100\n",
      "42/42 [==============================] - 2s 40ms/step - loss: 0.4189 - accuracy: 0.8750\n",
      "Epoch 70/100\n",
      "42/42 [==============================] - 2s 42ms/step - loss: 0.4242 - accuracy: 0.8723\n",
      "Epoch 71/100\n",
      "42/42 [==============================] - 2s 40ms/step - loss: 0.4098 - accuracy: 0.8795\n",
      "Epoch 72/100\n",
      "42/42 [==============================] - 2s 40ms/step - loss: 0.4001 - accuracy: 0.8822\n",
      "Epoch 73/100\n",
      "42/42 [==============================] - 2s 40ms/step - loss: 0.3889 - accuracy: 0.8858\n",
      "Epoch 74/100\n",
      "42/42 [==============================] - 2s 41ms/step - loss: 0.3933 - accuracy: 0.8837\n",
      "Epoch 75/100\n",
      "42/42 [==============================] - 2s 41ms/step - loss: 0.3993 - accuracy: 0.8819\n",
      "Epoch 76/100\n",
      "42/42 [==============================] - 2s 40ms/step - loss: 0.3842 - accuracy: 0.8861\n",
      "Epoch 77/100\n",
      "42/42 [==============================] - 2s 40ms/step - loss: 0.3864 - accuracy: 0.8867\n",
      "Epoch 78/100\n",
      "42/42 [==============================] - 2s 40ms/step - loss: 0.3871 - accuracy: 0.8871\n",
      "Epoch 79/100\n",
      "42/42 [==============================] - 2s 40ms/step - loss: 0.3791 - accuracy: 0.8870\n",
      "Epoch 80/100\n",
      "42/42 [==============================] - 2s 40ms/step - loss: 0.3787 - accuracy: 0.8879\n",
      "Epoch 81/100\n",
      "42/42 [==============================] - 2s 41ms/step - loss: 0.3586 - accuracy: 0.8953\n",
      "Epoch 82/100\n",
      "42/42 [==============================] - 2s 41ms/step - loss: 0.3696 - accuracy: 0.8920\n",
      "Epoch 83/100\n",
      "42/42 [==============================] - 2s 40ms/step - loss: 0.3811 - accuracy: 0.8857\n",
      "Epoch 84/100\n",
      "42/42 [==============================] - 2s 41ms/step - loss: 0.3641 - accuracy: 0.8929\n",
      "Epoch 85/100\n",
      "42/42 [==============================] - 2s 41ms/step - loss: 0.3727 - accuracy: 0.8905\n",
      "Epoch 86/100\n",
      "42/42 [==============================] - 2s 40ms/step - loss: 0.3603 - accuracy: 0.8938\n",
      "Epoch 87/100\n",
      "42/42 [==============================] - 2s 42ms/step - loss: 0.3518 - accuracy: 0.8974\n",
      "Epoch 88/100\n",
      "42/42 [==============================] - 2s 41ms/step - loss: 0.3597 - accuracy: 0.8935\n",
      "Epoch 89/100\n",
      "42/42 [==============================] - 2s 40ms/step - loss: 0.3715 - accuracy: 0.8889\n",
      "Epoch 90/100\n",
      "42/42 [==============================] - 2s 41ms/step - loss: 0.3413 - accuracy: 0.9010\n",
      "Epoch 91/100\n",
      "42/42 [==============================] - 2s 41ms/step - loss: 0.3317 - accuracy: 0.9033\n",
      "Epoch 92/100\n",
      "42/42 [==============================] - 2s 41ms/step - loss: 0.3377 - accuracy: 0.9011\n",
      "Epoch 93/100\n",
      "42/42 [==============================] - 2s 41ms/step - loss: 0.3320 - accuracy: 0.9026\n",
      "Epoch 94/100\n",
      "42/42 [==============================] - 2s 42ms/step - loss: 0.3395 - accuracy: 0.8994\n",
      "Epoch 95/100\n",
      "42/42 [==============================] - 2s 41ms/step - loss: 0.3379 - accuracy: 0.9003\n",
      "Epoch 96/100\n",
      "42/42 [==============================] - 2s 41ms/step - loss: 0.3494 - accuracy: 0.8960\n",
      "Epoch 97/100\n",
      "42/42 [==============================] - 2s 41ms/step - loss: 0.3449 - accuracy: 0.8981\n",
      "Epoch 98/100\n",
      "42/42 [==============================] - 2s 41ms/step - loss: 0.3213 - accuracy: 0.9052\n",
      "Epoch 99/100\n",
      "42/42 [==============================] - 2s 41ms/step - loss: 0.3300 - accuracy: 0.9019\n",
      "Epoch 100/100\n",
      "42/42 [==============================] - 2s 42ms/step - loss: 0.3434 - accuracy: 0.8975\n",
      "Try 9/100: Best_val_acc: [0.30812060832977295, 0.9120000004768372], lr: 0.05296225450286876, Lambda: 0.00011445347794978558\n",
      "\n"
     ]
    }
   ],
   "source": [
    "import math\n",
    "for k in range(1,10):\n",
    "    lr = math.pow(10, np.random.uniform(-7.0, 3.0))\n",
    "    Lambda = math.pow(10, np.random.uniform(-7,-2))\n",
    "    best_acc = train_and_test_loop1(100, lr, Lambda, False)\n",
    "    print(\"Try {0}/{1}: Best_val_acc: {2}, lr: {3}, Lambda: {4}\\n\".format(k, 100, best_acc, lr, Lambda))"
   ]
  },
  {
   "cell_type": "markdown",
   "metadata": {
    "id": "Svp8KJUpU6FK"
   },
   "source": [
    "Hyperparameter tuning the dataset with the best params"
   ]
  },
  {
   "cell_type": "code",
   "execution_count": 70,
   "metadata": {
    "id": "oCRYES_CRWYG"
   },
   "outputs": [],
   "source": [
    "# hyperparameters\n",
    "iterations = 50\n",
    "learning_rate = 0.05296225450286876\n",
    "hidden_nodes = 256\n",
    "output_nodes = 10\n",
    "Lambda: 0.00011445347794978558\n",
    "\n",
    "final_model = Sequential()\n",
    "final_model.add(Dense(hidden_nodes, input_shape=(1024,), activation='relu'))\n",
    "final_model.add(Dense(hidden_nodes, activation='relu'))\n",
    "final_model.add(Dense(hidden_nodes, activation='relu'))\n",
    "final_model.add(Dense(output_nodes, activation='softmax', kernel_regularizer=regularizers.l2(Lambda)))\n",
    "\n",
    "sgd = optimizers.SGD(lr=learning_rate, decay=1e-6, momentum=0.9)\n",
    "# Compile model\n",
    "final_model.compile(loss='categorical_crossentropy', optimizer=sgd, metrics=['accuracy'])\n",
    "    \n",
    "# Fit the model\n",
    "history = final_model.fit(X_train, y_train,\n",
    "          batch_size      = 100,\n",
    "          epochs          = iterations,\n",
    "          validation_data = (X_test, y_test),\n",
    "          shuffle         = True,\n",
    "          verbose=0) "
   ]
  },
  {
   "cell_type": "markdown",
   "metadata": {
    "id": "WeHqqxz3U9i4"
   },
   "source": [
    "Summary of the model "
   ]
  },
  {
   "cell_type": "code",
   "execution_count": 71,
   "metadata": {
    "colab": {
     "base_uri": "https://localhost:8080/"
    },
    "id": "YT8PrlQ_m_iL",
    "outputId": "41d3dc0e-b873-44dc-c540-b8720a758182"
   },
   "outputs": [
    {
     "name": "stdout",
     "output_type": "stream",
     "text": [
      "Model: \"sequential_15\"\n",
      "_________________________________________________________________\n",
      " Layer (type)                Output Shape              Param #   \n",
      "=================================================================\n",
      " dense_48 (Dense)            (None, 256)               262400    \n",
      "                                                                 \n",
      " dense_49 (Dense)            (None, 256)               65792     \n",
      "                                                                 \n",
      " dense_50 (Dense)            (None, 256)               65792     \n",
      "                                                                 \n",
      " dense_51 (Dense)            (None, 10)                2570      \n",
      "                                                                 \n",
      "=================================================================\n",
      "Total params: 396,554\n",
      "Trainable params: 396,554\n",
      "Non-trainable params: 0\n",
      "_________________________________________________________________\n"
     ]
    }
   ],
   "source": [
    "final_model.summary()"
   ]
  },
  {
   "cell_type": "markdown",
   "metadata": {
    "id": "_zkZoUa8U_Y7"
   },
   "source": [
    "Accuracy of the model"
   ]
  },
  {
   "cell_type": "code",
   "execution_count": 72,
   "metadata": {
    "colab": {
     "base_uri": "https://localhost:8080/"
    },
    "id": "TcekoFBinc-S",
    "outputId": "9dd98349-7e45-4a83-c053-0692069ae855"
   },
   "outputs": [
    {
     "name": "stdout",
     "output_type": "stream",
     "text": [
      "563/563 [==============================] - 2s 4ms/step - loss: 0.9757 - accuracy: 0.7217\n"
     ]
    },
    {
     "data": {
      "text/plain": [
       "[0.9756832718849182, 0.7217222452163696]"
      ]
     },
     "execution_count": 72,
     "metadata": {},
     "output_type": "execute_result"
    }
   ],
   "source": [
    "final_model.evaluate(X_test, y_test)"
   ]
  },
  {
   "cell_type": "markdown",
   "metadata": {
    "id": "4vXCCJvyVfEF"
   },
   "source": [
    "<font size=\"5\"><p style=\"color:black\"> <b>4. Plot the training loss, validation loss vs number of epochs and training accuracy, validation accuracy vs number of epochs plot and write your observations on the same:</p></font>"
   ]
  },
  {
   "cell_type": "markdown",
   "metadata": {
    "id": "Ld_CRwtYVMY6"
   },
   "source": [
    "Plotting a figure for:\n",
    "\n",
    "i) training loss, validation loss vs number of epochs\n",
    "\n",
    "ii) training accuracy, validation accuracy vs number of epochs"
   ]
  },
  {
   "cell_type": "code",
   "execution_count": 99,
   "metadata": {
    "colab": {
     "base_uri": "https://localhost:8080/",
     "height": 314
    },
    "id": "t4BM-PAAnddL",
    "outputId": "1355b733-f91b-45a7-db18-45742752c95e"
   },
   "outputs": [
    {
     "data": {
      "text/plain": [
       "<matplotlib.legend.Legend at 0x7f0b6636dc10>"
      ]
     },
     "execution_count": 99,
     "metadata": {},
     "output_type": "execute_result"
    },
    {
     "data": {
      "image/png": "[encoded data removed]",
      "text/plain": [
       "<Figure size 864x288 with 2 Axes>"
      ]
     },
     "metadata": {
      "needs_background": "light"
     },
     "output_type": "display_data"
    }
   ],
   "source": [
    "# plot loss\n",
    "plt.figure(figsize=(12,4))\n",
    "plt.subplot(1, 2, 1)\n",
    "ctl_plot = plt.plot(history.history['loss'], 'r', label='training')\n",
    "cvl_plot = plt.plot(history.history['val_loss'], 'g', label='validation')\n",
    "plt.xlabel('epoch')\n",
    "plt.ylabel('loss')\n",
    "plt.title('counter loss')\n",
    "plt.legend()\n",
    "\n",
    "# plot accuracy\n",
    "plt.subplot(1, 2, 2)\n",
    "plt.plot(history.history['accuracy'], 'r', label='training')\n",
    "plt.plot(history.history['val_accuracy'], 'g', label='validation')\n",
    "plt.xlabel('epoch')\n",
    "plt.ylabel('accuracy')\n",
    "plt.title('counter accuracy')\n",
    "plt.legend(loc=4)"
   ]
  },
  {
   "cell_type": "markdown",
   "metadata": {
    "id": "c3CTH5nTVmDO"
   },
   "source": [
    "Accuracy and Loss for the model "
   ]
  },
  {
   "cell_type": "code",
   "execution_count": 76,
   "metadata": {
    "colab": {
     "base_uri": "https://localhost:8080/"
    },
    "id": "qiWOOGmmndSQ",
    "outputId": "2695c3d7-0e16-407f-d75b-734c82b58b85"
   },
   "outputs": [
    {
     "name": "stdout",
     "output_type": "stream",
     "text": [
      "Training dataset:- Loss is  0.7655381560325623 accuracy is  0.76\n",
      "Testing dataset:- Loss is  0.9756832718849182 accuracy is  0.72\n"
     ]
    }
   ],
   "source": [
    "scores=[]\n",
    "\n",
    "score = final_model.evaluate(X_train, y_train, verbose=0)\n",
    "scores.append(score)\n",
    "score = final_model.evaluate(X_test,y_test, verbose=0)\n",
    "scores.append(score)\n",
    "\n",
    "print('Training dataset:- Loss is ', scores[0][0], 'accuracy is ', str(round(scores[0][1], 2)))\n",
    "print('Testing dataset:- Loss is ', scores[1][0], 'accuracy is ',str(round(scores[1][1], 2)))"
   ]
  },
  {
   "cell_type": "markdown",
   "metadata": {
    "id": "pg1btmU_VxFC"
   },
   "source": [
    "Defining y_test with max values using argmax numpy function"
   ]
  },
  {
   "cell_type": "code",
   "execution_count": 77,
   "metadata": {
    "id": "btGQKq4wnnBX"
   },
   "outputs": [],
   "source": [
    "y_test = np.argmax(y_test, axis=1)"
   ]
  },
  {
   "cell_type": "markdown",
   "metadata": {
    "id": "gVCFhMTJV9pp"
   },
   "source": [
    "Predicting the label for images using the 'final_model' "
   ]
  },
  {
   "cell_type": "code",
   "execution_count": 84,
   "metadata": {
    "colab": {
     "base_uri": "https://localhost:8080/"
    },
    "id": "xmSLECNAnm-W",
    "outputId": "841247a2-2d6d-4590-ccc4-978a2a3a4334"
   },
   "outputs": [
    {
     "name": "stdout",
     "output_type": "stream",
     "text": [
      "X=[0.15905097 0.18349686 0.19206432 ... 0.43143883 0.4360851  0.44780627], Predicted=1\n",
      "\n",
      "X=[0.45161137 0.44769022 0.44376904 ... 0.1652502  0.18922432 0.20883021], Predicted=7\n",
      "\n",
      "X=[0.52256864 0.52834475 0.53456783 ... 0.50266707 0.5012169  0.5027937 ], Predicted=2\n",
      "\n",
      "X=[0.31330708 0.37649295 0.40366313 ... 0.3405196  0.41574708 0.48196   ], Predicted=9\n",
      "\n",
      "X=[0.5313804  0.52745926 0.5136294  ... 0.8675161  0.8675161  0.86359495], Predicted=0\n",
      "\n"
     ]
    }
   ],
   "source": [
    "from tensorflow.keras.models import Sequential\n",
    "\n",
    "y_predict = np.argmax(final_model.predict(X_test), axis=-1)\n",
    "\n",
    "for i in range(len(X_test[0:5])):\n",
    "    print(\"X=%s, Predicted=%s\\n\" % (X_test[i], y_test[i]))\n",
    "   "
   ]
  },
  {
   "cell_type": "markdown",
   "metadata": {
    "id": "2QRUr4JIY2b_"
   },
   "source": [
    "Predicting labels for images to see the classifier efficiency"
   ]
  },
  {
   "cell_type": "code",
   "execution_count": 111,
   "metadata": {
    "colab": {
     "base_uri": "https://localhost:8080/",
     "height": 321
    },
    "id": "3xxDxsbUYo7t",
    "outputId": "4e7332f1-135a-492f-bdd2-428be3824e6f"
   },
   "outputs": [
    {
     "name": "stdout",
     "output_type": "stream",
     "text": [
      "Actual Label:  2\n",
      "Predicte Label 2\n"
     ]
    },
    {
     "data": {
      "text/plain": [
       "<matplotlib.image.AxesImage at 0x7f0b66107d90>"
      ]
     },
     "execution_count": 111,
     "metadata": {},
     "output_type": "execute_result"
    },
    {
     "data": {
      "image/png": "[encoded data removed]",
      "text/plain": [
       "<Figure size 432x288 with 1 Axes>"
      ]
     },
     "metadata": {
      "needs_background": "light"
     },
     "output_type": "display_data"
    }
   ],
   "source": [
    "print(\"Actual Label: \", y_test[2])\n",
    "print(\"Predicte Label\", y_predict[2])\n",
    "plt.imshow(X_test[2].reshape(32,32), cmap='gray')"
   ]
  },
  {
   "cell_type": "code",
   "execution_count": 112,
   "metadata": {
    "colab": {
     "base_uri": "https://localhost:8080/",
     "height": 321
    },
    "id": "8AmKgDDwnm60",
    "outputId": "4b5fd898-3911-4c01-a487-53d374323f00"
   },
   "outputs": [
    {
     "name": "stdout",
     "output_type": "stream",
     "text": [
      "Actual Label:  1\n",
      "Predicte Label 1\n"
     ]
    },
    {
     "data": {
      "text/plain": [
       "<matplotlib.image.AxesImage at 0x7f0b68367410>"
      ]
     },
     "execution_count": 112,
     "metadata": {},
     "output_type": "execute_result"
    },
    {
     "data": {
      "image/png": "[encoded data removed]",
      "text/plain": [
       "<Figure size 432x288 with 1 Axes>"
      ]
     },
     "metadata": {
      "needs_background": "light"
     },
     "output_type": "display_data"
    }
   ],
   "source": [
    "print(\"Actual Label: \", y_test[12])\n",
    "print(\"Predicte Label\", y_predict[12])\n",
    "plt.imshow(X_test[12].reshape(32,32), cmap='gray')"
   ]
  },
  {
   "cell_type": "code",
   "execution_count": 113,
   "metadata": {
    "colab": {
     "base_uri": "https://localhost:8080/",
     "height": 321
    },
    "id": "WCD5q9odnrNo",
    "outputId": "20d3c270-993e-4bf6-859e-3c2efcad3991"
   },
   "outputs": [
    {
     "name": "stdout",
     "output_type": "stream",
     "text": [
      "Actual Label:  0\n",
      "Predicte Label 0\n"
     ]
    },
    {
     "data": {
      "text/plain": [
       "<matplotlib.image.AxesImage at 0x7f0b665909d0>"
      ]
     },
     "execution_count": 113,
     "metadata": {},
     "output_type": "execute_result"
    },
    {
     "data": {
      "image/png": "[encoded data removed]",
      "text/plain": [
       "<Figure size 432x288 with 1 Axes>"
      ]
     },
     "metadata": {
      "needs_background": "light"
     },
     "output_type": "display_data"
    }
   ],
   "source": [
    "print(\"Actual Label: \", y_test[123])\n",
    "print(\"Predicte Label\", y_predict[123])\n",
    "plt.imshow(X_test[123].reshape(32,32), cmap='gray')"
   ]
  },
  {
   "cell_type": "code",
   "execution_count": 114,
   "metadata": {
    "colab": {
     "base_uri": "https://localhost:8080/",
     "height": 321
    },
    "id": "bPfV70reYx4p",
    "outputId": "ae8bea38-e678-4106-fc8b-7947ff575b81"
   },
   "outputs": [
    {
     "name": "stdout",
     "output_type": "stream",
     "text": [
      "Actual Label:  7\n",
      "Predicte Label 7\n"
     ]
    },
    {
     "data": {
      "text/plain": [
       "<matplotlib.image.AxesImage at 0x7f0af479ce90>"
      ]
     },
     "execution_count": 114,
     "metadata": {},
     "output_type": "execute_result"
    },
    {
     "data": {
      "image/png": "[encoded data removed]",
      "text/plain": [
       "<Figure size 432x288 with 1 Axes>"
      ]
     },
     "metadata": {
      "needs_background": "light"
     },
     "output_type": "display_data"
    }
   ],
   "source": [
    "print(\"Actual Label: \", y_test[46])\n",
    "print(\"Predicte Label\", y_predict[46])\n",
    "plt.imshow(X_test[46].reshape(32,32), cmap='gray')"
   ]
  },
  {
   "cell_type": "markdown",
   "metadata": {
    "id": "HZyIqOfbUU4s"
   },
   "source": [
    "Confusion matrix"
   ]
  },
  {
   "cell_type": "code",
   "execution_count": 91,
   "metadata": {
    "colab": {
     "base_uri": "https://localhost:8080/"
    },
    "id": "u8vHWG4WnrH-",
    "outputId": "fde838c8-937e-4dd6-e026-396c00b4d96f"
   },
   "outputs": [
    {
     "data": {
      "text/plain": [
       "array([[1324,   82,   19,   39,   44,   17,  144,   62,   43,   40],\n",
       "       [  23, 1402,   33,   39,  108,   10,   46,  103,   40,   24],\n",
       "       [  25,   51, 1328,   46,   48,   28,   33,  174,   33,   37],\n",
       "       [  20,  107,   64, 1107,   47,  168,   23,   85,   57,   41],\n",
       "       [  30,   77,   28,   17, 1480,   25,   57,   34,   33,   31],\n",
       "       [  24,   46,   20,  136,   69, 1165,  101,   34,  105,   68],\n",
       "       [ 112,   38,   16,   31,   82,   73, 1263,   26,  168,   23],\n",
       "       [  14,   88,   78,   28,   24,   14,   30, 1498,   18,   16],\n",
       "       [  49,   70,   31,   54,   82,   72,  161,   32, 1157,  104],\n",
       "       [  62,   75,   47,   35,   73,   68,   43,   57,   77, 1267]])"
      ]
     },
     "execution_count": 91,
     "metadata": {},
     "output_type": "execute_result"
    }
   ],
   "source": [
    "from sklearn.metrics import confusion_matrix\n",
    "from sklearn.metrics import classification_report\n",
    "\n",
    "cm = confusion_matrix(y_test , y_predict)\n",
    "cm"
   ]
  },
  {
   "cell_type": "markdown",
   "metadata": {
    "id": "qk9fXGHaWM5d"
   },
   "source": [
    "Heat Map"
   ]
  },
  {
   "cell_type": "code",
   "execution_count": 98,
   "metadata": {
    "colab": {
     "base_uri": "https://localhost:8080/",
     "height": 1000
    },
    "id": "A9BbGmHhnrDf",
    "outputId": "affe65f2-d5e8-4d10-b4be-eaa9b7c29541"
   },
   "outputs": [
    {
     "data": {
      "image/png": "[encoded data removed]",
      "text/plain": [
       "<Figure size 2160x2160 with 2 Axes>"
      ]
     },
     "metadata": {
      "needs_background": "light"
     },
     "output_type": "display_data"
    }
   ],
   "source": [
    "fig, ax = plt.subplots(figsize=(30,30))\n",
    "sns.heatmap(cm, annot=True)\n",
    "plt.title('Confusion Matrix')\n",
    "plt.ylabel('Actual Values')\n",
    "plt.xlabel('Predicted Values')\n",
    "plt.show()\n"
   ]
  },
  {
   "cell_type": "markdown",
   "metadata": {
    "id": "kURM58kDXg0R"
   },
   "source": [
    "The model is accurately predicting the label for the image, this means that the neural network image classifier model is extremely well. \n",
    "\n",
    "* The train set accuracy is 0.76 or 76% and the test set accuracy is 0.72 or 72%\n",
    "\n",
    "* The validation accuracy is higher than training accuracy, this means that the model isnt overfitting the dataset\n",
    "\n",
    "* The model is accurately predicting the images and there was no error atleast in the predicted images. This Neural network model is able to predict accurately with 76% accuracy as this is only a number dataset. Which would have a predefined image value in the matrix. "
   ]
  }
 ],
 "metadata": {
  "colab": {
   "collapsed_sections": [],
   "name": "Introduction to Neural Networks - Project .ipynb",
   "provenance": []
  },
  "kernelspec": {
   "display_name": "Python 3",
   "language": "python",
   "name": "python3"
  },
  "language_info": {
   "codemirror_mode": {
    "name": "ipython",
    "version": 3
   },
   "file_extension": ".py",
   "mimetype": "text/x-python",
   "name": "python",
   "nbconvert_exporter": "python",
   "pygments_lexer": "ipython3",
   "version": "3.8.8"
  }
 },
 "nbformat": 4,
 "nbformat_minor": 1
}
