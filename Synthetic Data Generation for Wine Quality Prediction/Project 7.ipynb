{
 "cells": [
  {
   "cell_type": "markdown",
   "id": "a3609f1f",
   "metadata": {},
   "source": [
    "<font size=\"4\"> <b> • DOMAIN: </b>Manufacturing</font>\n",
    "\n",
    "<font size=\"4\"> <b> • CONTEXT: </b>Company X curates and packages wine across various vineyards spread throughout the country\n",
    "\n",
    "<font size=\"4\"> <b> • DATA DESCRIPTION: </b>The data concerns the chemical composition of the wine and its respective quality.\n",
    "    |\n",
    "• Attribute Information:\n",
    "1. A, B, C, D: specific chemical composition measure of the wine\n",
    "2. Quality: quality of wine [ Low and High ]"
   ]
  },
  {
   "cell_type": "markdown",
   "id": "d7e83fea",
   "metadata": {},
   "source": [
    "<font size=\"4\"> <b> • PROJECT OBJECTIVE: </b>Goal is to build a synthetic data generation model using the existing data provided by the company.\n",
    "\n",
    "<b>Steps and tasks: [ Total Score: 5 points]</b>\n",
    "    \n",
    "1. Design a synthetic data generation model which can impute values [Attribute: Quality] wherever empty the company has missed recording the data.\n",
    "</font>\n",
    " "
   ]
  },
  {
   "cell_type": "markdown",
   "id": "11120119",
   "metadata": {},
   "source": [
    "<font size=\"5\"><p style=\"color:black\"> <b> 1. Design a synthetic data generation model which can impute values [Attribute: Quality] wherever empty the company has missed recording the data : </p></font>"
   ]
  },
  {
   "cell_type": "markdown",
   "id": "e81262fd",
   "metadata": {},
   "source": [
    "<span style=\"font-family: Arial; font-weight:bold;font-size:1.6em;color:#0000FF;\">1.1 Import the given datasets and explore shape and size."
   ]
  },
  {
   "cell_type": "code",
   "execution_count": 211,
   "id": "886a00e8",
   "metadata": {},
   "outputs": [
    {
     "data": {
      "text/html": [
       "<div>\n",
       "<style scoped>\n",
       "    .dataframe tbody tr th:only-of-type {\n",
       "        vertical-align: middle;\n",
       "    }\n",
       "\n",
       "    .dataframe tbody tr th {\n",
       "        vertical-align: top;\n",
       "    }\n",
       "\n",
       "    .dataframe thead th {\n",
       "        text-align: right;\n",
       "    }\n",
       "</style>\n",
       "<table border=\"1\" class=\"dataframe\">\n",
       "  <thead>\n",
       "    <tr style=\"text-align: right;\">\n",
       "      <th></th>\n",
       "      <th>A</th>\n",
       "      <th>B</th>\n",
       "      <th>C</th>\n",
       "      <th>D</th>\n",
       "      <th>Quality</th>\n",
       "    </tr>\n",
       "  </thead>\n",
       "  <tbody>\n",
       "    <tr>\n",
       "      <th>0</th>\n",
       "      <td>47</td>\n",
       "      <td>27</td>\n",
       "      <td>45</td>\n",
       "      <td>108</td>\n",
       "      <td>Quality A</td>\n",
       "    </tr>\n",
       "    <tr>\n",
       "      <th>1</th>\n",
       "      <td>174</td>\n",
       "      <td>133</td>\n",
       "      <td>134</td>\n",
       "      <td>166</td>\n",
       "      <td>Quality B</td>\n",
       "    </tr>\n",
       "    <tr>\n",
       "      <th>2</th>\n",
       "      <td>159</td>\n",
       "      <td>163</td>\n",
       "      <td>135</td>\n",
       "      <td>131</td>\n",
       "      <td>NaN</td>\n",
       "    </tr>\n",
       "    <tr>\n",
       "      <th>3</th>\n",
       "      <td>61</td>\n",
       "      <td>23</td>\n",
       "      <td>3</td>\n",
       "      <td>44</td>\n",
       "      <td>Quality A</td>\n",
       "    </tr>\n",
       "    <tr>\n",
       "      <th>4</th>\n",
       "      <td>59</td>\n",
       "      <td>60</td>\n",
       "      <td>9</td>\n",
       "      <td>68</td>\n",
       "      <td>Quality A</td>\n",
       "    </tr>\n",
       "  </tbody>\n",
       "</table>\n",
       "</div>"
      ],
      "text/plain": [
       "     A    B    C    D    Quality\n",
       "0   47   27   45  108  Quality A\n",
       "1  174  133  134  166  Quality B\n",
       "2  159  163  135  131        NaN\n",
       "3   61   23    3   44  Quality A\n",
       "4   59   60    9   68  Quality A"
      ]
     },
     "execution_count": 211,
     "metadata": {},
     "output_type": "execute_result"
    }
   ],
   "source": [
    "company_data = pd.read_excel('Part2 - Company.xlsx') # Import the dataset\n",
    "company_data.head()  # view the first 5 rows of the data"
   ]
  },
  {
   "cell_type": "code",
   "execution_count": 212,
   "id": "5fdcea34",
   "metadata": {},
   "outputs": [
    {
     "data": {
      "text/plain": [
       "305"
      ]
     },
     "execution_count": 212,
     "metadata": {},
     "output_type": "execute_result"
    }
   ],
   "source": [
    "company_data.size"
   ]
  },
  {
   "cell_type": "code",
   "execution_count": 213,
   "id": "0ab73477",
   "metadata": {},
   "outputs": [
    {
     "data": {
      "text/plain": [
       "(61, 5)"
      ]
     },
     "execution_count": 213,
     "metadata": {},
     "output_type": "execute_result"
    }
   ],
   "source": [
    "company_data.shape"
   ]
  },
  {
   "cell_type": "code",
   "execution_count": 214,
   "id": "431b10fa",
   "metadata": {
    "scrolled": true
   },
   "outputs": [
    {
     "name": "stdout",
     "output_type": "stream",
     "text": [
      "<class 'pandas.core.frame.DataFrame'>\n",
      "RangeIndex: 61 entries, 0 to 60\n",
      "Data columns (total 5 columns):\n",
      " #   Column   Non-Null Count  Dtype \n",
      "---  ------   --------------  ----- \n",
      " 0   A        61 non-null     int64 \n",
      " 1   B        61 non-null     int64 \n",
      " 2   C        61 non-null     int64 \n",
      " 3   D        61 non-null     int64 \n",
      " 4   Quality  43 non-null     object\n",
      "dtypes: int64(4), object(1)\n",
      "memory usage: 2.5+ KB\n"
     ]
    }
   ],
   "source": [
    "company_data.info()"
   ]
  },
  {
   "cell_type": "markdown",
   "id": "40ef48f2",
   "metadata": {},
   "source": [
    "<span style=\"font-family: Arial; font-weight:bold;font-size:1.6em;color:#0000FF;\">1.2 Data cleansing:"
   ]
  },
  {
   "cell_type": "markdown",
   "id": "53df4091",
   "metadata": {},
   "source": [
    "<span style=\"font-family: Arial; font-weight:bold;font-size:1.3em;color:#00b3e5;\">1.2.1 Checking for duplicates"
   ]
  },
  {
   "cell_type": "code",
   "execution_count": 215,
   "id": "e8564bdf",
   "metadata": {},
   "outputs": [
    {
     "data": {
      "text/plain": [
       "0"
      ]
     },
     "execution_count": 215,
     "metadata": {},
     "output_type": "execute_result"
    }
   ],
   "source": [
    "# Identify duplicates records in the data\n",
    "company_dupe = company_data.duplicated()\n",
    "sum(company_dupe)"
   ]
  },
  {
   "cell_type": "markdown",
   "id": "f44a12d2",
   "metadata": {},
   "source": [
    "<span style=\"font-family: Arial; font-weight:bold;font-size:1.3em;color:#00b3e5;\">1.2.2 Checking for duplicate index"
   ]
  },
  {
   "cell_type": "code",
   "execution_count": 216,
   "id": "f4dfa1dd",
   "metadata": {},
   "outputs": [
    {
     "data": {
      "text/plain": [
       "True"
      ]
     },
     "execution_count": 216,
     "metadata": {},
     "output_type": "execute_result"
    }
   ],
   "source": [
    "company_dupe.index.is_unique"
   ]
  },
  {
   "cell_type": "markdown",
   "id": "61ef6f66",
   "metadata": {},
   "source": [
    "<span style=\"font-family: Arial; font-weight:bold;font-size:1.3em;color:#00b3e5;\">1.2.3 Checking for missing values"
   ]
  },
  {
   "cell_type": "code",
   "execution_count": 217,
   "id": "ff483b7a",
   "metadata": {},
   "outputs": [
    {
     "data": {
      "text/html": [
       "<div>\n",
       "<style scoped>\n",
       "    .dataframe tbody tr th:only-of-type {\n",
       "        vertical-align: middle;\n",
       "    }\n",
       "\n",
       "    .dataframe tbody tr th {\n",
       "        vertical-align: top;\n",
       "    }\n",
       "\n",
       "    .dataframe thead th {\n",
       "        text-align: right;\n",
       "    }\n",
       "</style>\n",
       "<table border=\"1\" class=\"dataframe\">\n",
       "  <thead>\n",
       "    <tr style=\"text-align: right;\">\n",
       "      <th></th>\n",
       "      <th>Total</th>\n",
       "      <th>Percent</th>\n",
       "    </tr>\n",
       "  </thead>\n",
       "  <tbody>\n",
       "    <tr>\n",
       "      <th>Quality</th>\n",
       "      <td>18</td>\n",
       "      <td>0.295082</td>\n",
       "    </tr>\n",
       "    <tr>\n",
       "      <th>A</th>\n",
       "      <td>0</td>\n",
       "      <td>0.000000</td>\n",
       "    </tr>\n",
       "    <tr>\n",
       "      <th>B</th>\n",
       "      <td>0</td>\n",
       "      <td>0.000000</td>\n",
       "    </tr>\n",
       "    <tr>\n",
       "      <th>C</th>\n",
       "      <td>0</td>\n",
       "      <td>0.000000</td>\n",
       "    </tr>\n",
       "    <tr>\n",
       "      <th>D</th>\n",
       "      <td>0</td>\n",
       "      <td>0.000000</td>\n",
       "    </tr>\n",
       "  </tbody>\n",
       "</table>\n",
       "</div>"
      ],
      "text/plain": [
       "         Total   Percent\n",
       "Quality     18  0.295082\n",
       "A            0  0.000000\n",
       "B            0  0.000000\n",
       "C            0  0.000000\n",
       "D            0  0.000000"
      ]
     },
     "execution_count": 217,
     "metadata": {},
     "output_type": "execute_result"
    }
   ],
   "source": [
    "def missing_check(df):\n",
    "    total = df.isnull().sum().sort_values(ascending=False)   # total number of null values\n",
    "    percent = (df.isnull().sum()/df.isnull().count()).sort_values(ascending=False)  # percentage of values that are null\n",
    "    missing_data = pd.concat([total, percent], axis=1, keys=['Total', 'Percent'])  # putting the above two together\n",
    "    return missing_data # return the dataframe\n",
    "missing_check(company_data)"
   ]
  },
  {
   "cell_type": "markdown",
   "id": "078018e6",
   "metadata": {},
   "source": [
    "* There are 18 missing values in the dataset in 'Quality' attribute"
   ]
  },
  {
   "cell_type": "markdown",
   "id": "acc1ea8b",
   "metadata": {},
   "source": [
    "<span style=\"font-family: Arial; font-weight:bold;font-size:1.6em;color:#0000FF;\">1.3 Data Preprocessing:"
   ]
  },
  {
   "cell_type": "markdown",
   "id": "21a6a19a",
   "metadata": {},
   "source": [
    "<span style=\"font-family: Arial; font-weight:bold;font-size:1.3em;color:#00b3e5;\">1.3.1 Encoding categorical with integer values"
   ]
  },
  {
   "cell_type": "code",
   "execution_count": 218,
   "id": "7f3a9a65",
   "metadata": {
    "scrolled": true
   },
   "outputs": [
    {
     "data": {
      "text/html": [
       "<div>\n",
       "<style scoped>\n",
       "    .dataframe tbody tr th:only-of-type {\n",
       "        vertical-align: middle;\n",
       "    }\n",
       "\n",
       "    .dataframe tbody tr th {\n",
       "        vertical-align: top;\n",
       "    }\n",
       "\n",
       "    .dataframe thead th {\n",
       "        text-align: right;\n",
       "    }\n",
       "</style>\n",
       "<table border=\"1\" class=\"dataframe\">\n",
       "  <thead>\n",
       "    <tr style=\"text-align: right;\">\n",
       "      <th></th>\n",
       "      <th>A</th>\n",
       "      <th>B</th>\n",
       "      <th>C</th>\n",
       "      <th>D</th>\n",
       "      <th>Quality</th>\n",
       "    </tr>\n",
       "  </thead>\n",
       "  <tbody>\n",
       "    <tr>\n",
       "      <th>0</th>\n",
       "      <td>47</td>\n",
       "      <td>27</td>\n",
       "      <td>45</td>\n",
       "      <td>108</td>\n",
       "      <td>Quality A</td>\n",
       "    </tr>\n",
       "    <tr>\n",
       "      <th>1</th>\n",
       "      <td>174</td>\n",
       "      <td>133</td>\n",
       "      <td>134</td>\n",
       "      <td>166</td>\n",
       "      <td>Quality B</td>\n",
       "    </tr>\n",
       "    <tr>\n",
       "      <th>2</th>\n",
       "      <td>159</td>\n",
       "      <td>163</td>\n",
       "      <td>135</td>\n",
       "      <td>131</td>\n",
       "      <td>NaN</td>\n",
       "    </tr>\n",
       "    <tr>\n",
       "      <th>3</th>\n",
       "      <td>61</td>\n",
       "      <td>23</td>\n",
       "      <td>3</td>\n",
       "      <td>44</td>\n",
       "      <td>Quality A</td>\n",
       "    </tr>\n",
       "    <tr>\n",
       "      <th>4</th>\n",
       "      <td>59</td>\n",
       "      <td>60</td>\n",
       "      <td>9</td>\n",
       "      <td>68</td>\n",
       "      <td>Quality A</td>\n",
       "    </tr>\n",
       "    <tr>\n",
       "      <th>...</th>\n",
       "      <td>...</td>\n",
       "      <td>...</td>\n",
       "      <td>...</td>\n",
       "      <td>...</td>\n",
       "      <td>...</td>\n",
       "    </tr>\n",
       "    <tr>\n",
       "      <th>56</th>\n",
       "      <td>200</td>\n",
       "      <td>186</td>\n",
       "      <td>185</td>\n",
       "      <td>179</td>\n",
       "      <td>Quality B</td>\n",
       "    </tr>\n",
       "    <tr>\n",
       "      <th>57</th>\n",
       "      <td>137</td>\n",
       "      <td>182</td>\n",
       "      <td>165</td>\n",
       "      <td>199</td>\n",
       "      <td>NaN</td>\n",
       "    </tr>\n",
       "    <tr>\n",
       "      <th>58</th>\n",
       "      <td>88</td>\n",
       "      <td>39</td>\n",
       "      <td>9</td>\n",
       "      <td>102</td>\n",
       "      <td>NaN</td>\n",
       "    </tr>\n",
       "    <tr>\n",
       "      <th>59</th>\n",
       "      <td>180</td>\n",
       "      <td>157</td>\n",
       "      <td>192</td>\n",
       "      <td>198</td>\n",
       "      <td>NaN</td>\n",
       "    </tr>\n",
       "    <tr>\n",
       "      <th>60</th>\n",
       "      <td>157</td>\n",
       "      <td>135</td>\n",
       "      <td>135</td>\n",
       "      <td>156</td>\n",
       "      <td>NaN</td>\n",
       "    </tr>\n",
       "  </tbody>\n",
       "</table>\n",
       "<p>61 rows × 5 columns</p>\n",
       "</div>"
      ],
      "text/plain": [
       "      A    B    C    D    Quality\n",
       "0    47   27   45  108  Quality A\n",
       "1   174  133  134  166  Quality B\n",
       "2   159  163  135  131        NaN\n",
       "3    61   23    3   44  Quality A\n",
       "4    59   60    9   68  Quality A\n",
       "..  ...  ...  ...  ...        ...\n",
       "56  200  186  185  179  Quality B\n",
       "57  137  182  165  199        NaN\n",
       "58   88   39    9  102        NaN\n",
       "59  180  157  192  198        NaN\n",
       "60  157  135  135  156        NaN\n",
       "\n",
       "[61 rows x 5 columns]"
      ]
     },
     "execution_count": 218,
     "metadata": {},
     "output_type": "execute_result"
    }
   ],
   "source": [
    "company_data1 = company_data.copy()\n",
    "#company_data1['Quality'] = company_data1['Quality'].replace({'Quality A': 0, 'Quality B': 1 })\n",
    "company_data1"
   ]
  },
  {
   "cell_type": "markdown",
   "id": "dc48659a",
   "metadata": {},
   "source": [
    "<span style=\"font-family: Arial; font-weight:bold;font-size:1.3em;color:#00b3e5;\">1.3.2 Removing missing values from the original dataset and creating another dataset for missing values"
   ]
  },
  {
   "cell_type": "code",
   "execution_count": 219,
   "id": "9c1118c9",
   "metadata": {},
   "outputs": [],
   "source": [
    "missing_values = company_data1[company_data1['Quality'].isnull()]"
   ]
  },
  {
   "cell_type": "code",
   "execution_count": 220,
   "id": "a2e12ea2",
   "metadata": {},
   "outputs": [],
   "source": [
    "company_data2 = company_data1.dropna()"
   ]
  },
  {
   "cell_type": "markdown",
   "id": "e2f7321c",
   "metadata": {},
   "source": [
    "<span style=\"font-family: Arial; font-weight:bold;font-size:1.3em;color:#00b3e5;\">1.3.3 Predictor/Feature attribute and Target attribute"
   ]
  },
  {
   "cell_type": "code",
   "execution_count": 221,
   "id": "898c4c61",
   "metadata": {},
   "outputs": [],
   "source": [
    "# Predictor/ Feature attribute\n",
    "X = company_data2.drop('Quality', axis=1) \n",
    "\n",
    "# Target attribute\n",
    "y = company_data2[['Quality']]"
   ]
  },
  {
   "cell_type": "markdown",
   "id": "0bd3ddbd",
   "metadata": {},
   "source": [
    "<span style=\"font-family: Arial; font-weight:bold;font-size:1.3em;color:#00b3e5;\">1.3.4 Min-Max Scaling"
   ]
  },
  {
   "cell_type": "code",
   "execution_count": 222,
   "id": "1b3be64f",
   "metadata": {},
   "outputs": [],
   "source": [
    "X = (X - np.min(X))/(np.max(X)-np.min(X))"
   ]
  },
  {
   "cell_type": "markdown",
   "id": "3b4529fc",
   "metadata": {},
   "source": [
    "<span style=\"font-family: Arial; font-weight:bold;font-size:1.3em;color:#00b3e5;\">1.3.5 Checking for Multicolinearity"
   ]
  },
  {
   "cell_type": "code",
   "execution_count": 223,
   "id": "3d54acf9",
   "metadata": {},
   "outputs": [
    {
     "data": {
      "text/html": [
       "<div>\n",
       "<style scoped>\n",
       "    .dataframe tbody tr th:only-of-type {\n",
       "        vertical-align: middle;\n",
       "    }\n",
       "\n",
       "    .dataframe tbody tr th {\n",
       "        vertical-align: top;\n",
       "    }\n",
       "\n",
       "    .dataframe thead th {\n",
       "        text-align: right;\n",
       "    }\n",
       "</style>\n",
       "<table border=\"1\" class=\"dataframe\">\n",
       "  <thead>\n",
       "    <tr style=\"text-align: right;\">\n",
       "      <th></th>\n",
       "      <th>Features</th>\n",
       "      <th>VIF</th>\n",
       "    </tr>\n",
       "  </thead>\n",
       "  <tbody>\n",
       "    <tr>\n",
       "      <th>2</th>\n",
       "      <td>C</td>\n",
       "      <td>15.07</td>\n",
       "    </tr>\n",
       "    <tr>\n",
       "      <th>1</th>\n",
       "      <td>B</td>\n",
       "      <td>12.31</td>\n",
       "    </tr>\n",
       "    <tr>\n",
       "      <th>3</th>\n",
       "      <td>D</td>\n",
       "      <td>10.96</td>\n",
       "    </tr>\n",
       "    <tr>\n",
       "      <th>0</th>\n",
       "      <td>A</td>\n",
       "      <td>10.58</td>\n",
       "    </tr>\n",
       "  </tbody>\n",
       "</table>\n",
       "</div>"
      ],
      "text/plain": [
       "  Features    VIF\n",
       "2        C  15.07\n",
       "1        B  12.31\n",
       "3        D  10.96\n",
       "0        A  10.58"
      ]
     },
     "execution_count": 223,
     "metadata": {},
     "output_type": "execute_result"
    }
   ],
   "source": [
    "# Calculate the VIFs for the new model\n",
    "from statsmodels.stats.outliers_influence import variance_inflation_factor\n",
    "\n",
    "vif = pd.DataFrame()\n",
    "X1 = X\n",
    "vif['Features'] = X1.columns\n",
    "vif['VIF'] = [variance_inflation_factor(X1.values, i) for i in range(X1.shape[1])]\n",
    "vif['VIF'] = round(vif['VIF'], 2)\n",
    "vif = vif.sort_values(by = \"VIF\", ascending = False)\n",
    "vif"
   ]
  },
  {
   "cell_type": "markdown",
   "id": "ab4ead87",
   "metadata": {},
   "source": [
    "* Since all values are in similar range, they're all acceptable for modelling"
   ]
  },
  {
   "cell_type": "markdown",
   "id": "c97672ea",
   "metadata": {},
   "source": [
    "<span style=\"font-family: Arial; font-weight:bold;font-size:1.6em;color:#0000FF;\">1.4 Logistic Regression model"
   ]
  },
  {
   "cell_type": "code",
   "execution_count": 224,
   "id": "8887a9a1",
   "metadata": {},
   "outputs": [],
   "source": [
    "X_train = X\n",
    "y_train = y\n",
    "X_test = missing_values.drop('Quality',axis = 1)"
   ]
  },
  {
   "cell_type": "code",
   "execution_count": 225,
   "id": "84573665",
   "metadata": {},
   "outputs": [
    {
     "data": {
      "text/plain": [
       "(43, 4)"
      ]
     },
     "execution_count": 225,
     "metadata": {},
     "output_type": "execute_result"
    }
   ],
   "source": [
    "X_train.shape"
   ]
  },
  {
   "cell_type": "code",
   "execution_count": 226,
   "id": "d0535d1f",
   "metadata": {},
   "outputs": [
    {
     "data": {
      "text/plain": [
       "(43, 1)"
      ]
     },
     "execution_count": 226,
     "metadata": {},
     "output_type": "execute_result"
    }
   ],
   "source": [
    "y_train.shape"
   ]
  },
  {
   "cell_type": "code",
   "execution_count": 227,
   "id": "d9337c43",
   "metadata": {},
   "outputs": [
    {
     "data": {
      "text/plain": [
       "(18, 4)"
      ]
     },
     "execution_count": 227,
     "metadata": {},
     "output_type": "execute_result"
    }
   ],
   "source": [
    "X_test.shape"
   ]
  },
  {
   "cell_type": "code",
   "execution_count": 228,
   "id": "5d390792",
   "metadata": {},
   "outputs": [
    {
     "name": "stderr",
     "output_type": "stream",
     "text": [
      "D:\\Anaconda\\lib\\site-packages\\sklearn\\utils\\validation.py:63: DataConversionWarning: A column-vector y was passed when a 1d array was expected. Please change the shape of y to (n_samples, ), for example using ravel().\n",
      "  return f(*args, **kwargs)\n",
      "<ipython-input-228-bbc3aa171096>:6: SettingWithCopyWarning: \n",
      "A value is trying to be set on a copy of a slice from a DataFrame.\n",
      "Try using .loc[row_indexer,col_indexer] = value instead\n",
      "\n",
      "See the caveats in the documentation: https://pandas.pydata.org/pandas-docs/stable/user_guide/indexing.html#returning-a-view-versus-a-copy\n",
      "  missing_values['Quality'] = missing_values.Quality\n"
     ]
    },
    {
     "data": {
      "text/html": [
       "<div>\n",
       "<style scoped>\n",
       "    .dataframe tbody tr th:only-of-type {\n",
       "        vertical-align: middle;\n",
       "    }\n",
       "\n",
       "    .dataframe tbody tr th {\n",
       "        vertical-align: top;\n",
       "    }\n",
       "\n",
       "    .dataframe thead th {\n",
       "        text-align: right;\n",
       "    }\n",
       "</style>\n",
       "<table border=\"1\" class=\"dataframe\">\n",
       "  <thead>\n",
       "    <tr style=\"text-align: right;\">\n",
       "      <th></th>\n",
       "      <th>A</th>\n",
       "      <th>B</th>\n",
       "      <th>C</th>\n",
       "      <th>D</th>\n",
       "      <th>Quality</th>\n",
       "    </tr>\n",
       "  </thead>\n",
       "  <tbody>\n",
       "    <tr>\n",
       "      <th>0</th>\n",
       "      <td>47</td>\n",
       "      <td>27</td>\n",
       "      <td>45</td>\n",
       "      <td>108</td>\n",
       "      <td>Quality A</td>\n",
       "    </tr>\n",
       "    <tr>\n",
       "      <th>1</th>\n",
       "      <td>174</td>\n",
       "      <td>133</td>\n",
       "      <td>134</td>\n",
       "      <td>166</td>\n",
       "      <td>Quality B</td>\n",
       "    </tr>\n",
       "    <tr>\n",
       "      <th>2</th>\n",
       "      <td>159</td>\n",
       "      <td>163</td>\n",
       "      <td>135</td>\n",
       "      <td>131</td>\n",
       "      <td>Quality B</td>\n",
       "    </tr>\n",
       "    <tr>\n",
       "      <th>3</th>\n",
       "      <td>61</td>\n",
       "      <td>23</td>\n",
       "      <td>3</td>\n",
       "      <td>44</td>\n",
       "      <td>Quality A</td>\n",
       "    </tr>\n",
       "    <tr>\n",
       "      <th>4</th>\n",
       "      <td>59</td>\n",
       "      <td>60</td>\n",
       "      <td>9</td>\n",
       "      <td>68</td>\n",
       "      <td>Quality A</td>\n",
       "    </tr>\n",
       "    <tr>\n",
       "      <th>...</th>\n",
       "      <td>...</td>\n",
       "      <td>...</td>\n",
       "      <td>...</td>\n",
       "      <td>...</td>\n",
       "      <td>...</td>\n",
       "    </tr>\n",
       "    <tr>\n",
       "      <th>56</th>\n",
       "      <td>200</td>\n",
       "      <td>186</td>\n",
       "      <td>185</td>\n",
       "      <td>179</td>\n",
       "      <td>Quality B</td>\n",
       "    </tr>\n",
       "    <tr>\n",
       "      <th>57</th>\n",
       "      <td>137</td>\n",
       "      <td>182</td>\n",
       "      <td>165</td>\n",
       "      <td>199</td>\n",
       "      <td>Quality B</td>\n",
       "    </tr>\n",
       "    <tr>\n",
       "      <th>58</th>\n",
       "      <td>88</td>\n",
       "      <td>39</td>\n",
       "      <td>9</td>\n",
       "      <td>102</td>\n",
       "      <td>Quality B</td>\n",
       "    </tr>\n",
       "    <tr>\n",
       "      <th>59</th>\n",
       "      <td>180</td>\n",
       "      <td>157</td>\n",
       "      <td>192</td>\n",
       "      <td>198</td>\n",
       "      <td>Quality B</td>\n",
       "    </tr>\n",
       "    <tr>\n",
       "      <th>60</th>\n",
       "      <td>157</td>\n",
       "      <td>135</td>\n",
       "      <td>135</td>\n",
       "      <td>156</td>\n",
       "      <td>Quality B</td>\n",
       "    </tr>\n",
       "  </tbody>\n",
       "</table>\n",
       "<p>61 rows × 5 columns</p>\n",
       "</div>"
      ],
      "text/plain": [
       "      A    B    C    D    Quality\n",
       "0    47   27   45  108  Quality A\n",
       "1   174  133  134  166  Quality B\n",
       "2   159  163  135  131  Quality B\n",
       "3    61   23    3   44  Quality A\n",
       "4    59   60    9   68  Quality A\n",
       "..  ...  ...  ...  ...        ...\n",
       "56  200  186  185  179  Quality B\n",
       "57  137  182  165  199  Quality B\n",
       "58   88   39    9  102  Quality B\n",
       "59  180  157  192  198  Quality B\n",
       "60  157  135  135  156  Quality B\n",
       "\n",
       "[61 rows x 5 columns]"
      ]
     },
     "execution_count": 228,
     "metadata": {},
     "output_type": "execute_result"
    }
   ],
   "source": [
    "from sklearn.linear_model import LogisticRegression\n",
    "LogReg = LogisticRegression()\n",
    "LogReg.fit(X_train, y_train)\n",
    "y_pred = LogReg.predict(X_test)\n",
    "\n",
    "missing_values['Quality'] = missing_values.Quality\n",
    "final_predicted_dataset = company_data1.copy()\n",
    "final_predicted_dataset.loc[(final_predicted_dataset.Quality.isnull()), 'Quality'] = y_pred\n",
    "final_predicted_dataset"
   ]
  },
  {
   "cell_type": "code",
   "execution_count": 229,
   "id": "38746c2c",
   "metadata": {},
   "outputs": [
    {
     "data": {
      "text/plain": [
       "26"
      ]
     },
     "execution_count": 229,
     "metadata": {},
     "output_type": "execute_result"
    }
   ],
   "source": [
    "final_predicted_dataset[final_predicted_dataset['Quality']=='Quality A'].value_counts().sum()"
   ]
  },
  {
   "cell_type": "code",
   "execution_count": 230,
   "id": "5807b30f",
   "metadata": {},
   "outputs": [
    {
     "data": {
      "text/plain": [
       "35"
      ]
     },
     "execution_count": 230,
     "metadata": {},
     "output_type": "execute_result"
    }
   ],
   "source": [
    "final_predicted_dataset[final_predicted_dataset['Quality']=='Quality B'].value_counts().sum()"
   ]
  },
  {
   "cell_type": "code",
   "execution_count": 231,
   "id": "83d03df0",
   "metadata": {},
   "outputs": [
    {
     "data": {
      "text/plain": [
       "61"
      ]
     },
     "execution_count": 231,
     "metadata": {},
     "output_type": "execute_result"
    }
   ],
   "source": [
    "np.sum(26+35)"
   ]
  },
  {
   "cell_type": "code",
   "execution_count": 232,
   "id": "08529534",
   "metadata": {},
   "outputs": [
    {
     "data": {
      "text/plain": [
       "(61, 5)"
      ]
     },
     "execution_count": 232,
     "metadata": {},
     "output_type": "execute_result"
    }
   ],
   "source": [
    "final_predicted_dataset.shape"
   ]
  },
  {
   "cell_type": "code",
   "execution_count": 233,
   "id": "b2f92b06",
   "metadata": {},
   "outputs": [],
   "source": [
    "#final_predicted_dataset.to_excel('final_predicted_dataset.xlsx')"
   ]
  }
 ],
 "metadata": {
  "kernelspec": {
   "display_name": "Python 3",
   "language": "python",
   "name": "python3"
  },
  "language_info": {
   "codemirror_mode": {
    "name": "ipython",
    "version": 3
   },
   "file_extension": ".py",
   "mimetype": "text/x-python",
   "name": "python",
   "nbconvert_exporter": "python",
   "pygments_lexer": "ipython3",
   "version": "3.8.8"
  }
 },
 "nbformat": 4,
 "nbformat_minor": 5
}
